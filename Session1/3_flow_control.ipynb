{
 "cells": [
  {
   "cell_type": "markdown",
   "metadata": {},
   "source": [
    "## Flow Control"
   ]
  },
  {
   "cell_type": "markdown",
   "metadata": {},
   "source": [
    "Computer code is a sequence of instructions that are executed in a defined order. Often, we want the order of execution to be flexible depending on context - what the code just did, the outputs generated etc. There are a number of **flow control structures** we can implement in Python to introduce more complex structure to our code, which makes it more useful and powerful."
   ]
  },
  {
   "cell_type": "markdown",
   "metadata": {},
   "source": [
    "In this course, we will focus on the two most common flow control structures - *'if statements'* and *'for loops'*. First though, we need to understand a more low-level but equally important structure that is applied to all flow control structures: *'code blocks'*."
   ]
  },
  {
   "cell_type": "markdown",
   "metadata": {},
   "source": [
    "### Code Blocks"
   ]
  },
  {
   "cell_type": "markdown",
   "metadata": {},
   "source": [
    "In Python, a **block** is defined with **indentation** (the left alignment of instructions). Blocks introduce hierarchy to code: each sub-block *'answers to'* the blocks that came before it. Blocks are fundamental to flow control as we will see.\n",
    "\n",
    "<img src=\"../images/s1_block.png\" width=300>"
   ]
  },
  {
   "cell_type": "markdown",
   "metadata": {},
   "source": [
    "- Each line must either start with code, or be indented like the previous line. It is illegal to have lines that begin with spaces unless they are in a block.\n",
    "- In Python, indentation is done with a <kbd>⇥</kbd> (the tab key) (that are converted into with 4 <kbd>space</kbd>). To indent code we always use <kbd>⇥</kbd> (the tab key)."
   ]
  },
  {
   "cell_type": "markdown",
   "metadata": {},
   "source": [
    "### If statements\n",
    "**If statements** select code to execute based on the value of a specified boolean expression - i.e. is the expression True or False. \n",
    "\n",
    "<img src=\"../images/s1_ifelse.png\" width=300 />"
   ]
  },
  {
   "cell_type": "markdown",
   "metadata": {},
   "source": [
    "The simplest form has just one condition after the `if` keyword. The subsequent code block will be executed if that condition is satisfied (if it is True), otherwise the code block will be skipped."
   ]
  },
  {
   "cell_type": "code",
   "execution_count": 1,
   "metadata": {},
   "outputs": [],
   "source": [
    "x = 3 \n",
    "y = 4\n",
    "if x < y:    # code block 1; the colon at the end is required to execute the code\n",
    "    print(\"y is greater\")    # code block 2"
   ]
  },
  {
   "cell_type": "markdown",
   "metadata": {},
   "source": [
    "When defining conditions in if statements, it can be useful to combine conditions with `and`, `or`, and `not`, using the principles of boolean algebra that we discussed in the 2nd notebook."
   ]
  },
  {
   "cell_type": "code",
   "execution_count": 2,
   "metadata": {},
   "outputs": [],
   "source": [
    "if x < y and x == 3:\n",
    "    # here we use the '%' key to include the value of x (an integer, 'i') in the string:\n",
    "    print(\"y is greater than %i\" %x) "
   ]
  },
  {
   "cell_type": "markdown",
   "metadata": {},
   "source": [
    "We can also include the `elif` keyword with an alternative condition. If the first condition is False and the second condition is True, the second code block will be executed:"
   ]
  },
  {
   "cell_type": "code",
   "execution_count": 3,
   "metadata": {},
   "outputs": [],
   "source": [
    "a = 5 \n",
    "b = 5\n",
    "if a > b:\n",
    "    print(\"a is greater\")      # first code block\n",
    "elif a == b:\n",
    "    print(\"values are equal\")  # alternative code block"
   ]
  },
  {
   "cell_type": "markdown",
   "metadata": {},
   "source": [
    "We can also add a 'last resort' code block by using the `else` keyword. This block of code will be executed if none of the previous conditions evaluate to True:"
   ]
  },
  {
   "cell_type": "code",
   "execution_count": 4,
   "metadata": {},
   "outputs": [],
   "source": [
    "v = 9\n",
    "w = 10\n",
    "if v > w:\n",
    "    print(\"v is greater\")      # first branch\n",
    "elif v == w:\n",
    "    print(\"both values are equal\")  # alternative branch\n",
    "else: \n",
    "    print(\"last resort, w must be greater\")      # last resort"
   ]
  },
  {
   "cell_type": "markdown",
   "metadata": {},
   "source": [
    "We can use as many `elif` statements as we need to - we are not limited to using only one. "
   ]
  },
  {
   "cell_type": "code",
   "execution_count": 5,
   "metadata": {},
   "outputs": [],
   "source": [
    "x = -35\n",
    "y = 10\n",
    "\n",
    "if x > 0 and y > 0:\n",
    "    print('x and y are both positive')\n",
    "elif x > 0 and y < 0:\n",
    "    print('x is positive and y is negative')\n",
    "elif x < 0 and y > 0:\n",
    "    print('x is negative and y is positive')\n",
    "elif x < 0 and y < 0:\n",
    "    print('x and y are both negative')\n",
    "else:\n",
    "    print('x or y is equal to zero')"
   ]
  },
  {
   "cell_type": "markdown",
   "metadata": {},
   "source": [
    "### For loops"
   ]
  },
  {
   "cell_type": "markdown",
   "metadata": {},
   "source": [
    "**For loops** iterate over a sequence and repeatedly apply a block of code to each item in the sequence. They can be applied to the items in any ordered sequence - e.g. elements within a list, or the output of a function.\n",
    "\n",
    "<img src=\"../images/s1_forloop.png\" width=400 />"
   ]
  },
  {
   "cell_type": "markdown",
   "metadata": {},
   "source": [
    "For loops not only save us masses of time, they are also very flexible:\n",
    "- Any block of code can be repeated as many times as is necessary.\n",
    "- Your code is far more concise than if you didn't use them.\n",
    "- They can handle inputs of variable sizes - there is no need to adjust your code if an input size changes."
   ]
  },
  {
   "cell_type": "markdown",
   "metadata": {},
   "source": [
    "The basic syntax of a `for` loop is: \n",
    "\n",
    "- for `variable` in `list`:\n",
    "    - do something with `variable`\n",
    "    \n",
    "The name assigned to `variable` can be anything - Python understands that it simply represents an element within the list and will use this context accordingly."
   ]
  },
  {
   "cell_type": "code",
   "execution_count": 6,
   "metadata": {},
   "outputs": [],
   "source": [
    "bed_dips = [12,4,34,66,85,25,9]\n",
    "\n",
    "for dip in bed_dips:\n",
    "    print(dip)"
   ]
  },
  {
   "cell_type": "markdown",
   "metadata": {},
   "source": [
    "**Numeric Ranges**: To iterate over a sequence of numbers, the built-in function *range()* is frequently used within a for loop to generate arithmetic integer sequences. It can be used in several different ways:"
   ]
  },
  {
   "cell_type": "code",
   "execution_count": 7,
   "metadata": {},
   "outputs": [],
   "source": [
    "# Iterate over a sequence starting at 0 and ending before 4:\n",
    "for i in range(4):\n",
    "    print(i)"
   ]
  },
  {
   "cell_type": "code",
   "execution_count": 8,
   "metadata": {},
   "outputs": [],
   "source": [
    "# Iterate over a sequence starting at 3 and ending before 8:\n",
    "for i in range(3,8):\n",
    "    print(i)"
   ]
  },
  {
   "cell_type": "code",
   "execution_count": 9,
   "metadata": {},
   "outputs": [],
   "source": [
    "# Iterate over a sequence starting at 5, ending before 20, \n",
    "# and incrementing by 4 at each step:\n",
    "for i in range(5,20,4):\n",
    "    print(i)"
   ]
  },
  {
   "cell_type": "markdown",
   "metadata": {},
   "source": [
    "We can also include a negative step size, where we start at a larger number and end before a smaller number."
   ]
  },
  {
   "cell_type": "code",
   "execution_count": 10,
   "metadata": {},
   "outputs": [],
   "source": [
    "# Start at 40, ending before 20, and decrementing by 5 each time (i.e adding -5):\n",
    "for i in range(40,20,-5):\n",
    "    print(i)"
   ]
  },
  {
   "cell_type": "markdown",
   "metadata": {},
   "source": [
    "Note that the output of *range()* is not actually a list. If we want to convert it to one, we need to call the *list()* function:"
   ]
  },
  {
   "cell_type": "code",
   "execution_count": 11,
   "metadata": {},
   "outputs": [],
   "source": [
    "list(range(5,20,4))"
   ]
  },
  {
   "cell_type": "code",
   "execution_count": 12,
   "metadata": {},
   "outputs": [],
   "source": [
    "for d in range(len(bed_dips)):\n",
    "    print('dip no.', d+1, ' = ' ,bed_dips[d])"
   ]
  },
  {
   "cell_type": "markdown",
   "metadata": {},
   "source": [
    "### For and if\n",
    "In many situations, it is useful to combine `for` loops with `if` statements.\n"
   ]
  },
  {
   "cell_type": "code",
   "execution_count": 13,
   "metadata": {},
   "outputs": [],
   "source": [
    "for d in bed_dips:\n",
    "    print('dip =',d)\n",
    "    if d > 80:\n",
    "        print('bedding is sub-vertical')\n",
    "    elif d < 80 and d > 45:\n",
    "        print('bedding is steeply dipping')\n",
    "    elif d < 45 and d > 5:\n",
    "        print('bedding is dipping shallowly')\n",
    "    else:\n",
    "        print('bedding is sub-horizontal')"
   ]
  },
  {
   "cell_type": "markdown",
   "metadata": {},
   "source": [
    "### Saving results of a for loop"
   ]
  },
  {
   "cell_type": "markdown",
   "metadata": {},
   "source": [
    "Usually, just printing the results of a for loop is not as useful as saving them for later. You can use `list_name.append(element)` to add an element to a list."
   ]
  },
  {
   "cell_type": "code",
   "execution_count": 8,
   "metadata": {},
   "outputs": [
    {
     "name": "stdout",
     "output_type": "stream",
     "text": [
      "[94, 235, 113, 75, 309, 346]\n"
     ]
    }
   ],
   "source": [
    "bed_strike = ['004', '145', '023', '345', '219', '256']\n",
    "poles2bedding = [] # empty list for writing new output into\n",
    "\n",
    "for s in bed_strike:\n",
    "    p = int(s) + 90 # calculate pole to bedding\n",
    "    if p > 360: # keep poles within the projection of a sphere\n",
    "        p = p - 360\n",
    "    poles2bedding.append(p)\n",
    "    \n",
    "print(poles2bedding)"
   ]
  },
  {
   "cell_type": "markdown",
   "metadata": {},
   "source": [
    "This can also be done using [list comprehension](https://docs.python.org/3/tutorial/datastructures.html#list-comprehensions), which is a very concise and 'pythonic' method:"
   ]
  },
  {
   "cell_type": "code",
   "execution_count": 10,
   "metadata": {},
   "outputs": [
    {
     "data": {
      "text/plain": [
       "[94, 235, 113, 75, 309, 346]"
      ]
     },
     "execution_count": 10,
     "metadata": {},
     "output_type": "execute_result"
    }
   ],
   "source": [
    "poles2bedding = [(int(s) + 90) - 360 if (int(s)+90) > 360 else int(s) + 90 for s in bed_strike]\n",
    "poles2bedding"
   ]
  },
  {
   "cell_type": "markdown",
   "metadata": {},
   "source": [
    "End of notebook."
   ]
  }
 ],
 "metadata": {
  "kernelspec": {
   "display_name": "Python 3",
   "language": "python",
   "name": "python3"
  },
  "language_info": {
   "codemirror_mode": {
    "name": "ipython",
    "version": 3
   },
   "file_extension": ".py",
   "mimetype": "text/x-python",
   "name": "python",
   "nbconvert_exporter": "python",
   "pygments_lexer": "ipython3",
   "version": "3.8.5"
  }
 },
 "nbformat": 4,
 "nbformat_minor": 1
}
