{
 "cells": [
  {
   "cell_type": "markdown",
   "metadata": {},
   "source": [
    "## Functions"
   ]
  },
  {
   "cell_type": "markdown",
   "metadata": {
    "collapsed": true
   },
   "source": [
    "### Calling Functions"
   ]
  },
  {
   "cell_type": "markdown",
   "metadata": {},
   "source": [
    "Functions in Python are used to encapsulate code. They are run only when you call them with parenthesis notation, specifiying zero or more input arguments."
   ]
  },
  {
   "cell_type": "code",
   "execution_count": 1,
   "metadata": {},
   "outputs": [
    {
     "name": "stdout",
     "output_type": "stream",
     "text": [
      "This is a test\n"
     ]
    }
   ],
   "source": [
    "print(\"This is a test\") "
   ]
  },
  {
   "cell_type": "markdown",
   "metadata": {},
   "source": [
    "In many cases, functions will return a value as an output:"
   ]
  },
  {
   "cell_type": "code",
   "execution_count": 2,
   "metadata": {},
   "outputs": [
    {
     "name": "stdout",
     "output_type": "stream",
     "text": [
      "15\n"
     ]
    }
   ],
   "source": [
    "x = abs(-15)   # call built-in absolute value function\n",
    "print(x)"
   ]
  },
  {
   "cell_type": "markdown",
   "metadata": {},
   "source": [
    "To get information about a built-in function in Python, call the *help()* function and pass the function name:"
   ]
  },
  {
   "cell_type": "code",
   "execution_count": 3,
   "metadata": {},
   "outputs": [
    {
     "name": "stdout",
     "output_type": "stream",
     "text": [
      "Help on built-in function abs in module builtins:\n",
      "\n",
      "abs(x, /)\n",
      "    Return the absolute value of the argument.\n",
      "\n"
     ]
    }
   ],
   "source": [
    "help(abs)"
   ]
  },
  {
   "cell_type": "markdown",
   "metadata": {},
   "source": [
    "## Some very useful built-in Python functions"
   ]
  },
  {
   "cell_type": "markdown",
   "metadata": {},
   "source": [
    "We've covered some of these already, but it's worth making sure you understand how they work as you will use them time and again when you're writing your own codes. See [here](https://docs.python.org/3/library/functions.html) for all the built-in Python functions and instructions on how to use each one."
   ]
  },
  {
   "cell_type": "markdown",
   "metadata": {},
   "source": [
    "### print\n",
    "I guarantee you will use `print()` whenever you code anything. See [here](https://realpython.com/python-print/) for an in-depth guide to using it. Quick example:"
   ]
  },
  {
   "cell_type": "code",
   "execution_count": 4,
   "metadata": {},
   "outputs": [
    {
     "name": "stdout",
     "output_type": "stream",
     "text": [
      "Sam is 24 years old\n",
      "Rowan is 56 years old\n",
      "Aran is 13 years old\n",
      "Juanita is 32 years old\n"
     ]
    }
   ],
   "source": [
    "names = ['Sam','Rowan','Aran','Juanita']\n",
    "ages = [24,56,13,32]\n",
    "\n",
    "for x in range(len(names)):\n",
    "    print(names[x], 'is', ages[x], 'years old')"
   ]
  },
  {
   "cell_type": "markdown",
   "metadata": {},
   "source": [
    "### len\n",
    "We used `len()` in the `print()` example above; it's pretty self-explanatory, I think you probably get the idea."
   ]
  },
  {
   "cell_type": "markdown",
   "metadata": {},
   "source": [
    "### range\n",
    "Technically, `range()` is not actually a function, but a *'sequence of numbers of fixed value'*. However, since the values taken by the numbers vary depending on how you define `range()`, it's easier to understand it as a function. "
   ]
  },
  {
   "cell_type": "code",
   "execution_count": 5,
   "metadata": {},
   "outputs": [
    {
     "name": "stdout",
     "output_type": "stream",
     "text": [
      "[23, 30, 37, 44, 51, 58, 65, 72, 79, 86, 93, 100, 107, 114, 121, 128, 135]\n"
     ]
    }
   ],
   "source": [
    "x = list(range(23,136,7))\n",
    "print(x)"
   ]
  },
  {
   "cell_type": "markdown",
   "metadata": {},
   "source": [
    "### type & converting between types\n",
    "Something you're certain to be doing a lot of regardless of the problem at hand is dealing with multiple data types, so I'll just review this again. "
   ]
  },
  {
   "cell_type": "code",
   "execution_count": 6,
   "metadata": {},
   "outputs": [
    {
     "name": "stdout",
     "output_type": "stream",
     "text": [
      "<class 'list'>\n",
      "<class 'str'>\n"
     ]
    }
   ],
   "source": [
    "print(type(names))\n",
    "print(type(names[0]))"
   ]
  },
  {
   "cell_type": "code",
   "execution_count": 7,
   "metadata": {},
   "outputs": [
    {
     "name": "stdout",
     "output_type": "stream",
     "text": [
      "float: 24.0\n",
      "string: 24\n",
      "integer (original): 24\n",
      "float: 56.0\n",
      "string: 56\n",
      "integer (original): 56\n",
      "float: 13.0\n",
      "string: 13\n",
      "integer (original): 13\n",
      "float: 32.0\n",
      "string: 32\n",
      "integer (original): 32\n"
     ]
    }
   ],
   "source": [
    "for x in ages:\n",
    "    print('float:',float(x))\n",
    "    print('string:',str(x))\n",
    "    print('integer (original):', int(x))"
   ]
  },
  {
   "cell_type": "markdown",
   "metadata": {},
   "source": [
    "### sorted\n",
    "Sorting data is a very useful thing to be able to do. See [here](https://docs.python.org/3/howto/sorting.html) for the lowdown on exactly how this works in Python."
   ]
  },
  {
   "cell_type": "code",
   "execution_count": 8,
   "metadata": {},
   "outputs": [
    {
     "name": "stdout",
     "output_type": "stream",
     "text": [
      "['Aran', 'Juanita', 'Rowan', 'Sam']\n",
      "[13, 24, 32, 56]\n"
     ]
    }
   ],
   "source": [
    "print(sorted(names))\n",
    "print(sorted(ages))"
   ]
  },
  {
   "cell_type": "markdown",
   "metadata": {},
   "source": [
    "### max, min, sum\n",
    "Pretty self-explanatory what these do."
   ]
  },
  {
   "cell_type": "code",
   "execution_count": 9,
   "metadata": {
    "scrolled": true
   },
   "outputs": [
    {
     "name": "stdout",
     "output_type": "stream",
     "text": [
      "youngest: 13\n",
      "oldest: 56\n",
      "total: 125\n"
     ]
    }
   ],
   "source": [
    "print('youngest:', min(ages))\n",
    "print('oldest:', max(ages))\n",
    "print('total:', sum(ages))"
   ]
  },
  {
   "cell_type": "markdown",
   "metadata": {},
   "source": [
    "### append\n",
    "Add another element to the end of a list."
   ]
  },
  {
   "cell_type": "code",
   "execution_count": 10,
   "metadata": {},
   "outputs": [
    {
     "name": "stdout",
     "output_type": "stream",
     "text": [
      "['Sam', 'Rowan', 'Aran', 'Juanita', 'Hussam']\n"
     ]
    }
   ],
   "source": [
    "names.append('Hussam')\n",
    "print(names)"
   ]
  },
  {
   "cell_type": "markdown",
   "metadata": {},
   "source": [
    "### enumerate\n",
    "`enumerate()` derives a counter from the elements in a list using their index, so it's an incredibly useful tool to use in looping. For example:"
   ]
  },
  {
   "cell_type": "code",
   "execution_count": 11,
   "metadata": {},
   "outputs": [
    {
     "name": "stdout",
     "output_type": "stream",
     "text": [
      "Sam is 24 years old\n",
      "Rowan is 56 years old\n",
      "Aran is 13 years old\n",
      "Juanita is 32 years old\n"
     ]
    },
    {
     "ename": "IndexError",
     "evalue": "list index out of range",
     "output_type": "error",
     "traceback": [
      "\u001b[1;31m---------------------------------------------------------------------------\u001b[0m",
      "\u001b[1;31mIndexError\u001b[0m                                Traceback (most recent call last)",
      "\u001b[1;32m<ipython-input-11-2ee47054d59f>\u001b[0m in \u001b[0;36m<module>\u001b[1;34m\u001b[0m\n\u001b[0;32m      1\u001b[0m \u001b[1;32mfor\u001b[0m \u001b[0mcount\u001b[0m\u001b[1;33m,\u001b[0m \u001b[0mname\u001b[0m \u001b[1;32min\u001b[0m \u001b[0menumerate\u001b[0m\u001b[1;33m(\u001b[0m\u001b[0mnames\u001b[0m\u001b[1;33m)\u001b[0m\u001b[1;33m:\u001b[0m\u001b[1;33m\u001b[0m\u001b[1;33m\u001b[0m\u001b[0m\n\u001b[1;32m----> 2\u001b[1;33m     \u001b[0mprint\u001b[0m\u001b[1;33m(\u001b[0m\u001b[0mname\u001b[0m\u001b[1;33m,\u001b[0m \u001b[1;34m'is'\u001b[0m\u001b[1;33m,\u001b[0m \u001b[0mages\u001b[0m\u001b[1;33m[\u001b[0m\u001b[0mcount\u001b[0m\u001b[1;33m]\u001b[0m\u001b[1;33m,\u001b[0m \u001b[1;34m'years old'\u001b[0m\u001b[1;33m)\u001b[0m\u001b[1;33m\u001b[0m\u001b[1;33m\u001b[0m\u001b[0m\n\u001b[0m",
      "\u001b[1;31mIndexError\u001b[0m: list index out of range"
     ]
    }
   ],
   "source": [
    "for count, name in enumerate(names):\n",
    "    print(name, 'is', ages[count], 'years old')"
   ]
  },
  {
   "cell_type": "markdown",
   "metadata": {},
   "source": [
    "Since we added another name to the 'names' list earlier, we get an indexing error when we run out of ages. \n",
    "\n",
    "`enumerate()` produces an *'enumerate object'*, which is a pair of the index and variable for each element in the list. This needs to be converted to a list by using the `list()` function for printing etc. This aspect is similar to `zip()` (described below)."
   ]
  },
  {
   "cell_type": "code",
   "execution_count": null,
   "metadata": {},
   "outputs": [],
   "source": [
    "print(list(enumerate(names)))"
   ]
  },
  {
   "cell_type": "markdown",
   "metadata": {},
   "source": [
    "### zip\n",
    "The `zip()` function can be used to combine two *'iterables*' (something that you can iterate over, eg a list) and returns a new object which consists of *'tuples'* (pairs) of each input, indexed as they were in their original structures. Think of it like a zip on your jacket: it brings together two distinct entities, and joins the parts according to their position. However, unlike the jacket zip, `zip()` can be used on more than two iterables, resulting in tuples of more than two parts. See [here](https://realpython.com/python-zip-function/) for a more detailed explanation. "
   ]
  },
  {
   "cell_type": "code",
   "execution_count": null,
   "metadata": {},
   "outputs": [],
   "source": [
    "person_data = zip(names,ages)\n",
    "\n",
    "# zip function returns a 'zip object': need to convert to a list to use later.\n",
    "print(list(person_data))\n",
    "\n",
    "# each pair is a tuple, eg tuple[0] is ('Sam', 24)"
   ]
  },
  {
   "cell_type": "markdown",
   "metadata": {},
   "source": [
    "the number of pairs that `zip()` returns will be equal to the length of the shortest iterable: although we appended an extra name to the 'names' list earlier, since it has no corresponding age in 'ages' it isn't zipped. "
   ]
  },
  {
   "cell_type": "markdown",
   "metadata": {},
   "source": [
    "### Defining Your Own Functions"
   ]
  },
  {
   "cell_type": "markdown",
   "metadata": {},
   "source": [
    "We create new a function in Python using the *def* keyword, followed by a block of code. To define a function we need:\n",
    "- A function name\n",
    "- Zero or more input arguments\n",
    "- An optional output value, specified via return keyword\n",
    "- A block of code"
   ]
  },
  {
   "cell_type": "markdown",
   "metadata": {},
   "source": [
    "**Arguments**: In the simplest case, we have no input arguments and nothing returned. We define a function by starting with *def*, followed by the name of the function, followed by parentheses, then a colon, and finally by the indented block of code which implements the function."
   ]
  },
  {
   "cell_type": "code",
   "execution_count": null,
   "metadata": {},
   "outputs": [],
   "source": [
    "def show_message():\n",
    "    print(\"This will just display a message\")"
   ]
  },
  {
   "cell_type": "markdown",
   "metadata": {},
   "source": [
    "Functions usually take at least one argument. For functions taking multiple arguments, these are specified as a comma-separated list:"
   ]
  },
  {
   "cell_type": "code",
   "execution_count": null,
   "metadata": {},
   "outputs": [],
   "source": [
    "def show_age(name, age):\n",
    "    print(name, \"is\", age, \"years old\")"
   ]
  },
  {
   "cell_type": "code",
   "execution_count": null,
   "metadata": {},
   "outputs": [],
   "source": [
    "# zip objects and other python objects are not retained in memory - \n",
    "# better to create a list from the start...\n",
    "person_data = list(zip(names,ages))\n",
    "\n",
    "# calling your own function iteratively in a loop:\n",
    "for (x, y) in person_data:\n",
    "    show_age(x,y)"
   ]
  },
  {
   "cell_type": "markdown",
   "metadata": {},
   "source": [
    "### Returning Values"
   ]
  },
  {
   "cell_type": "markdown",
   "metadata": {},
   "source": [
    "A function returns the value you tell it to return via the *return* statement."
   ]
  },
  {
   "cell_type": "code",
   "execution_count": null,
   "metadata": {},
   "outputs": [],
   "source": [
    "def subtract(x, y):\n",
    "    return x - y    # return the value of this experssion"
   ]
  },
  {
   "cell_type": "code",
   "execution_count": null,
   "metadata": {},
   "outputs": [],
   "source": [
    "answer = subtract(30,112)   # call the function\n",
    "print(answer)"
   ]
  },
  {
   "cell_type": "markdown",
   "metadata": {},
   "source": [
    "Flow control can be implemented within a function:"
   ]
  },
  {
   "cell_type": "code",
   "execution_count": null,
   "metadata": {},
   "outputs": [],
   "source": [
    "def cube(x):\n",
    "    if x > 0:\n",
    "        return x**3\n",
    "    return x # final option here acts as an 'else' statement"
   ]
  },
  {
   "cell_type": "code",
   "execution_count": null,
   "metadata": {},
   "outputs": [],
   "source": [
    "cube(5)"
   ]
  },
  {
   "cell_type": "code",
   "execution_count": null,
   "metadata": {},
   "outputs": [],
   "source": [
    "cube(-5)"
   ]
  },
  {
   "cell_type": "markdown",
   "metadata": {},
   "source": [
    "If a function does not return a value, it automatically evaluates to *None*."
   ]
  },
  {
   "cell_type": "code",
   "execution_count": null,
   "metadata": {},
   "outputs": [],
   "source": [
    "x = show_message()"
   ]
  },
  {
   "cell_type": "code",
   "execution_count": null,
   "metadata": {},
   "outputs": [],
   "source": [
    "print(x)"
   ]
  },
  {
   "cell_type": "markdown",
   "metadata": {},
   "source": [
    "Python allows multiple values to be returned from a single function by separating the values with commas in the return statement. \n",
    "Multiple values are returned as a *'tuple'* (groups of values like those we encountered with `enumerate()` and `zip()` earlier)."
   ]
  },
  {
   "cell_type": "code",
   "execution_count": null,
   "metadata": {},
   "outputs": [],
   "source": [
    "def min_and_max(values):\n",
    "    vmin = min(values)\n",
    "    vmax = max(values)\n",
    "    return vmin, vmax    # return two values"
   ]
  },
  {
   "cell_type": "code",
   "execution_count": null,
   "metadata": {},
   "outputs": [],
   "source": [
    "result = min_and_max(ages)\n",
    "print(result)   # result is stored in a tuple"
   ]
  },
  {
   "cell_type": "markdown",
   "metadata": {},
   "source": [
    "Multiple variables can be assigned the multiple values returned by the function in a single statement. This is referred to as *unpacking*:"
   ]
  },
  {
   "cell_type": "code",
   "execution_count": null,
   "metadata": {},
   "outputs": [],
   "source": [
    "x, y = min_and_max(ages)  # put first value in x, put second value in y"
   ]
  },
  {
   "cell_type": "code",
   "execution_count": null,
   "metadata": {},
   "outputs": [],
   "source": [
    "print(x)\n",
    "print(y)"
   ]
  },
  {
   "cell_type": "markdown",
   "metadata": {},
   "source": [
    "### Function Composition & Recursion"
   ]
  },
  {
   "cell_type": "markdown",
   "metadata": {},
   "source": [
    "You can call one function from inside another. Several simple functions can be combined to create more complex ones."
   ]
  },
  {
   "cell_type": "code",
   "execution_count": null,
   "metadata": {},
   "outputs": [],
   "source": [
    "def square(x):\n",
    "    return x*x"
   ]
  },
  {
   "cell_type": "code",
   "execution_count": null,
   "metadata": {},
   "outputs": [],
   "source": [
    "def negative(x):\n",
    "    return -x"
   ]
  },
  {
   "cell_type": "code",
   "execution_count": null,
   "metadata": {},
   "outputs": [],
   "source": [
    "def calc_score(x, y):\n",
    "    a = square(x)\n",
    "    b = negative(y)\n",
    "    score = a + b\n",
    "    return score"
   ]
  },
  {
   "cell_type": "code",
   "execution_count": null,
   "metadata": {},
   "outputs": [],
   "source": [
    "calc_score(7,5)"
   ]
  },
  {
   "cell_type": "code",
   "execution_count": null,
   "metadata": {},
   "outputs": [],
   "source": [
    "calc_score(6,3)"
   ]
  },
  {
   "cell_type": "markdown",
   "metadata": {},
   "source": [
    "Recursive functions repeatedly call themselves either directly or indirectly in order to loop. "
   ]
  },
  {
   "cell_type": "code",
   "execution_count": null,
   "metadata": {},
   "outputs": [],
   "source": [
    "def mysum(l):\n",
    "    if len(l)==0:\n",
    "        return 0\n",
    "    return l[0] + mysum(l[1:])  # recusively call the function itself again"
   ]
  },
  {
   "cell_type": "code",
   "execution_count": null,
   "metadata": {},
   "outputs": [],
   "source": [
    "n = [1,2,3]\n",
    "mysum(n)"
   ]
  },
  {
   "cell_type": "code",
   "execution_count": null,
   "metadata": {},
   "outputs": [],
   "source": [
    "# you can also call a list within the function without defining it first\n",
    "mysum([2,4,6])"
   ]
  },
  {
   "cell_type": "markdown",
   "metadata": {},
   "source": [
    "End of notebook."
   ]
  }
 ],
 "metadata": {
  "anaconda-cloud": {},
  "kernelspec": {
   "display_name": "Python 3",
   "language": "python",
   "name": "python3"
  },
  "language_info": {
   "codemirror_mode": {
    "name": "ipython",
    "version": 3
   },
   "file_extension": ".py",
   "mimetype": "text/x-python",
   "name": "python",
   "nbconvert_exporter": "python",
   "pygments_lexer": "ipython3",
   "version": "3.8.5"
  }
 },
 "nbformat": 4,
 "nbformat_minor": 1
}
