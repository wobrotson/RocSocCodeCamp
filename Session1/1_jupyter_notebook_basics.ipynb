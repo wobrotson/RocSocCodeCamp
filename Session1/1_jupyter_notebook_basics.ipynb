{
 "cells": [
  {
   "cell_type": "markdown",
   "metadata": {},
   "source": [
    "## Jupyter Notebook Basics "
   ]
  },
  {
   "cell_type": "markdown",
   "metadata": {},
   "source": [
    "Jupyter Notebooks have two fundamental types of cells:\n",
    "1. *Code cells*: allow us to type and run Python code. \n",
    "2. *Markdown cells*: contain text content for explaining what is going on in the notebook - useful to make the notebook presentable and understandable. Think of it like 'word documents for coding'."
   ]
  },
  {
   "cell_type": "markdown",
   "metadata": {},
   "source": [
    "There are two modes of activation for a cell in Jupyter notebooks: \n",
    "1. *Active (editing) mode* - the cell has a green outline.\n",
    "2. *Command (executing) mode* - the cell has a blue outline.\n",
    "\n",
    "Click on a code cell to enter active mode and edit cell content. If you want to edit a markdown cell, double click to enter active mode (it will change from blue to green). To go from active mode (green) to command mode (blue), hit the <kbd>Esc</kbd> escape key."
   ]
  },
  {
   "cell_type": "markdown",
   "metadata": {},
   "source": [
    "### Code Cells"
   ]
  },
  {
   "cell_type": "markdown",
   "metadata": {},
   "source": [
    "Code cells are the default cell type in Jupyter Notebooks and appear below in grey. You can create Python code in a code cell by hitting Shift-Enter or by pressing the ‘Play‘ button in the toolbar. You can modify and re-run code cells multiple times in any order. Add new code cells using the 'plus' (+) button in the toolbar above, or by hitting 'B' to create a cell below (when in command/blue mode)."
   ]
  },
  {
   "cell_type": "markdown",
   "metadata": {},
   "source": [
    "When a code cell is executed, the code that it contains is sent to the ‘kernel‘ associated with the notebook (i.e. the Python engine running in the background). The results that are returned from this computation are then displayed in the notebook as the cell’s output. Note that some code will not have an output. \n",
    "\n",
    "In Python, the use of the hash `#` key before text in a code cell means that this text will not be interpreted by the computer as code, and is simply raw text. This is very useful for leaving comments in your notebook for others to follow and understand what you are doing at each step, a very important habit to get into.\n",
    "\n",
    "An additional habit that may help you in the future when debugging/asking for help is to show line numbers in your code cells, which are not shown by default in Jupyter notebook in contrast to other coding environments. The simplest way to show line numbers for a code cell is to press the <kbd>L</kbd> key when you are in 'command mode' (have the cell highlighted in blue). "
   ]
  },
  {
   "cell_type": "code",
   "execution_count": null,
   "metadata": {},
   "outputs": [],
   "source": [
    "3 + 4   # output is the result"
   ]
  },
  {
   "cell_type": "code",
   "execution_count": null,
   "metadata": {},
   "outputs": [],
   "source": [
    "x = 324  # no output generated here"
   ]
  },
  {
   "cell_type": "code",
   "execution_count": null,
   "metadata": {},
   "outputs": [],
   "source": [
    "print(x)  # output is produced by the print function"
   ]
  },
  {
   "cell_type": "code",
   "execution_count": null,
   "metadata": {},
   "outputs": [],
   "source": [
    "x # output is the variable x - we will cover variables in the next notebook "
   ]
  },
  {
   "cell_type": "markdown",
   "metadata": {
    "collapsed": true
   },
   "source": [
    "### Markdown Cells"
   ]
  },
  {
   "cell_type": "markdown",
   "metadata": {},
   "source": [
    "Another way of providing explanatory text in notebooks is to use [Markdown](http://daringfireball.net/projects/markdown/) cells, which render stylised text (like MS word but in a browser). To change a code cell to a Markdown cell, choose the cell dropdown list in the toolbar and set the type to ‘Markdown’. Alternatively, when the code cell is in command mode (highlighted in blue), hit 'M' to change the cell to Markdown."
   ]
  },
  {
   "cell_type": "markdown",
   "metadata": {},
   "source": [
    "**Paragraphs**: Paragraphs in Markdown are just one or more lines of consecutive text followed by one or more blank lines, as you would do in a word document or other text editor. Have a go yourself in the cell below (double click to enter active mode):"
   ]
  },
  {
   "cell_type": "markdown",
   "metadata": {},
   "source": [
    "This is a paragraph of text.\n",
    "\n",
    "This is another paragraph of text"
   ]
  },
  {
   "cell_type": "markdown",
   "metadata": {},
   "source": [
    "**Styling Text**: We can create a heading by adding one or more `#` symbols before the heading text. The number of `#`'s used will determine the size of the font."
   ]
  },
  {
   "cell_type": "markdown",
   "metadata": {},
   "source": [
    "# Heading 1\n",
    "## Heading 2\n",
    "### Heading 3\n",
    "#### Heading 4"
   ]
  },
  {
   "cell_type": "markdown",
   "metadata": {},
   "source": [
    "You can format text as *italic* or **bold** using one or two `*`'s respectively."
   ]
  },
  {
   "cell_type": "markdown",
   "metadata": {},
   "source": [
    "This is normal text\n",
    "*This text will be in italics*\n",
    "**And this text will be in bold**"
   ]
  },
  {
   "cell_type": "markdown",
   "metadata": {},
   "source": [
    "**Unordered lists**: We can make an unordered (bulleted) list by prefixing lines with either the `*` or `-` character."
   ]
  },
  {
   "cell_type": "markdown",
   "metadata": {},
   "source": [
    "* My item\n",
    "* Another item\n",
    "* Yet another item"
   ]
  },
  {
   "cell_type": "markdown",
   "metadata": {},
   "source": [
    "- My item\n",
    "- Another item\n",
    "- Yet another item"
   ]
  },
  {
   "cell_type": "markdown",
   "metadata": {},
   "source": [
    "**Ordered lists**: We can make an ordered (numbered) list by prefixing lines with a number."
   ]
  },
  {
   "cell_type": "markdown",
   "metadata": {},
   "source": [
    "1. My first item\n",
    "2. Next item\n",
    "3. Final item"
   ]
  },
  {
   "cell_type": "markdown",
   "metadata": {},
   "source": [
    "**Hyperlinks**: create a hyperlink by wrapping text in square brackets `[ ]` and then wrapping the link in parentheses `( )`."
   ]
  },
  {
   "cell_type": "markdown",
   "metadata": {},
   "source": [
    "Go to the [CodeCamp repository on GitHub](https://github.com/wobrotson/RocSocCodeCamp)"
   ]
  },
  {
   "cell_type": "markdown",
   "metadata": {},
   "source": [
    "### Keyboard Shortcuts"
   ]
  },
  {
   "cell_type": "markdown",
   "metadata": {},
   "source": [
    "Jupyter Notebooks have many keyboard shortcuts that it is worth getting familiar with to speed up your coding - view a list of these [here](https://cheatography.com/weidadeyue/cheat-sheets/jupyter-notebook/pdf_bw/)."
   ]
  }
 ],
 "metadata": {
  "kernelspec": {
   "display_name": "Python 3",
   "language": "python",
   "name": "python3"
  },
  "language_info": {
   "codemirror_mode": {
    "name": "ipython",
    "version": 3
   },
   "file_extension": ".py",
   "mimetype": "text/x-python",
   "name": "python",
   "nbconvert_exporter": "python",
   "pygments_lexer": "ipython3",
   "version": "3.8.5"
  }
 },
 "nbformat": 4,
 "nbformat_minor": 1
}
