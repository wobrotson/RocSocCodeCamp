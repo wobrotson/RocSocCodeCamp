{
 "cells": [
  {
   "cell_type": "markdown",
   "metadata": {},
   "source": [
    "## Coding exercise"
   ]
  },
  {
   "cell_type": "markdown",
   "metadata": {},
   "source": [
    "### Objective: Import well log data and create a new lithology curve log"
   ]
  },
  {
   "cell_type": "markdown",
   "metadata": {},
   "source": [
    "The well log we will use is part of the test datasets available on the Quantitative Seismic Interpretation book website:\n",
    "\n",
    "https://srb.stanford.edu/quantitative-seismic-interpretation\n",
    "\n",
    "We will use \"Well 2\", contained in the \"Project Data\" zipfile (`qsiwell2.csv`).\n",
    "\n",
    "__Objective:__"
   ]
  },
  {
   "cell_type": "code",
   "execution_count": 1,
   "metadata": {},
   "outputs": [],
   "source": [
    "import numpy as np\n",
    "import matplotlib.pyplot as plt\n",
    "import matplotlib.colors as colors\n",
    "\n",
    "#Note the use of the Pandas library to digest log data\n",
    "import pandas as pd\n",
    "\n",
    "%matplotlib inline"
   ]
  },
  {
   "cell_type": "markdown",
   "metadata": {},
   "source": [
    "### Part 1 - Loading and getting to know your data with Pandas\n",
    "\n",
    "Let's load `qsiwell2.csv` into the [Pandas DataFrame](http://pandas.pydata.org/pandas-docs/dev/dsintro.html#dataframe) `L`:"
   ]
  },
  {
   "cell_type": "code",
   "execution_count": 2,
   "metadata": {},
   "outputs": [],
   "source": [
    "L=pd.read_csv('qsiwell2.csv', index_col=0)"
   ]
  },
  {
   "cell_type": "markdown",
   "metadata": {},
   "source": [
    "To check what's now inside `L`:"
   ]
  },
  {
   "cell_type": "code",
   "execution_count": 3,
   "metadata": {},
   "outputs": [
    {
     "name": "stdout",
     "output_type": "stream",
     "text": [
      "Index(['VP', 'VS', 'RHO_OLD', 'GR', 'NPHI', 'RHO', 'SWE', 'SWX', 'VPVS', 'IP',\n",
      "       'IS', 'VSH', 'RHOm', 'RHOf', 'PHIE'],\n",
      "      dtype='object')\n"
     ]
    },
    {
     "data": {
      "text/html": [
       "<div>\n",
       "<style scoped>\n",
       "    .dataframe tbody tr th:only-of-type {\n",
       "        vertical-align: middle;\n",
       "    }\n",
       "\n",
       "    .dataframe tbody tr th {\n",
       "        vertical-align: top;\n",
       "    }\n",
       "\n",
       "    .dataframe thead th {\n",
       "        text-align: right;\n",
       "    }\n",
       "</style>\n",
       "<table border=\"1\" class=\"dataframe\">\n",
       "  <thead>\n",
       "    <tr style=\"text-align: right;\">\n",
       "      <th></th>\n",
       "      <th>VP</th>\n",
       "      <th>VS</th>\n",
       "      <th>RHO_OLD</th>\n",
       "      <th>GR</th>\n",
       "      <th>NPHI</th>\n",
       "      <th>RHO</th>\n",
       "      <th>SWE</th>\n",
       "      <th>SWX</th>\n",
       "      <th>VPVS</th>\n",
       "      <th>IP</th>\n",
       "      <th>IS</th>\n",
       "      <th>VSH</th>\n",
       "      <th>RHOm</th>\n",
       "      <th>RHOf</th>\n",
       "      <th>PHIE</th>\n",
       "    </tr>\n",
       "    <tr>\n",
       "      <th>DEPTH</th>\n",
       "      <th></th>\n",
       "      <th></th>\n",
       "      <th></th>\n",
       "      <th></th>\n",
       "      <th></th>\n",
       "      <th></th>\n",
       "      <th></th>\n",
       "      <th></th>\n",
       "      <th></th>\n",
       "      <th></th>\n",
       "      <th></th>\n",
       "      <th></th>\n",
       "      <th></th>\n",
       "      <th></th>\n",
       "      <th></th>\n",
       "    </tr>\n",
       "  </thead>\n",
       "  <tbody>\n",
       "    <tr>\n",
       "      <th>2013.2528</th>\n",
       "      <td>2294.7</td>\n",
       "      <td>876.9</td>\n",
       "      <td>1.9972</td>\n",
       "      <td>91.8785</td>\n",
       "      <td>0.4908</td>\n",
       "      <td>NaN</td>\n",
       "      <td>NaN</td>\n",
       "      <td>NaN</td>\n",
       "      <td>2.616832</td>\n",
       "      <td>NaN</td>\n",
       "      <td>NaN</td>\n",
       "      <td>0.493621</td>\n",
       "      <td>2.728979</td>\n",
       "      <td>NaN</td>\n",
       "      <td>NaN</td>\n",
       "    </tr>\n",
       "    <tr>\n",
       "      <th>2013.4052</th>\n",
       "      <td>2296.7</td>\n",
       "      <td>943.0</td>\n",
       "      <td>2.0455</td>\n",
       "      <td>86.8004</td>\n",
       "      <td>0.4833</td>\n",
       "      <td>2.240104</td>\n",
       "      <td>1.0</td>\n",
       "      <td>1.0</td>\n",
       "      <td>2.435525</td>\n",
       "      <td>5144.846857</td>\n",
       "      <td>2112.418072</td>\n",
       "      <td>0.436010</td>\n",
       "      <td>2.719762</td>\n",
       "      <td>1.09</td>\n",
       "      <td>0.294312</td>\n",
       "    </tr>\n",
       "    <tr>\n",
       "      <th>2013.5576</th>\n",
       "      <td>2290.4</td>\n",
       "      <td>912.5</td>\n",
       "      <td>2.1122</td>\n",
       "      <td>86.0021</td>\n",
       "      <td>0.4474</td>\n",
       "      <td>2.242288</td>\n",
       "      <td>1.0</td>\n",
       "      <td>1.0</td>\n",
       "      <td>2.510027</td>\n",
       "      <td>5135.736435</td>\n",
       "      <td>2046.087800</td>\n",
       "      <td>0.426953</td>\n",
       "      <td>2.718313</td>\n",
       "      <td>1.09</td>\n",
       "      <td>0.292342</td>\n",
       "    </tr>\n",
       "    <tr>\n",
       "      <th>2013.7100</th>\n",
       "      <td>2277.5</td>\n",
       "      <td>891.6</td>\n",
       "      <td>2.1960</td>\n",
       "      <td>87.3570</td>\n",
       "      <td>0.4140</td>\n",
       "      <td>2.242800</td>\n",
       "      <td>1.0</td>\n",
       "      <td>1.0</td>\n",
       "      <td>2.554397</td>\n",
       "      <td>5107.977000</td>\n",
       "      <td>1999.680480</td>\n",
       "      <td>0.442325</td>\n",
       "      <td>2.720772</td>\n",
       "      <td>1.09</td>\n",
       "      <td>0.293096</td>\n",
       "    </tr>\n",
       "    <tr>\n",
       "      <th>2013.8624</th>\n",
       "      <td>2262.0</td>\n",
       "      <td>890.5</td>\n",
       "      <td>2.2020</td>\n",
       "      <td>90.4024</td>\n",
       "      <td>0.4293</td>\n",
       "      <td>2.240064</td>\n",
       "      <td>1.0</td>\n",
       "      <td>1.0</td>\n",
       "      <td>2.540146</td>\n",
       "      <td>5067.024768</td>\n",
       "      <td>1994.776992</td>\n",
       "      <td>0.476875</td>\n",
       "      <td>2.726300</td>\n",
       "      <td>1.09</td>\n",
       "      <td>0.297156</td>\n",
       "    </tr>\n",
       "  </tbody>\n",
       "</table>\n",
       "</div>"
      ],
      "text/plain": [
       "               VP     VS  RHO_OLD       GR    NPHI       RHO  SWE  SWX  \\\n",
       "DEPTH                                                                    \n",
       "2013.2528  2294.7  876.9   1.9972  91.8785  0.4908       NaN  NaN  NaN   \n",
       "2013.4052  2296.7  943.0   2.0455  86.8004  0.4833  2.240104  1.0  1.0   \n",
       "2013.5576  2290.4  912.5   2.1122  86.0021  0.4474  2.242288  1.0  1.0   \n",
       "2013.7100  2277.5  891.6   2.1960  87.3570  0.4140  2.242800  1.0  1.0   \n",
       "2013.8624  2262.0  890.5   2.2020  90.4024  0.4293  2.240064  1.0  1.0   \n",
       "\n",
       "               VPVS           IP           IS       VSH      RHOm  RHOf  \\\n",
       "DEPTH                                                                     \n",
       "2013.2528  2.616832          NaN          NaN  0.493621  2.728979   NaN   \n",
       "2013.4052  2.435525  5144.846857  2112.418072  0.436010  2.719762  1.09   \n",
       "2013.5576  2.510027  5135.736435  2046.087800  0.426953  2.718313  1.09   \n",
       "2013.7100  2.554397  5107.977000  1999.680480  0.442325  2.720772  1.09   \n",
       "2013.8624  2.540146  5067.024768  1994.776992  0.476875  2.726300  1.09   \n",
       "\n",
       "               PHIE  \n",
       "DEPTH                \n",
       "2013.2528       NaN  \n",
       "2013.4052  0.294312  \n",
       "2013.5576  0.292342  \n",
       "2013.7100  0.293096  \n",
       "2013.8624  0.297156  "
      ]
     },
     "execution_count": 3,
     "metadata": {},
     "output_type": "execute_result"
    }
   ],
   "source": [
    "print(L.columns)\n",
    "L.head()"
   ]
  },
  {
   "cell_type": "code",
   "execution_count": 5,
   "metadata": {},
   "outputs": [
    {
     "data": {
      "text/plain": [
       "pandas.core.indexes.numeric.Float64Index"
      ]
     },
     "execution_count": 5,
     "metadata": {},
     "output_type": "execute_result"
    }
   ],
   "source": [
    "type(L.index)"
   ]
  },
  {
   "cell_type": "markdown",
   "metadata": {},
   "source": [
    "As you can see, we have all the required logs for a quantitative analysis: <br>\n",
    "- 'VP' = compressional velocity <br>\n",
    "- 'VS' = shear velocity <br>\n",
    "- 'RHO_OLD' = density <br>\n",
    "- 'GR' = gamma-ray <br>\n",
    "- 'NPHI' = neutron porosity <br>\n",
    "- 'RHO' = density <br>\n",
    "- 'SWE' = effective water saturation <br>\n",
    "- 'SWX' = water saturation <br>\n",
    "- 'VPVS' = Vp/Vs ratio <br>\n",
    "- 'IP' = P-wave impedance <br>\n",
    "- 'IS' = S-wave impedance <br>\n",
    "- 'VSH' = shale volume <br>\n",
    "- 'RHOm' = (tool) corrected density <br>\n",
    "- 'RHOf' = fluid densit <br>\n",
    "- 'PHIE' = effective porosity <br>"
   ]
  },
  {
   "cell_type": "markdown",
   "metadata": {},
   "source": [
    "Logs stored into a Pandas DataFrame, here `L`, are easily accessed using the syntax `DataFrame['log']`, e.g. `L['VP']` is the P-wave velocity and `L['PHIE']` is effective porosity."
   ]
  },
  {
   "cell_type": "code",
   "execution_count": 89,
   "metadata": {},
   "outputs": [
    {
     "name": "stdout",
     "output_type": "stream",
     "text": [
      "Average RHO:\n",
      "2.2250454129951867\n"
     ]
    }
   ],
   "source": [
    "print('Average RHO:')\n",
    "print(L['RHO'].mean())"
   ]
  },
  {
   "cell_type": "markdown",
   "metadata": {},
   "source": [
    " To select more than one log, use the syntax `DataFrame[['log1','log2']]`. "
   ]
  },
  {
   "cell_type": "code",
   "execution_count": 90,
   "metadata": {},
   "outputs": [
    {
     "name": "stdout",
     "output_type": "stream",
     "text": [
      "Average RHO:\n",
      "RHO       2.225045\n",
      "VP     2976.790494\n",
      "dtype: float64\n"
     ]
    }
   ],
   "source": [
    "print('Average RHO:')\n",
    "print(L[['RHO','VP']].mean())"
   ]
  },
  {
   "cell_type": "markdown",
   "metadata": {},
   "source": [
    "When we imported the data we defined an index column `index_col=0`.\n",
    "\n",
    "Now we can mix and match with filters such as `DataFrame.index>2100` to restrict the data only to those values below 2100 m and you can get all the information you need:"
   ]
  },
  {
   "cell_type": "code",
   "execution_count": 91,
   "metadata": {},
   "outputs": [
    {
     "name": "stdout",
     "output_type": "stream",
     "text": [
      "Average RHO above 2100 m:\n",
      "2.2763304551845347\n",
      "Average RHO below 2100 m:\n",
      "2.211358176125703\n"
     ]
    }
   ],
   "source": [
    "print('Average RHO above 2100 m:')\n",
    "print(L[(L.index<=2100)]['RHO'].mean())\n",
    "\n",
    "print('Average RHO below 2100 m:')\n",
    "print(L[(L.index>=2100)]['RHO'].mean())"
   ]
  },
  {
   "cell_type": "markdown",
   "metadata": {},
   "source": [
    "### Task 1:\n",
    "\n",
    "Print average Vp and RHO between 1500 and 2000 m:"
   ]
  },
  {
   "cell_type": "code",
   "execution_count": 92,
   "metadata": {},
   "outputs": [
    {
     "name": "stdout",
     "output_type": "stream",
     "text": [
      "Average Ip between 1500 and 2000 m:\n",
      "VP     2416.459649\n",
      "RHO       2.276330\n",
      "dtype: float64\n"
     ]
    }
   ],
   "source": [
    "print('Average Ip between 1500 and 2000 m:')\n",
    "\n",
    "# write your code here:\n",
    "# print(L[\n",
    "\n",
    "print(L[(L.index>=1500) & (L.index<2100)][['VP','RHO']].mean())"
   ]
  },
  {
   "cell_type": "markdown",
   "metadata": {},
   "source": [
    "To remove a specific log (e.g., that RHO_OLD) we can use the drop method with the optional axis=1 (required otherwise Pandas will search for a row named RHO_OLD instead of a column):"
   ]
  },
  {
   "cell_type": "code",
   "execution_count": 93,
   "metadata": {},
   "outputs": [],
   "source": [
    "L=L.drop(['RHO_OLD'],axis=1)"
   ]
  },
  {
   "cell_type": "markdown",
   "metadata": {},
   "source": [
    "### Task 2:\n",
    "Check if `RHO_OLD` has been deleted:"
   ]
  },
  {
   "cell_type": "code",
   "execution_count": 94,
   "metadata": {},
   "outputs": [
    {
     "data": {
      "text/plain": [
       "Index(['VP', 'VS', 'GR', 'NPHI', 'RHO', 'SWE', 'SWX', 'VPVS', 'IP', 'IS',\n",
       "       'VSH', 'RHOm', 'RHOf', 'PHIE'],\n",
       "      dtype='object')"
      ]
     },
     "execution_count": 94,
     "metadata": {},
     "output_type": "execute_result"
    }
   ],
   "source": [
    "# write your code here:\n",
    "# L.\n",
    "\n",
    "L.columns"
   ]
  },
  {
   "cell_type": "markdown",
   "metadata": {},
   "source": [
    "### Task 3:\n",
    "Rename the column `RHOf` to `RHOfluid`:"
   ]
  },
  {
   "cell_type": "code",
   "execution_count": 95,
   "metadata": {},
   "outputs": [
    {
     "data": {
      "text/plain": [
       "Index(['VP', 'VS', 'GR', 'NPHI', 'RHO', 'SWE', 'SWX', 'VPVS', 'IP', 'IS',\n",
       "       'VSH', 'RHOm', 'RHOfluid', 'PHIE'],\n",
       "      dtype='object')"
      ]
     },
     "execution_count": 95,
     "metadata": {},
     "output_type": "execute_result"
    }
   ],
   "source": [
    "# write your code here:\n",
    "#L.\n",
    "\n",
    "L.rename(columns={'RHOf':'RHOfluid'}, inplace=True)\n",
    "L.columns"
   ]
  },
  {
   "cell_type": "markdown",
   "metadata": {},
   "source": [
    "### Task 4:\n",
    "Rename all multiple columns in one go and check:"
   ]
  },
  {
   "cell_type": "code",
   "execution_count": 96,
   "metadata": {},
   "outputs": [
    {
     "data": {
      "text/plain": [
       "Index(['log1', 'log2', 'log3', 'log4', 'log5', 'log6', 'log7', 'log8', 'log9',\n",
       "       'log10', 'log11', 'log12', 'log13', 'log14'],\n",
       "      dtype='object')"
      ]
     },
     "execution_count": 96,
     "metadata": {},
     "output_type": "execute_result"
    }
   ],
   "source": [
    "# write your code here:\n",
    "# L.\n",
    "\n",
    "L.columns=['log1','log2','log3','log4','log5','log6','log7','log8','log9',\n",
    "           'log10','log11','log12','log13','log14']\n",
    "L.columns"
   ]
  },
  {
   "cell_type": "markdown",
   "metadata": {},
   "source": [
    "Pandas is great to manage large and complex datasets; the basic Dataframe is a compact, portable and powerful data structure that allows you to quickly inspect your data, either using standard Python functions (like min(), .max(), .mean()) or the describe method."
   ]
  },
  {
   "cell_type": "markdown",
   "metadata": {},
   "source": [
    "Now rename back to the original names and check for the next tasks:"
   ]
  },
  {
   "cell_type": "code",
   "execution_count": 97,
   "metadata": {},
   "outputs": [
    {
     "data": {
      "text/plain": [
       "Index(['VP', 'VS', 'GR', 'NPHI', 'RHO', 'SWE', 'SWX', 'VPVS', 'IP', 'IS',\n",
       "       'VSH', 'RHOm', 'RHOfluid', 'PHIE'],\n",
       "      dtype='object')"
      ]
     },
     "execution_count": 97,
     "metadata": {},
     "output_type": "execute_result"
    }
   ],
   "source": [
    "# write your code here:\n",
    "# L.\n",
    "\n",
    "L.columns=['VP', 'VS', 'GR', 'NPHI', 'RHO', 'SWE', 'SWX', 'VPVS', 'IP', 'IS',\n",
    "           'VSH', 'RHOm', 'RHOfluid', 'PHIE']\n",
    "L.columns"
   ]
  },
  {
   "cell_type": "markdown",
   "metadata": {},
   "source": [
    "### Task 5:\n",
    "Use the describe function on the DataFrame `L` for the columns `VP, VS, RHO, and PHIE`"
   ]
  },
  {
   "cell_type": "code",
   "execution_count": 98,
   "metadata": {},
   "outputs": [
    {
     "data": {
      "text/html": [
       "<div>\n",
       "<style scoped>\n",
       "    .dataframe tbody tr th:only-of-type {\n",
       "        vertical-align: middle;\n",
       "    }\n",
       "\n",
       "    .dataframe tbody tr th {\n",
       "        vertical-align: top;\n",
       "    }\n",
       "\n",
       "    .dataframe thead th {\n",
       "        text-align: right;\n",
       "    }\n",
       "</style>\n",
       "<table border=\"1\" class=\"dataframe\">\n",
       "  <thead>\n",
       "    <tr style=\"text-align: right;\">\n",
       "      <th></th>\n",
       "      <th>VP</th>\n",
       "      <th>VS</th>\n",
       "      <th>RHO</th>\n",
       "      <th>PHIE</th>\n",
       "    </tr>\n",
       "  </thead>\n",
       "  <tbody>\n",
       "    <tr>\n",
       "      <th>count</th>\n",
       "      <td>4113.000000</td>\n",
       "      <td>4117.000000</td>\n",
       "      <td>2701.000000</td>\n",
       "      <td>2701.000000</td>\n",
       "    </tr>\n",
       "    <tr>\n",
       "      <th>mean</th>\n",
       "      <td>2976.790494</td>\n",
       "      <td>1371.293952</td>\n",
       "      <td>2.225045</td>\n",
       "      <td>0.291759</td>\n",
       "    </tr>\n",
       "    <tr>\n",
       "      <th>std</th>\n",
       "      <td>448.217018</td>\n",
       "      <td>297.056552</td>\n",
       "      <td>0.061961</td>\n",
       "      <td>0.032196</td>\n",
       "    </tr>\n",
       "    <tr>\n",
       "      <th>min</th>\n",
       "      <td>1964.700000</td>\n",
       "      <td>688.800000</td>\n",
       "      <td>2.036616</td>\n",
       "      <td>0.106844</td>\n",
       "    </tr>\n",
       "    <tr>\n",
       "      <th>25%</th>\n",
       "      <td>2594.500000</td>\n",
       "      <td>1141.600000</td>\n",
       "      <td>2.185285</td>\n",
       "      <td>0.276218</td>\n",
       "    </tr>\n",
       "    <tr>\n",
       "      <th>50%</th>\n",
       "      <td>3035.900000</td>\n",
       "      <td>1415.300000</td>\n",
       "      <td>2.223544</td>\n",
       "      <td>0.297311</td>\n",
       "    </tr>\n",
       "    <tr>\n",
       "      <th>75%</th>\n",
       "      <td>3250.200000</td>\n",
       "      <td>1595.000000</td>\n",
       "      <td>2.264000</td>\n",
       "      <td>0.310519</td>\n",
       "    </tr>\n",
       "    <tr>\n",
       "      <th>max</th>\n",
       "      <td>4431.000000</td>\n",
       "      <td>2427.800000</td>\n",
       "      <td>2.545268</td>\n",
       "      <td>0.376396</td>\n",
       "    </tr>\n",
       "  </tbody>\n",
       "</table>\n",
       "</div>"
      ],
      "text/plain": [
       "                VP           VS          RHO         PHIE\n",
       "count  4113.000000  4117.000000  2701.000000  2701.000000\n",
       "mean   2976.790494  1371.293952     2.225045     0.291759\n",
       "std     448.217018   297.056552     0.061961     0.032196\n",
       "min    1964.700000   688.800000     2.036616     0.106844\n",
       "25%    2594.500000  1141.600000     2.185285     0.276218\n",
       "50%    3035.900000  1415.300000     2.223544     0.297311\n",
       "75%    3250.200000  1595.000000     2.264000     0.310519\n",
       "max    4431.000000  2427.800000     2.545268     0.376396"
      ]
     },
     "execution_count": 98,
     "metadata": {},
     "output_type": "execute_result"
    }
   ],
   "source": [
    "# write your code here:\n",
    "# L[[]].\n",
    "\n",
    "L[['VP','VS','RHO','PHIE']].describe()"
   ]
  },
  {
   "cell_type": "markdown",
   "metadata": {},
   "source": [
    "### Part 2 - Create a lithology classification based on the data\n",
    "\n",
    "Now we will calculate a column named Litho-Fluid Class (LFC) that groups data identified by similar lithological and/or pore fluid content. The identification of the groups will be based on the values of the logs.\n",
    "\n",
    "The LFC log will have four classes:\n",
    "\n",
    "- LFC=0: undef\n",
    "- LFC=1: brine sand\n",
    "- LFC=2: oil sand\n",
    "- LFC=4: shale\n",
    "\n",
    "The classification will be based on the shale volume (VSH) and water saturation (SWE). The rules for each class are:\n",
    "\n",
    "- LFC=0: undef <br>\n",
    "Parts that are outside the ranges defined\n",
    "\n",
    "\n",
    "- LFC=1: brine sand (ssb) <br>\n",
    "Parts that have less than 20% of shale volume and more than 90% of water saturation\n",
    "\n",
    "\n",
    "- LFC=2: oil sand (sso) <br>\n",
    "Parts that have less than 20% of shale volume and less than 90% of water saturation\n",
    "\n",
    "\n",
    "- LFC=4: shale (sh) <br>\n",
    "Parts that have more than 20% of shale volume"
   ]
  },
  {
   "cell_type": "markdown",
   "metadata": {},
   "source": [
    "We will first check if the file with the measurements has empy cells: <br>\n",
    "`np.where(pd.isnull(df))` returns the row and column indices where the value is NaN:"
   ]
  },
  {
   "cell_type": "code",
   "execution_count": 99,
   "metadata": {},
   "outputs": [
    {
     "data": {
      "text/plain": [
       "(array([   0,    0,    0, ..., 4116, 4116, 4116], dtype=int64),\n",
       " array([ 4,  5,  6, ...,  9, 12, 13], dtype=int64))"
      ]
     },
     "execution_count": 99,
     "metadata": {},
     "output_type": "execute_result"
    }
   ],
   "source": [
    "np.where(pd.isnull(L))"
   ]
  },
  {
   "cell_type": "markdown",
   "metadata": {},
   "source": [
    "As we can see, there are regions that the petrophysical logs were not computed. <br>\n",
    "For this reason, we will focus on a smaller depth window with data between 2100 and 2400 m."
   ]
  },
  {
   "cell_type": "markdown",
   "metadata": {},
   "source": [
    "### Task 6:"
   ]
  },
  {
   "cell_type": "markdown",
   "metadata": {},
   "source": [
    "Redefine the DataFrame `L` as being `L` only between 2100 and 2400 m."
   ]
  },
  {
   "cell_type": "code",
   "execution_count": 100,
   "metadata": {},
   "outputs": [],
   "source": [
    "# fill the blanks below:\n",
    "#L=L[()&()]\n",
    "\n",
    "L=L[(L.index>=2100) & (L.index<=2400)]"
   ]
  },
  {
   "cell_type": "markdown",
   "metadata": {},
   "source": [
    "Now check if this interval has empty cells:"
   ]
  },
  {
   "cell_type": "code",
   "execution_count": 101,
   "metadata": {},
   "outputs": [
    {
     "data": {
      "text/plain": [
       "(array([], dtype=int64), array([], dtype=int64))"
      ]
     },
     "execution_count": 101,
     "metadata": {},
     "output_type": "execute_result"
    }
   ],
   "source": [
    "# write your code here:\n",
    "#np.w...(pd....())\n",
    "\n",
    "np.where(pd.isnull(L))"
   ]
  },
  {
   "cell_type": "markdown",
   "metadata": {},
   "source": [
    "### Task 7:"
   ]
  },
  {
   "cell_type": "markdown",
   "metadata": {},
   "source": [
    "Before creating the `LFC` log, we will create \"flag\" logs to help us identify the right intervals that correspond to each class.\n",
    "\n",
    "We will create the flag logs `ssb`, `sso`, and `sh` (i.e., logs made of samples that can only be 1 or 0, i.e. _True_ or *False*) using cut-off values on `VSH` (shale volume) and `SW` (water saturation).\n",
    "\n",
    "Implement in the cell bellow the rules for each flag:"
   ]
  },
  {
   "cell_type": "code",
   "execution_count": 102,
   "metadata": {},
   "outputs": [],
   "source": [
    "# write your code here:\n",
    "#sand_cutoff=\n",
    "#watersat_cutoff=\n",
    "#ssb=\n",
    "#sso=\n",
    "#sh=\n",
    "\n",
    "sand_cutoff=0.20\n",
    "watersat_cutoff=0.90\n",
    "ssb=((L.VSH <= sand_cutoff) & (L.SWE >= watersat_cutoff)) # brine sand\n",
    "sso=((L.VSH <= sand_cutoff) & (L.SWE < watersat_cutoff))  # oil sand\n",
    "sh=(L.VSH > sand_cutoff)                      # shales"
   ]
  },
  {
   "cell_type": "markdown",
   "metadata": {},
   "source": [
    "### Task 8:"
   ]
  },
  {
   "cell_type": "markdown",
   "metadata": {},
   "source": [
    "Now we have to use the above flags to create the `LFC` log and store it into`L` with the other logs. <br>\n",
    "First we will create a temporary variable and allocate memory to it:"
   ]
  },
  {
   "cell_type": "code",
   "execution_count": 103,
   "metadata": {},
   "outputs": [],
   "source": [
    "# write your code here:\n",
    "#temp_lfc=np....(np.....())\n",
    "\n",
    "temp_lfc=np.zeros(np.shape(L.VSH))"
   ]
  },
  {
   "cell_type": "markdown",
   "metadata": {},
   "source": [
    "### Task 9:"
   ]
  },
  {
   "cell_type": "markdown",
   "metadata": {},
   "source": [
    "Now we would like to make this temporary variable equals to:\n",
    "- 1 when ssb (brine sand flag) is True\n",
    "- 2 when sso (oil sand flag) is True\n",
    "- 3 when sh (shale flag) is True"
   ]
  },
  {
   "cell_type": "code",
   "execution_count": 104,
   "metadata": {},
   "outputs": [],
   "source": [
    "# write your code here:\n",
    "#temp_lf[]=\n",
    "\n",
    "temp_lfc[ssb.values]=1 \n",
    "temp_lfc[sso.values]=2 \n",
    "temp_lfc[sh.values]=3  "
   ]
  },
  {
   "cell_type": "markdown",
   "metadata": {},
   "source": [
    "We can now insert the new column to our spreadsheet:"
   ]
  },
  {
   "cell_type": "code",
   "execution_count": 105,
   "metadata": {},
   "outputs": [],
   "source": [
    "L.insert(L.columns.size, 'LFC', temp_lfc) # the first argument is the position, in this way LFC will be the last one"
   ]
  },
  {
   "cell_type": "markdown",
   "metadata": {},
   "source": [
    "### Task 10:"
   ]
  },
  {
   "cell_type": "markdown",
   "metadata": {},
   "source": [
    "Now, let's see if this is all ok; the total number of samples after zooming in the 2100-2400 m depth window is:"
   ]
  },
  {
   "cell_type": "code",
   "execution_count": 106,
   "metadata": {},
   "outputs": [
    {
     "data": {
      "text/plain": [
       "(1968,)"
      ]
     },
     "execution_count": 106,
     "metadata": {},
     "output_type": "execute_result"
    }
   ],
   "source": [
    "np.shape(L.VSH)"
   ]
  },
  {
   "cell_type": "markdown",
   "metadata": {},
   "source": [
    "How many cells are there for each facies?"
   ]
  },
  {
   "cell_type": "code",
   "execution_count": 107,
   "metadata": {},
   "outputs": [
    {
     "name": "stdout",
     "output_type": "stream",
     "text": [
      "brine sst=706, oil sst=134, shale=1128\n"
     ]
    }
   ],
   "source": [
    "# write your code here:\n",
    "#print('brine sst={}, oil sst={}, shale={}'.format(np...,np...,np....))\n",
    "\n",
    "print('brine sst={}, oil sst={}, shale={}'.format(np.count_nonzero(ssb),np.count_nonzero(sso),np.count_nonzero(sh)))"
   ]
  },
  {
   "cell_type": "markdown",
   "metadata": {},
   "source": [
    "### Task 11:"
   ]
  },
  {
   "cell_type": "markdown",
   "metadata": {},
   "source": [
    "And a final check to make this newly defined LFC log only has values within the range 1 to 3 (there will be no undefined samples in this particular depth interval, i.e. classes with `LFC=0`):"
   ]
  },
  {
   "cell_type": "code",
   "execution_count": 108,
   "metadata": {},
   "outputs": [
    {
     "name": "stdout",
     "output_type": "stream",
     "text": [
      "LFC min: 1.0, LFC max: 3.0\n"
     ]
    }
   ],
   "source": [
    "# write your code here:\n",
    "#print()\n",
    "\n",
    "print('LFC min: {}, LFC max: {}'.format(L.LFC.min(), L.LFC.max()))"
   ]
  },
  {
   "cell_type": "markdown",
   "metadata": {},
   "source": [
    "It is very easy to do plots of all types with Pandas, and to show that here's a one-liner that plots Vp histograms for each class:"
   ]
  },
  {
   "cell_type": "code",
   "execution_count": 109,
   "metadata": {},
   "outputs": [
    {
     "data": {
      "text/plain": [
       "array([<matplotlib.axes._subplots.AxesSubplot object at 0x0000023FEBFED3C8>,\n",
       "       <matplotlib.axes._subplots.AxesSubplot object at 0x0000023FEBCC39B0>,\n",
       "       <matplotlib.axes._subplots.AxesSubplot object at 0x0000023FED8B2940>],\n",
       "      dtype=object)"
      ]
     },
     "execution_count": 109,
     "metadata": {},
     "output_type": "execute_result"
    },
    {
     "data": {
      "image/png": "[encoded data removed]",
      "text/plain": [
       "<Figure size 864x144 with 3 Axes>"
      ]
     },
     "metadata": {
      "needs_background": "light"
     },
     "output_type": "display_data"
    }
   ],
   "source": [
    "L.VP.hist(bins=50, color='black', by=L.LFC, figsize=(12,2), layout=(1,3), lw=0)"
   ]
  },
  {
   "cell_type": "markdown",
   "metadata": {},
   "source": [
    "### Final task: summary plots"
   ]
  },
  {
   "cell_type": "markdown",
   "metadata": {},
   "source": [
    "First we need a custom colormap for my classes, i.e. a discrete colormap with following classes-colors association:\n",
    "\n",
    "- LFC=0: undef, GRAY\n",
    "- LFC=1: brine sand, BLUE\n",
    "- LFC=2: oil sand, RED\n",
    "- LFC=3: shale, GREEN\n",
    "\n",
    "This is the way to define this colormap:"
   ]
  },
  {
   "cell_type": "code",
   "execution_count": 110,
   "metadata": {},
   "outputs": [],
   "source": [
    "# Remember we imported matplotlib.colors as colors\n",
    "\n",
    "ccc = ['#B3B3B3','blue','red','green']\n",
    "cmap_facies = colors.ListedColormap(ccc[0:len(ccc)], 'indexed')"
   ]
  },
  {
   "cell_type": "markdown",
   "metadata": {},
   "source": [
    "Let's now display a summary view of all the logs:"
   ]
  },
  {
   "cell_type": "code",
   "execution_count": 111,
   "metadata": {},
   "outputs": [],
   "source": [
    "ztop=2100; zbot=2400\n",
    "ll=L[(L.index>=ztop) & (L.index<=zbot)]\n",
    "\n",
    "cluster=np.repeat(np.expand_dims(ll['LFC'].values,1),100,1)"
   ]
  },
  {
   "cell_type": "code",
   "execution_count": 117,
   "metadata": {},
   "outputs": [
    {
     "ename": "IndexError",
     "evalue": "tuple index out of range",
     "output_type": "error",
     "traceback": [
      "\u001b[1;31m---------------------------------------------------------------------------\u001b[0m",
      "\u001b[1;31mIndexError\u001b[0m                                Traceback (most recent call last)",
      "\u001b[1;32m<ipython-input-117-7d4e25c139c0>\u001b[0m in \u001b[0;36m<module>\u001b[1;34m\u001b[0m\n\u001b[0;32m      3\u001b[0m \u001b[1;33m\u001b[0m\u001b[0m\n\u001b[0;32m      4\u001b[0m \u001b[0mf\u001b[0m\u001b[1;33m,\u001b[0m \u001b[0max\u001b[0m \u001b[1;33m=\u001b[0m \u001b[0mplt\u001b[0m\u001b[1;33m.\u001b[0m\u001b[0msubplots\u001b[0m\u001b[1;33m(\u001b[0m\u001b[0mnrows\u001b[0m\u001b[1;33m=\u001b[0m\u001b[1;36m1\u001b[0m\u001b[1;33m,\u001b[0m \u001b[0mncols\u001b[0m\u001b[1;33m=\u001b[0m\u001b[1;36m4\u001b[0m\u001b[1;33m,\u001b[0m \u001b[0mfigsize\u001b[0m\u001b[1;33m=\u001b[0m\u001b[1;33m(\u001b[0m\u001b[1;36m8\u001b[0m\u001b[1;33m,\u001b[0m \u001b[1;36m6\u001b[0m\u001b[1;33m)\u001b[0m\u001b[1;33m)\u001b[0m\u001b[1;33m\u001b[0m\u001b[1;33m\u001b[0m\u001b[0m\n\u001b[1;32m----> 5\u001b[1;33m \u001b[0max\u001b[0m\u001b[1;33m[\u001b[0m\u001b[1;36m0\u001b[0m\u001b[1;33m]\u001b[0m\u001b[1;33m.\u001b[0m\u001b[0mplot\u001b[0m\u001b[1;33m(\u001b[0m\u001b[0mll\u001b[0m\u001b[1;33m.\u001b[0m\u001b[0mVSH\u001b[0m\u001b[1;33m,\u001b[0m \u001b[0mll\u001b[0m\u001b[1;33m.\u001b[0m\u001b[0mindex\u001b[0m\u001b[1;33m,\u001b[0m \u001b[1;34m'-g'\u001b[0m\u001b[1;33m,\u001b[0m \u001b[0mlabel\u001b[0m\u001b[1;33m=\u001b[0m\u001b[1;34m'Vsh'\u001b[0m\u001b[1;33m)\u001b[0m\u001b[1;33m\u001b[0m\u001b[1;33m\u001b[0m\u001b[0m\n\u001b[0m\u001b[0;32m      6\u001b[0m \u001b[0max\u001b[0m\u001b[1;33m[\u001b[0m\u001b[1;36m0\u001b[0m\u001b[1;33m]\u001b[0m\u001b[1;33m.\u001b[0m\u001b[0mplot\u001b[0m\u001b[1;33m(\u001b[0m\u001b[0mll\u001b[0m\u001b[1;33m.\u001b[0m\u001b[0mSWE\u001b[0m\u001b[1;33m,\u001b[0m \u001b[1;34m'-b'\u001b[0m\u001b[1;33m,\u001b[0m \u001b[0mlabel\u001b[0m\u001b[1;33m=\u001b[0m\u001b[1;34m'Sw'\u001b[0m\u001b[1;33m)\u001b[0m\u001b[1;33m\u001b[0m\u001b[1;33m\u001b[0m\u001b[0m\n\u001b[0;32m      7\u001b[0m \u001b[0max\u001b[0m\u001b[1;33m[\u001b[0m\u001b[1;36m0\u001b[0m\u001b[1;33m]\u001b[0m\u001b[1;33m.\u001b[0m\u001b[0mplot\u001b[0m\u001b[1;33m(\u001b[0m\u001b[0mll\u001b[0m\u001b[1;33m.\u001b[0m\u001b[0mPHIE\u001b[0m\u001b[1;33m,\u001b[0m \u001b[1;34m'-k'\u001b[0m\u001b[1;33m,\u001b[0m \u001b[0mlabel\u001b[0m\u001b[1;33m=\u001b[0m\u001b[1;34m'phi'\u001b[0m\u001b[1;33m)\u001b[0m\u001b[1;33m\u001b[0m\u001b[1;33m\u001b[0m\u001b[0m\n",
      "\u001b[1;32mC:\\Anaconda2\\envs\\Python37\\lib\\site-packages\\matplotlib\\axes\\_axes.py\u001b[0m in \u001b[0;36mplot\u001b[1;34m(self, scalex, scaley, data, *args, **kwargs)\u001b[0m\n\u001b[0;32m   1664\u001b[0m         \"\"\"\n\u001b[0;32m   1665\u001b[0m         \u001b[0mkwargs\u001b[0m \u001b[1;33m=\u001b[0m \u001b[0mcbook\u001b[0m\u001b[1;33m.\u001b[0m\u001b[0mnormalize_kwargs\u001b[0m\u001b[1;33m(\u001b[0m\u001b[0mkwargs\u001b[0m\u001b[1;33m,\u001b[0m \u001b[0mmlines\u001b[0m\u001b[1;33m.\u001b[0m\u001b[0mLine2D\u001b[0m\u001b[1;33m.\u001b[0m\u001b[0m_alias_map\u001b[0m\u001b[1;33m)\u001b[0m\u001b[1;33m\u001b[0m\u001b[1;33m\u001b[0m\u001b[0m\n\u001b[1;32m-> 1666\u001b[1;33m         \u001b[0mlines\u001b[0m \u001b[1;33m=\u001b[0m \u001b[1;33m[\u001b[0m\u001b[1;33m*\u001b[0m\u001b[0mself\u001b[0m\u001b[1;33m.\u001b[0m\u001b[0m_get_lines\u001b[0m\u001b[1;33m(\u001b[0m\u001b[1;33m*\u001b[0m\u001b[0margs\u001b[0m\u001b[1;33m,\u001b[0m \u001b[0mdata\u001b[0m\u001b[1;33m=\u001b[0m\u001b[0mdata\u001b[0m\u001b[1;33m,\u001b[0m \u001b[1;33m**\u001b[0m\u001b[0mkwargs\u001b[0m\u001b[1;33m)\u001b[0m\u001b[1;33m]\u001b[0m\u001b[1;33m\u001b[0m\u001b[1;33m\u001b[0m\u001b[0m\n\u001b[0m\u001b[0;32m   1667\u001b[0m         \u001b[1;32mfor\u001b[0m \u001b[0mline\u001b[0m \u001b[1;32min\u001b[0m \u001b[0mlines\u001b[0m\u001b[1;33m:\u001b[0m\u001b[1;33m\u001b[0m\u001b[1;33m\u001b[0m\u001b[0m\n\u001b[0;32m   1668\u001b[0m             \u001b[0mself\u001b[0m\u001b[1;33m.\u001b[0m\u001b[0madd_line\u001b[0m\u001b[1;33m(\u001b[0m\u001b[0mline\u001b[0m\u001b[1;33m)\u001b[0m\u001b[1;33m\u001b[0m\u001b[1;33m\u001b[0m\u001b[0m\n",
      "\u001b[1;32mC:\\Anaconda2\\envs\\Python37\\lib\\site-packages\\matplotlib\\axes\\_base.py\u001b[0m in \u001b[0;36m__call__\u001b[1;34m(self, *args, **kwargs)\u001b[0m\n\u001b[0;32m    223\u001b[0m                 \u001b[0mthis\u001b[0m \u001b[1;33m+=\u001b[0m \u001b[0margs\u001b[0m\u001b[1;33m[\u001b[0m\u001b[1;36m0\u001b[0m\u001b[1;33m]\u001b[0m\u001b[1;33m,\u001b[0m\u001b[1;33m\u001b[0m\u001b[1;33m\u001b[0m\u001b[0m\n\u001b[0;32m    224\u001b[0m                 \u001b[0margs\u001b[0m \u001b[1;33m=\u001b[0m \u001b[0margs\u001b[0m\u001b[1;33m[\u001b[0m\u001b[1;36m1\u001b[0m\u001b[1;33m:\u001b[0m\u001b[1;33m]\u001b[0m\u001b[1;33m\u001b[0m\u001b[1;33m\u001b[0m\u001b[0m\n\u001b[1;32m--> 225\u001b[1;33m             \u001b[1;32myield\u001b[0m \u001b[1;32mfrom\u001b[0m \u001b[0mself\u001b[0m\u001b[1;33m.\u001b[0m\u001b[0m_plot_args\u001b[0m\u001b[1;33m(\u001b[0m\u001b[0mthis\u001b[0m\u001b[1;33m,\u001b[0m \u001b[0mkwargs\u001b[0m\u001b[1;33m)\u001b[0m\u001b[1;33m\u001b[0m\u001b[1;33m\u001b[0m\u001b[0m\n\u001b[0m\u001b[0;32m    226\u001b[0m \u001b[1;33m\u001b[0m\u001b[0m\n\u001b[0;32m    227\u001b[0m     \u001b[1;32mdef\u001b[0m \u001b[0mget_next_color\u001b[0m\u001b[1;33m(\u001b[0m\u001b[0mself\u001b[0m\u001b[1;33m)\u001b[0m\u001b[1;33m:\u001b[0m\u001b[1;33m\u001b[0m\u001b[1;33m\u001b[0m\u001b[0m\n",
      "\u001b[1;32mC:\\Anaconda2\\envs\\Python37\\lib\\site-packages\\matplotlib\\axes\\_base.py\u001b[0m in \u001b[0;36m_plot_args\u001b[1;34m(self, tup, kwargs)\u001b[0m\n\u001b[0;32m    397\u001b[0m             \u001b[0mfunc\u001b[0m \u001b[1;33m=\u001b[0m \u001b[0mself\u001b[0m\u001b[1;33m.\u001b[0m\u001b[0m_makefill\u001b[0m\u001b[1;33m\u001b[0m\u001b[1;33m\u001b[0m\u001b[0m\n\u001b[0;32m    398\u001b[0m \u001b[1;33m\u001b[0m\u001b[0m\n\u001b[1;32m--> 399\u001b[1;33m         \u001b[0mncx\u001b[0m\u001b[1;33m,\u001b[0m \u001b[0mncy\u001b[0m \u001b[1;33m=\u001b[0m \u001b[0mx\u001b[0m\u001b[1;33m.\u001b[0m\u001b[0mshape\u001b[0m\u001b[1;33m[\u001b[0m\u001b[1;36m1\u001b[0m\u001b[1;33m]\u001b[0m\u001b[1;33m,\u001b[0m \u001b[0my\u001b[0m\u001b[1;33m.\u001b[0m\u001b[0mshape\u001b[0m\u001b[1;33m[\u001b[0m\u001b[1;36m1\u001b[0m\u001b[1;33m]\u001b[0m\u001b[1;33m\u001b[0m\u001b[1;33m\u001b[0m\u001b[0m\n\u001b[0m\u001b[0;32m    400\u001b[0m         \u001b[1;32mif\u001b[0m \u001b[0mncx\u001b[0m \u001b[1;33m>\u001b[0m \u001b[1;36m1\u001b[0m \u001b[1;32mand\u001b[0m \u001b[0mncy\u001b[0m \u001b[1;33m>\u001b[0m \u001b[1;36m1\u001b[0m \u001b[1;32mand\u001b[0m \u001b[0mncx\u001b[0m \u001b[1;33m!=\u001b[0m \u001b[0mncy\u001b[0m\u001b[1;33m:\u001b[0m\u001b[1;33m\u001b[0m\u001b[1;33m\u001b[0m\u001b[0m\n\u001b[0;32m    401\u001b[0m             cbook.warn_deprecated(\n",
      "\u001b[1;31mIndexError\u001b[0m: tuple index out of range"
     ]
    },
    {
     "data": {
      "image/png": "[encoded data removed]",
      "text/plain": [
       "<Figure size 576x432 with 4 Axes>"
      ]
     },
     "metadata": {
      "needs_background": "light"
     },
     "output_type": "display_data"
    }
   ],
   "source": [
    "#plt.plot(L.VSH)\n",
    "#plt.show()\n",
    "\n",
    "f, ax = plt.subplots(nrows=1, ncols=4, figsize=(8, 6))\n",
    "ax[0].plot(ll.VSH, ll.index, '-g', label='Vsh')\n",
    "ax[0].plot(ll.SWE, '-b', label='Sw')\n",
    "ax[0].plot(ll.PHIE, '-k', label='phi')\n",
    "ax[1].plot(ll.IP, '-', color='0.5')\n",
    "ax[2].plot(ll.VPVS, '-', color='0.5')\n",
    "im=ax[3].imshow(cluster, interpolation='none', aspect='auto',cmap=cmap_facies,vmin=0,vmax=4)\n",
    "cbar=plt.colorbar(im, ax=ax[3])\n",
    "cbar.set_label((12*' ').join(['undef', 'brine', 'oil', 'shale']))\n",
    "cbar.set_ticks(range(0,1)); cbar.set_ticklabels('')\n",
    "#for i in ax[:-1]:\n",
    "#    i.set_ylim(ztop,zbot)\n",
    "#    i.invert_yaxis()\n",
    "#    i.grid()\n",
    "#    i.locator_params(axis='x', nbins=4)\n",
    "ax[0].legend(fontsize='small', loc='lower right')\n",
    "ax[0].set_xlabel('Vcl/phi/Sw'),    #ax[0].set_xlim(-.1,1.1)\n",
    "ax[1].set_xlabel('Ip [m/s*g/cc]'), #ax[1].set_xlim(3000,9000)\n",
    "ax[2].set_xlabel('Vp/Vs'),         #ax[2].set_xlim(1.5,3)\n",
    "ax[3].set_xlabel('LFC')\n",
    "ax[1].set_yticklabels([]); ax[2].set_yticklabels([]); ax[3].set_yticklabels([]); ax[3].set_xticklabels([]);"
   ]
  },
  {
   "cell_type": "code",
   "execution_count": 113,
   "metadata": {},
   "outputs": [
    {
     "data": {
      "text/plain": [
       "DEPTH\n",
       "2100.1208    0.490442\n",
       "2100.2732    0.521934\n",
       "2100.4255    0.520316\n",
       "2100.5779    0.502234\n",
       "2100.7305    0.500238\n",
       "               ...   \n",
       "2399.2820    0.146354\n",
       "2399.4343    0.220153\n",
       "2399.5869    0.260431\n",
       "2399.7393    0.317276\n",
       "2399.8916    0.311858\n",
       "Name: VSH, Length: 1968, dtype: float64"
      ]
     },
     "execution_count": 113,
     "metadata": {},
     "output_type": "execute_result"
    }
   ],
   "source": [
    "ll.VSH"
   ]
  },
  {
   "cell_type": "code",
   "execution_count": 114,
   "metadata": {},
   "outputs": [
    {
     "data": {
      "text/plain": [
       "Float64Index([2100.1208, 2100.2732, 2100.4255, 2100.5779, 2100.7305, 2100.8828,\n",
       "              2101.0352, 2101.1875, 2101.3401, 2101.4924,\n",
       "              ...\n",
       "                2398.52, 2398.6724, 2398.8247, 2398.9773, 2399.1296,  2399.282,\n",
       "              2399.4343, 2399.5869, 2399.7393, 2399.8916],\n",
       "             dtype='float64', name='DEPTH', length=1968)"
      ]
     },
     "execution_count": 114,
     "metadata": {},
     "output_type": "execute_result"
    }
   ],
   "source": [
    "ll.index"
   ]
  },
  {
   "cell_type": "code",
   "execution_count": null,
   "metadata": {},
   "outputs": [],
   "source": []
  }
 ],
 "metadata": {
  "kernelspec": {
   "display_name": "Python 3",
   "language": "python",
   "name": "python3"
  },
  "language_info": {
   "codemirror_mode": {
    "name": "ipython",
    "version": 3
   },
   "file_extension": ".py",
   "mimetype": "text/x-python",
   "name": "python",
   "nbconvert_exporter": "python",
   "pygments_lexer": "ipython3",
   "version": "3.8.5"
  }
 },
 "nbformat": 4,
 "nbformat_minor": 2
}
