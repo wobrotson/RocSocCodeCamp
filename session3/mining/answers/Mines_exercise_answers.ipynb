{
 "cells": [
  {
   "cell_type": "markdown",
   "metadata": {},
   "source": [
    "\n",
    "\n",
    "# Copper mine problem\n",
    "\n",
    "@author: coding: Ivan Lokmer, problem: Tom Manzzocchi, Ivan Lokmer\n",
    "\n",
    "A mining company has drilled 598 boreholes on a regular grid in a 13 km by 46 km\n",
    "area whilst prospecting for copper. In each borehole, the company have measured:\n",
    "(i) The thickness of the copper-bearing rock formation (in metres)\n",
    "(ii) The average copper concentration of this rock formation, \n",
    "     in parts per million by volume (ppm).\n",
    "     \n",
    "### Tasks:\n",
    "1. Calculate the total amount of the copper in the entire area (give your answer\n",
    "    to the nearest tonne). The density of copper is 8960 kg/m3.\n",
    "2. The company wants to put a 3 km by 3 km mine in the area. Find the X and Y\n",
    "   locations of the centre of this mine, for the mine location that will contain\n",
    "   the most copper. \n",
    "3. Plot the distribution of Cu mass in the investigated area to visually inspect \n",
    "   your result for the best placement of the mine\n",
    "   \n",
    "   \n",
    "   \n",
    "\n",
    "***Note 1:*** *Assume that measurements in 598 wells are representative for the whole  investigated area of 598 km2 (13km x 46km), i.e. that the measurements in each well are representative for the area of 1km2. Nnote that this is a very crude assumption; the correct way would be to interpolate the thickness and  concentration values between the wells using kriging, linear interpolation, spline interpolation  or some other suitable method)*\n",
    " \n",
    "***Note 2:*** *Python libraries required for this exercise are:*\n",
    " * ***pandas*** *- data analysis and manipulation tool*\n",
    " * ***numpy (numerical python)***  *- library  for working with arrays, matrices, linear algebra etc.*  \n",
    " * ***matplotlib*** *- a comprehensive library for creating static, animated, and interactive visualizations in Python*\n",
    " \n",
    "***Note 3:*** *Jupyter notebooks are a great way to share your research, coursework, write a report etc. However, the best way for the ongoing research is to write your code in scripts (files of the type <file.py>). In the end of this exercise, you will be given the solution to this problem as a Jupyter Notebook, but also as a script \"CopperMine_exercise.py\".* \n",
    "\n",
    "A good web resource for python beginners can be found at <a href=\"https://www.w3schools.com/python/\" target=\"_blank\">this link.</a> \n",
    " \n",
    " \n",
    " \n",
    " ### Reading the data\n",
    " The data measurements are given in csv (comma-separated values) file as \"Well X location (km), Well Y location (km),\n",
    "Thickness (m), Concentration (ppm)\". The file is hosted on Gdrive at the following link: https://drive.google.com/file/d/1SGhQMRjWKc2F57FBeb4rXv16T7xUvMS4/view?usp=sharing. Download the file and inspect it visually using Notepad, Wordpad or similar basic text editor.\n",
    "\n",
    "We can import the file directly from Gdrive using the following code:\n",
    "\n"
   ]
  },
  {
   "cell_type": "code",
   "execution_count": 1,
   "metadata": {},
   "outputs": [],
   "source": [
    "import pandas as pd #import pandas as pd\n",
    "url='https://drive.google.com/file/d/1SGhQMRjWKc2F57FBeb4rXv16T7xUvMS4/view?usp=sharing' #define the Gdrive file location\n",
    "path = 'https://drive.google.com/uc?id='+url.split('/')[-2] #url.split('/')[-2] reads the file identifier beetween the second last and last slash (\"/\")\n",
    "df = pd.read_csv(path) #read csv file"
   ]
  },
  {
   "cell_type": "markdown",
   "metadata": {},
   "source": [
    "Note that we could have read the downloaded file using:  `df = pd.read_csv(\"downloaded file name\")`.\n",
    "\n",
    "\n",
    "To view the variable (and check if it's imported correctly), just type the variable name (note than when writing a python script, you need to use `print(df)` - you can compare the code here with the script you will get in the end of this exercise):"
   ]
  },
  {
   "cell_type": "code",
   "execution_count": 2,
   "metadata": {
    "scrolled": true
   },
   "outputs": [
    {
     "data": {
      "text/html": [
       "<div>\n",
       "<style scoped>\n",
       "    .dataframe tbody tr th:only-of-type {\n",
       "        vertical-align: middle;\n",
       "    }\n",
       "\n",
       "    .dataframe tbody tr th {\n",
       "        vertical-align: top;\n",
       "    }\n",
       "\n",
       "    .dataframe thead th {\n",
       "        text-align: right;\n",
       "    }\n",
       "</style>\n",
       "<table border=\"1\" class=\"dataframe\">\n",
       "  <thead>\n",
       "    <tr style=\"text-align: right;\">\n",
       "      <th></th>\n",
       "      <th>X(km)</th>\n",
       "      <th>Y(km)</th>\n",
       "      <th>Thickness(m)</th>\n",
       "      <th>Concentration(ppm)</th>\n",
       "    </tr>\n",
       "  </thead>\n",
       "  <tbody>\n",
       "    <tr>\n",
       "      <th>0</th>\n",
       "      <td>1</td>\n",
       "      <td>1</td>\n",
       "      <td>57.5</td>\n",
       "      <td>39</td>\n",
       "    </tr>\n",
       "    <tr>\n",
       "      <th>1</th>\n",
       "      <td>2</td>\n",
       "      <td>1</td>\n",
       "      <td>35.8</td>\n",
       "      <td>56</td>\n",
       "    </tr>\n",
       "    <tr>\n",
       "      <th>2</th>\n",
       "      <td>3</td>\n",
       "      <td>1</td>\n",
       "      <td>78.9</td>\n",
       "      <td>100</td>\n",
       "    </tr>\n",
       "    <tr>\n",
       "      <th>3</th>\n",
       "      <td>4</td>\n",
       "      <td>1</td>\n",
       "      <td>49.2</td>\n",
       "      <td>25</td>\n",
       "    </tr>\n",
       "    <tr>\n",
       "      <th>4</th>\n",
       "      <td>5</td>\n",
       "      <td>1</td>\n",
       "      <td>47.9</td>\n",
       "      <td>42</td>\n",
       "    </tr>\n",
       "    <tr>\n",
       "      <th>...</th>\n",
       "      <td>...</td>\n",
       "      <td>...</td>\n",
       "      <td>...</td>\n",
       "      <td>...</td>\n",
       "    </tr>\n",
       "    <tr>\n",
       "      <th>593</th>\n",
       "      <td>9</td>\n",
       "      <td>46</td>\n",
       "      <td>69.6</td>\n",
       "      <td>105</td>\n",
       "    </tr>\n",
       "    <tr>\n",
       "      <th>594</th>\n",
       "      <td>10</td>\n",
       "      <td>46</td>\n",
       "      <td>1.6</td>\n",
       "      <td>62</td>\n",
       "    </tr>\n",
       "    <tr>\n",
       "      <th>595</th>\n",
       "      <td>11</td>\n",
       "      <td>46</td>\n",
       "      <td>78.3</td>\n",
       "      <td>5</td>\n",
       "    </tr>\n",
       "    <tr>\n",
       "      <th>596</th>\n",
       "      <td>12</td>\n",
       "      <td>46</td>\n",
       "      <td>14.0</td>\n",
       "      <td>45</td>\n",
       "    </tr>\n",
       "    <tr>\n",
       "      <th>597</th>\n",
       "      <td>13</td>\n",
       "      <td>46</td>\n",
       "      <td>46.8</td>\n",
       "      <td>122</td>\n",
       "    </tr>\n",
       "  </tbody>\n",
       "</table>\n",
       "<p>598 rows × 4 columns</p>\n",
       "</div>"
      ],
      "text/plain": [
       "     X(km)  Y(km)  Thickness(m)  Concentration(ppm)\n",
       "0        1      1          57.5                  39\n",
       "1        2      1          35.8                  56\n",
       "2        3      1          78.9                 100\n",
       "3        4      1          49.2                  25\n",
       "4        5      1          47.9                  42\n",
       "..     ...    ...           ...                 ...\n",
       "593      9     46          69.6                 105\n",
       "594     10     46           1.6                  62\n",
       "595     11     46          78.3                   5\n",
       "596     12     46          14.0                  45\n",
       "597     13     46          46.8                 122\n",
       "\n",
       "[598 rows x 4 columns]"
      ]
     },
     "execution_count": 2,
     "metadata": {},
     "output_type": "execute_result"
    }
   ],
   "source": [
    "df"
   ]
  },
  {
   "cell_type": "markdown",
   "metadata": {},
   "source": [
    "Now we are going to store each column to a new variable required for further work:"
   ]
  },
  {
   "cell_type": "code",
   "execution_count": 3,
   "metadata": {},
   "outputs": [],
   "source": [
    "x=df['X(km)'] \n",
    "y=df['Y(km)']\n",
    "h=df['Thickness(m)'] \n",
    "conc=df['Concentration(ppm)']/1e6 #We devided ppm by 1e6 to obtain the volume fraction of copper "
   ]
  },
  {
   "cell_type": "markdown",
   "metadata": {},
   "source": [
    "## Task 1: Calculate the amount of Cu in the entire area\n",
    "\n",
    "To calculate the total amount of Cu in the entire area, you need:\n",
    "* The volume of copper-bearing formation for each well  = Thickness (m) x Area (m)\n",
    "* The volume of copper for each well = Volume (m3) x ppm\n",
    "* The mass of copper per well = Volume of copper x Density of copper\n",
    "* Total mass of copper in the entire area = sum of the copper mass in all the wells\n",
    "\n",
    "*Note: To achieve this task, you can use the `for loop` to repeat the calculation for each well (more about the `for loops` can be found <a href=\"https://www.w3schools.com/python/python_for_loops.asp\" target=\"_blank\">here.</a>). Alternatively, use the facts that (i) the multiplication of a number with panda series gives the product of the each element in the series with that number, and (ii) multiplying two panda series (e.g x*y) gives a new series that is element-by-element product of these two series. Although the second way is shorter, use the `for loop` in order to get familiar with it.* "
   ]
  },
  {
   "cell_type": "code",
   "execution_count": 4,
   "metadata": {},
   "outputs": [],
   "source": [
    "N_wells=len(h) #Number of wells\n",
    "area=1000000 #Representative area for each well is 1e6 m2 (1km2)\n",
    "ro=8960 #Density of copper = 8960kg/m3\n",
    "Mass=0 #Initialise total mass, we will add incrementally to it the mass of each well\n",
    "\n",
    "for i in range(N_wells):    # The loop runs over all the wells\n",
    "    Mwell=h[i]*area*ro*conc[i]/1e3 #Mass per well in tonnes (that's why division with 1000) \n",
    "    Mass=Mass+Mwell #Total mass in tonnes"
   ]
  },
  {
   "cell_type": "markdown",
   "metadata": {},
   "source": [
    "Now we can print out our result:"
   ]
  },
  {
   "cell_type": "code",
   "execution_count": 5,
   "metadata": {},
   "outputs": [
    {
     "name": "stdout",
     "output_type": "stream",
     "text": [
      "Total mass of copper in the entire area is 3.25e+07 tonnes\n"
     ]
    }
   ],
   "source": [
    "print(\"Total mass of copper in the entire area is %.3g tonnes\" %Mass)  \n",
    "# g - general data format\n",
    "# In this example the number is rounded to 3 significant digits (3 decimal places need to be calculated to obtain the result above)."
   ]
  },
  {
   "cell_type": "markdown",
   "metadata": {},
   "source": [
    "\n",
    "\n",
    "## Task 2: Find the location for a 3km x 3km mine that contains the most copper\n",
    "\n",
    "To achieve this task, the data need to be re-arranged to 2D arrays, where each measurement is at (x,y) location. You can think about it as a grid (or matrix), where each point on the grid (element of the matrix) has (x,y) coordinates. If x runs in E-W direction, and y in N-S direction, then the number of columns of our 2D array will be 13 (the number of x-values)\n",
    " and the number of rows 46 (the number of y-values). \n",
    " To work with arrays, **numpy** library needs to be imported (find more about `numpy` <a href=\"https://www.w3schools.com/python/numpy/default.asp\" target=\"_blank\">here</a>).\n",
    " \n",
    "We import the numpy library and convert our data to 2D arrays below:"
   ]
  },
  {
   "cell_type": "code",
   "execution_count": 6,
   "metadata": {},
   "outputs": [],
   "source": [
    "import numpy as np\n",
    "Mwell = h*conc*area*ro/1000  #Copper mass in tonnes in each well as panda series \n",
    "Mwell_arr=np.array(Mwell) #Convert panda series into numpy array in order to be able to reshape it into a matrix/grid\n",
    "Mwell2D = Mwell_arr.reshape(46,13) #Converting 1D array to 2D array (matrix/grid)"
   ]
  },
  {
   "cell_type": "markdown",
   "metadata": {},
   "source": [
    "Check the structure of `Mwell` and `Mwell2D` by typing their names in the code boxes below:"
   ]
  },
  {
   "cell_type": "code",
   "execution_count": 7,
   "metadata": {
    "scrolled": true
   },
   "outputs": [
    {
     "data": {
      "text/plain": [
       "0      20092.800\n",
       "1      17963.008\n",
       "2      70694.400\n",
       "3      11020.800\n",
       "4      18025.728\n",
       "         ...    \n",
       "593    65479.680\n",
       "594      888.832\n",
       "595     3507.840\n",
       "596     5644.800\n",
       "597    51158.016\n",
       "Length: 598, dtype: float64"
      ]
     },
     "execution_count": 7,
     "metadata": {},
     "output_type": "execute_result"
    }
   ],
   "source": [
    "Mwell #Display Mwell"
   ]
  },
  {
   "cell_type": "code",
   "execution_count": 8,
   "metadata": {},
   "outputs": [
    {
     "data": {
      "text/plain": [
       "array([[2.00928000e+04, 1.79630080e+04, 7.06944000e+04, 1.10208000e+04,\n",
       "        1.80257280e+04, 2.30630400e+04, 9.27360000e+03, 1.97120000e+04,\n",
       "        1.13100288e+05, 2.60825600e+03, 5.20325120e+04, 4.47552000e+03,\n",
       "        8.58762240e+04],\n",
       "       [3.18312960e+04, 7.62854400e+04, 2.97310720e+04, 3.10007040e+04,\n",
       "        9.52107520e+04, 2.04288000e+03, 5.14304000e+03, 1.05882112e+05,\n",
       "        7.81930240e+04, 1.31622400e+04, 1.76960000e+04, 9.59616000e+03,\n",
       "        3.22837760e+04],\n",
       "       [2.41597440e+04, 1.65473280e+04, 1.49524480e+04, 4.41728000e+04,\n",
       "        8.74316800e+03, 6.34798080e+04, 3.87430400e+03, 8.14464000e+03,\n",
       "        9.43488000e+03, 5.77024000e+02, 2.10112000e+04, 6.45120000e+02,\n",
       "        9.74668800e+04],\n",
       "       [4.68016640e+04, 0.00000000e+00, 3.13241600e+03, 1.49990400e+03,\n",
       "        1.83617280e+04, 7.66080000e+02, 0.00000000e+00, 6.93862400e+04,\n",
       "        3.41591040e+04, 9.14833920e+04, 3.36483840e+04, 4.08038400e+03,\n",
       "        5.65734400e+03],\n",
       "       [4.91097600e+03, 3.51232000e+03, 4.29004800e+04, 3.10625280e+04,\n",
       "        8.02816000e+04, 9.55136000e+04, 5.54659840e+04, 3.04998400e+04,\n",
       "        1.62032640e+04, 8.01203200e+03, 5.31256320e+04, 5.12404480e+04,\n",
       "        3.00124160e+04],\n",
       "       [1.88787200e+04, 1.18200320e+04, 5.83296000e+04, 7.61241600e+03,\n",
       "        7.52989440e+04, 6.01610240e+04, 3.80889600e+04, 1.58457600e+04,\n",
       "        1.12896000e+03, 1.32572160e+04, 2.52887040e+04, 7.82252800e+04,\n",
       "        4.29632000e+04],\n",
       "       [3.06073600e+04, 1.06638336e+05, 1.17734400e+05, 9.94201600e+03,\n",
       "        2.70950400e+04, 2.48102400e+03, 4.42659840e+04, 1.02072320e+04,\n",
       "        3.13313280e+04, 3.02400000e+03, 3.24244480e+04, 3.11449600e+04,\n",
       "        1.41657600e+04],\n",
       "       [2.18516480e+04, 1.19006720e+05, 1.38064640e+04, 5.28012800e+04,\n",
       "        4.23987200e+04, 3.11808000e+03, 8.02502400e+04, 1.21889152e+05,\n",
       "        2.51973120e+04, 3.61984000e+03, 5.95445760e+04, 8.84262400e+03,\n",
       "        3.31645440e+04],\n",
       "       [8.00343040e+04, 2.37233920e+04, 8.17107200e+04, 2.20846080e+04,\n",
       "        4.24345600e+04, 8.40806400e+03, 2.12800000e+05, 1.64451840e+05,\n",
       "        1.69594880e+05, 8.31864320e+04, 3.97824000e+03, 3.13107200e+04,\n",
       "        5.15424000e+04],\n",
       "       [8.89235200e+04, 9.04144640e+04, 6.16412160e+04, 1.26013440e+04,\n",
       "        9.15712000e+03, 7.41171200e+04, 1.12091392e+05, 1.37593344e+05,\n",
       "        6.46186240e+05, 3.56934144e+05, 2.06457216e+05, 3.24979200e+04,\n",
       "        2.94784000e+03],\n",
       "       [7.85030400e+04, 6.66624000e+03, 1.78304000e+03, 2.74767360e+04,\n",
       "        1.44462080e+04, 5.21203200e+03, 1.44503296e+05, 1.66512640e+05,\n",
       "        1.00496256e+05, 1.58669056e+05, 1.12716800e+05, 4.31370240e+04,\n",
       "        4.96634880e+04],\n",
       "       [1.25888000e+04, 8.00307200e+03, 5.59462400e+03, 3.06449920e+04,\n",
       "        9.06796800e+04, 2.21088000e+04, 3.64492800e+03, 3.74922240e+05,\n",
       "        2.89825536e+05, 2.91450880e+05, 1.37894400e+04, 3.35211520e+04,\n",
       "        2.27942400e+04],\n",
       "       [1.05808640e+04, 3.78201600e+04, 4.05565440e+04, 4.06694400e+04,\n",
       "        1.96761600e+04, 3.60622080e+04, 2.44294400e+04, 1.89665280e+05,\n",
       "        2.01644800e+05, 4.11640320e+05, 2.87822080e+05, 4.02886400e+04,\n",
       "        1.09267200e+05],\n",
       "       [4.13952000e+03, 4.22912000e+03, 5.14304000e+02, 1.64864000e+04,\n",
       "        2.58469120e+04, 3.43616000e+04, 3.09120000e+03, 4.02124800e+05,\n",
       "        3.13322240e+04, 0.00000000e+00, 1.36549504e+05, 2.33318400e+04,\n",
       "        2.81487360e+04],\n",
       "       [2.49984000e+04, 1.22304000e+04, 5.52599040e+04, 5.14805760e+04,\n",
       "        2.38049280e+04, 1.91923200e+04, 1.08605952e+05, 3.13850880e+04,\n",
       "        6.79734272e+05, 4.62873600e+04, 6.19799040e+04, 6.00893440e+04,\n",
       "        1.79845120e+04],\n",
       "       [5.10720000e+04, 8.67328000e+04, 8.85588480e+04, 1.54918400e+04,\n",
       "        2.09440000e+04, 6.80064000e+02, 4.95613440e+04, 5.76844800e+04,\n",
       "        5.24590080e+04, 2.95187200e+04, 8.10996480e+04, 6.28992000e+04,\n",
       "        6.38668800e+03],\n",
       "       [7.95648000e+03, 1.27339520e+04, 4.48286720e+04, 2.33479680e+04,\n",
       "        8.59084800e+04, 4.41548800e+03, 2.73369600e+04, 1.13120000e+04,\n",
       "        6.23902720e+04, 3.42720000e+03, 3.74528000e+04, 9.26105600e+04,\n",
       "        2.01761280e+04],\n",
       "       [4.39756800e+03, 2.05004800e+04, 1.89235200e+04, 1.98912000e+04,\n",
       "        1.18540800e+04, 9.64418560e+04, 6.69061120e+04, 5.50735360e+04,\n",
       "        4.00942080e+04, 1.18390272e+05, 0.00000000e+00, 5.74963200e+04,\n",
       "        1.16963840e+04],\n",
       "       [1.19481600e+04, 7.35400960e+04, 4.66672640e+04, 5.48800000e+03,\n",
       "        1.74612480e+04, 8.77363200e+04, 6.72000000e+02, 2.57116160e+04,\n",
       "        3.20051200e+03, 5.21525760e+04, 5.52061440e+04, 8.39731200e+03,\n",
       "        3.05527040e+04],\n",
       "       [1.40851200e+04, 5.52509440e+04, 7.92834560e+04, 1.47840000e+03,\n",
       "        6.16000000e+03, 1.37509120e+04, 6.29888000e+02, 2.74176000e+04,\n",
       "        4.37606400e+04, 4.92477440e+04, 5.55304960e+04, 1.13568000e+04,\n",
       "        1.07520000e+04],\n",
       "       [1.01842944e+05, 5.12870400e+03, 2.94112000e+04, 1.09132800e+04,\n",
       "        5.19518720e+04, 4.04992000e+02, 7.72800000e+04, 4.38771200e+04,\n",
       "        5.21830400e+04, 1.25372800e+05, 3.85082880e+04, 3.08672000e+04,\n",
       "        3.63686400e+03],\n",
       "       [4.22195200e+04, 4.61260800e+04, 9.75887360e+04, 9.43488000e+02,\n",
       "        4.40581120e+04, 3.57459200e+04, 1.94521600e+03, 1.13508864e+05,\n",
       "        6.97939200e+04, 2.54876160e+04, 9.82007040e+04, 1.26353920e+04,\n",
       "        3.72270080e+04],\n",
       "       [2.94246400e+04, 3.17434880e+04, 6.26465280e+04, 1.78752000e+04,\n",
       "        1.47965440e+04, 1.53054720e+04, 2.58639360e+04, 9.19367680e+04,\n",
       "        5.34912000e+04, 2.36544000e+03, 1.36102400e+04, 2.80904960e+04,\n",
       "        2.00202240e+04],\n",
       "       [1.08075520e+05, 5.23801600e+04, 3.34548480e+04, 4.13163520e+04,\n",
       "        7.48787200e+03, 2.18480640e+04, 1.14240000e+04, 3.19872000e+04,\n",
       "        3.20624640e+04, 2.86809600e+04, 2.75824640e+04, 1.00817920e+04,\n",
       "        5.85446400e+04],\n",
       "       [1.85740800e+04, 1.27948800e+04, 1.03907328e+05, 3.93523200e+03,\n",
       "        3.44960000e+04, 3.68256000e+02, 2.92239360e+04, 8.96000000e+01,\n",
       "        2.65216000e+03, 6.22720000e+02, 2.20666880e+04, 1.31765760e+04,\n",
       "        1.77909760e+04],\n",
       "       [5.98563840e+04, 7.89376000e+04, 6.58739200e+04, 7.54790400e+03,\n",
       "        6.17451520e+04, 2.70376960e+04, 1.83500800e+03, 2.43667200e+04,\n",
       "        4.74252800e+03, 3.44332800e+03, 2.05632000e+04, 1.12000000e+03,\n",
       "        2.92588800e+04],\n",
       "       [6.41267200e+03, 3.95852800e+04, 2.33632000e+04, 6.20928000e+02,\n",
       "        5.95840000e+03, 2.53478400e+04, 2.43111680e+04, 6.48345600e+04,\n",
       "        1.27868160e+04, 7.77952000e+04, 1.81825280e+04, 3.87045120e+04,\n",
       "        1.32670720e+04],\n",
       "       [1.11742848e+05, 4.54245120e+04, 1.95059200e+03, 3.73184000e+04,\n",
       "        3.98720000e+04, 7.56716800e+04, 1.81574400e+04, 2.56256000e+04,\n",
       "        6.80010240e+04, 3.52235520e+04, 5.38603520e+04, 1.43360000e+02,\n",
       "        3.63417600e+04],\n",
       "       [3.88864000e+04, 2.50880000e+03, 2.06348800e+04, 1.12107520e+04,\n",
       "        2.37081600e+04, 4.31782400e+04, 5.09071360e+04, 5.72006400e+03,\n",
       "        3.38688000e+03, 7.95379200e+03, 1.48019200e+04, 3.11342080e+04,\n",
       "        1.62355200e+04],\n",
       "       [5.78054400e+04, 4.09920000e+04, 2.58048000e+04, 2.88992256e+05,\n",
       "        4.77747200e+04, 3.78470400e+04, 4.28646400e+04, 9.22880000e+01,\n",
       "        3.18393600e+04, 3.37075200e+04, 7.84143360e+04, 9.51552000e+02,\n",
       "        4.84323840e+04],\n",
       "       [2.39187200e+04, 3.60747520e+04, 2.63983104e+05, 2.95711360e+05,\n",
       "        2.82490880e+04, 3.51067136e+05, 3.39225600e+03, 1.93536000e+04,\n",
       "        1.19266560e+04, 4.29542400e+04, 8.06400000e+02, 1.13541120e+04,\n",
       "        1.68609280e+04],\n",
       "       [5.82785280e+04, 4.95326720e+04, 2.00766720e+04, 1.12448000e+05,\n",
       "        2.60467200e+03, 1.97084160e+05, 3.17990400e+04, 2.73504000e+05,\n",
       "        8.49425920e+04, 4.98892800e+04, 1.44076800e+03, 7.05331200e+03,\n",
       "        5.87059200e+03],\n",
       "       [8.08640000e+04, 6.07129600e+03, 1.66763520e+05, 1.07063040e+05,\n",
       "        3.46816512e+05, 1.99327744e+05, 3.32226048e+05, 2.73934080e+04,\n",
       "        1.01382400e+04, 6.00535040e+04, 1.40734720e+04, 5.97094400e+03,\n",
       "        3.86265600e+04],\n",
       "       [5.74963200e+03, 6.72698880e+04, 4.04705280e+05, 3.98711040e+04,\n",
       "        3.54995200e+04, 8.79836160e+04, 6.20218368e+05, 2.58244224e+05,\n",
       "        3.08994560e+04, 1.15368960e+04, 1.49488640e+04, 3.47612160e+04,\n",
       "        1.38772480e+04],\n",
       "       [2.55136000e+04, 5.42259200e+03, 1.52394368e+05, 2.43712000e+03,\n",
       "        3.11210368e+05, 5.73775104e+05, 1.70943360e+05, 2.68434432e+05,\n",
       "        2.99264000e+04, 5.64480000e+03, 8.69120000e+03, 1.01283840e+04,\n",
       "        5.61254400e+03],\n",
       "       [1.61441280e+04, 7.56770560e+04, 3.19011840e+04, 3.34410496e+05,\n",
       "        1.61244160e+05, 5.55313920e+05, 9.32736000e+04, 5.03193600e+05,\n",
       "        1.10073600e+05, 4.31280640e+04, 6.51123200e+03, 1.17483520e+04,\n",
       "        1.12000000e+03],\n",
       "       [3.76320000e+04, 1.18153728e+05, 1.36668672e+05, 1.80965120e+05,\n",
       "        2.20424960e+04, 4.23987200e+05, 8.84235520e+04, 1.07677696e+05,\n",
       "        1.76691200e+05, 5.91360000e+03, 2.64463360e+04, 3.98720000e+04,\n",
       "        5.60358400e+03],\n",
       "       [2.54464000e+03, 3.89939200e+04, 2.32064000e+03, 9.09440000e+04,\n",
       "        3.83846400e+04, 8.92308480e+04, 1.03102720e+04, 3.48508160e+04,\n",
       "        9.43022080e+04, 6.77376000e+02, 7.66976000e+02, 7.09632000e+02,\n",
       "        4.78033920e+04],\n",
       "       [7.75407360e+04, 1.05862400e+04, 3.30668800e+04, 2.40038400e+04,\n",
       "        7.45472000e+03, 7.99232000e+03, 1.12000000e+04, 2.68800000e+04,\n",
       "        1.09132800e+03, 2.57152000e+04, 1.89629440e+04, 1.24588800e+04,\n",
       "        6.98880000e+03],\n",
       "       [5.43262720e+04, 2.77482240e+04, 7.17615360e+04, 1.30690560e+04,\n",
       "        1.93984000e+04, 3.44960000e+04, 1.23074560e+04, 1.30493440e+04,\n",
       "        3.63776000e+02, 4.09624320e+04, 1.73716480e+04, 1.11677440e+04,\n",
       "        3.54977280e+04],\n",
       "       [1.48736000e+04, 5.67705600e+03, 4.79136000e+04, 6.76300800e+04,\n",
       "        3.14496000e+04, 1.14688000e+03, 5.35808000e+03, 9.66058240e+04,\n",
       "        4.34649600e+04, 2.04413440e+04, 9.89148160e+04, 1.24400640e+04,\n",
       "        3.77395200e+04],\n",
       "       [9.04243200e+04, 3.05356800e+04, 1.09294080e+04, 8.03496960e+04,\n",
       "        8.53888000e+03, 2.98368000e+03, 4.62873600e+04, 1.08864000e+04,\n",
       "        2.59768320e+04, 2.79713280e+04, 5.05272320e+04, 8.63089920e+04,\n",
       "        1.97317120e+04],\n",
       "       [2.39590400e+04, 1.56549120e+04, 1.39059200e+04, 5.47921920e+04,\n",
       "        4.72236800e+04, 8.94387200e+04, 3.27264000e+04, 2.97669120e+04,\n",
       "        3.08689920e+04, 9.03168000e+03, 3.98773760e+04, 1.18021120e+05,\n",
       "        5.08032000e+03],\n",
       "       [6.06412800e+03, 2.95142400e+04, 2.04288000e+03, 5.30432000e+04,\n",
       "        3.14576640e+04, 5.13676800e+04, 2.25792000e+03, 2.66174720e+04,\n",
       "        2.04019200e+04, 4.00619520e+04, 1.12358400e+04, 7.58822400e+04,\n",
       "        2.55825920e+04],\n",
       "       [8.14016000e+03, 0.00000000e+00, 1.80696320e+04, 1.70849280e+04,\n",
       "        4.58895360e+04, 3.70406400e+03, 6.75118080e+04, 1.32608000e+04,\n",
       "        1.10719616e+05, 1.02862592e+05, 6.56051200e+04, 1.68985600e+04,\n",
       "        7.69484800e+03],\n",
       "       [2.73280000e+03, 6.94220800e+03, 4.41987840e+04, 4.27822080e+04,\n",
       "        2.52600320e+04, 3.73739520e+04, 5.67168000e+04, 3.56832000e+04,\n",
       "        6.54796800e+04, 8.88832000e+02, 3.50784000e+03, 5.64480000e+03,\n",
       "        5.11580160e+04]])"
      ]
     },
     "execution_count": 8,
     "metadata": {},
     "output_type": "execute_result"
    }
   ],
   "source": [
    "Mwell2D #Display Mwell2D"
   ]
  },
  {
   "cell_type": "markdown",
   "metadata": {},
   "source": [
    "Re-arrange x and y variables to 2D arrays in the same way we did it above with `MWell` above (call them `x2D` and `y2D`). Display them to check if the grid is correctly created. We also need them for the further calculation and plotting. "
   ]
  },
  {
   "cell_type": "code",
   "execution_count": 9,
   "metadata": {},
   "outputs": [],
   "source": [
    "x_arr=np.array(x) # convert x and y pandas series to numpy arrays\n",
    "y_arr=np.array(y)\n",
    "x2D=x_arr.reshape(46,13) # convert 1D arrays to 2D arrays (grid)\n",
    "y2D=y_arr.reshape(46,13)"
   ]
  },
  {
   "cell_type": "code",
   "execution_count": 10,
   "metadata": {},
   "outputs": [
    {
     "data": {
      "text/plain": [
       "array([[ 1,  2,  3,  4,  5,  6,  7,  8,  9, 10, 11, 12, 13],\n",
       "       [ 1,  2,  3,  4,  5,  6,  7,  8,  9, 10, 11, 12, 13],\n",
       "       [ 1,  2,  3,  4,  5,  6,  7,  8,  9, 10, 11, 12, 13],\n",
       "       [ 1,  2,  3,  4,  5,  6,  7,  8,  9, 10, 11, 12, 13],\n",
       "       [ 1,  2,  3,  4,  5,  6,  7,  8,  9, 10, 11, 12, 13],\n",
       "       [ 1,  2,  3,  4,  5,  6,  7,  8,  9, 10, 11, 12, 13],\n",
       "       [ 1,  2,  3,  4,  5,  6,  7,  8,  9, 10, 11, 12, 13],\n",
       "       [ 1,  2,  3,  4,  5,  6,  7,  8,  9, 10, 11, 12, 13],\n",
       "       [ 1,  2,  3,  4,  5,  6,  7,  8,  9, 10, 11, 12, 13],\n",
       "       [ 1,  2,  3,  4,  5,  6,  7,  8,  9, 10, 11, 12, 13],\n",
       "       [ 1,  2,  3,  4,  5,  6,  7,  8,  9, 10, 11, 12, 13],\n",
       "       [ 1,  2,  3,  4,  5,  6,  7,  8,  9, 10, 11, 12, 13],\n",
       "       [ 1,  2,  3,  4,  5,  6,  7,  8,  9, 10, 11, 12, 13],\n",
       "       [ 1,  2,  3,  4,  5,  6,  7,  8,  9, 10, 11, 12, 13],\n",
       "       [ 1,  2,  3,  4,  5,  6,  7,  8,  9, 10, 11, 12, 13],\n",
       "       [ 1,  2,  3,  4,  5,  6,  7,  8,  9, 10, 11, 12, 13],\n",
       "       [ 1,  2,  3,  4,  5,  6,  7,  8,  9, 10, 11, 12, 13],\n",
       "       [ 1,  2,  3,  4,  5,  6,  7,  8,  9, 10, 11, 12, 13],\n",
       "       [ 1,  2,  3,  4,  5,  6,  7,  8,  9, 10, 11, 12, 13],\n",
       "       [ 1,  2,  3,  4,  5,  6,  7,  8,  9, 10, 11, 12, 13],\n",
       "       [ 1,  2,  3,  4,  5,  6,  7,  8,  9, 10, 11, 12, 13],\n",
       "       [ 1,  2,  3,  4,  5,  6,  7,  8,  9, 10, 11, 12, 13],\n",
       "       [ 1,  2,  3,  4,  5,  6,  7,  8,  9, 10, 11, 12, 13],\n",
       "       [ 1,  2,  3,  4,  5,  6,  7,  8,  9, 10, 11, 12, 13],\n",
       "       [ 1,  2,  3,  4,  5,  6,  7,  8,  9, 10, 11, 12, 13],\n",
       "       [ 1,  2,  3,  4,  5,  6,  7,  8,  9, 10, 11, 12, 13],\n",
       "       [ 1,  2,  3,  4,  5,  6,  7,  8,  9, 10, 11, 12, 13],\n",
       "       [ 1,  2,  3,  4,  5,  6,  7,  8,  9, 10, 11, 12, 13],\n",
       "       [ 1,  2,  3,  4,  5,  6,  7,  8,  9, 10, 11, 12, 13],\n",
       "       [ 1,  2,  3,  4,  5,  6,  7,  8,  9, 10, 11, 12, 13],\n",
       "       [ 1,  2,  3,  4,  5,  6,  7,  8,  9, 10, 11, 12, 13],\n",
       "       [ 1,  2,  3,  4,  5,  6,  7,  8,  9, 10, 11, 12, 13],\n",
       "       [ 1,  2,  3,  4,  5,  6,  7,  8,  9, 10, 11, 12, 13],\n",
       "       [ 1,  2,  3,  4,  5,  6,  7,  8,  9, 10, 11, 12, 13],\n",
       "       [ 1,  2,  3,  4,  5,  6,  7,  8,  9, 10, 11, 12, 13],\n",
       "       [ 1,  2,  3,  4,  5,  6,  7,  8,  9, 10, 11, 12, 13],\n",
       "       [ 1,  2,  3,  4,  5,  6,  7,  8,  9, 10, 11, 12, 13],\n",
       "       [ 1,  2,  3,  4,  5,  6,  7,  8,  9, 10, 11, 12, 13],\n",
       "       [ 1,  2,  3,  4,  5,  6,  7,  8,  9, 10, 11, 12, 13],\n",
       "       [ 1,  2,  3,  4,  5,  6,  7,  8,  9, 10, 11, 12, 13],\n",
       "       [ 1,  2,  3,  4,  5,  6,  7,  8,  9, 10, 11, 12, 13],\n",
       "       [ 1,  2,  3,  4,  5,  6,  7,  8,  9, 10, 11, 12, 13],\n",
       "       [ 1,  2,  3,  4,  5,  6,  7,  8,  9, 10, 11, 12, 13],\n",
       "       [ 1,  2,  3,  4,  5,  6,  7,  8,  9, 10, 11, 12, 13],\n",
       "       [ 1,  2,  3,  4,  5,  6,  7,  8,  9, 10, 11, 12, 13],\n",
       "       [ 1,  2,  3,  4,  5,  6,  7,  8,  9, 10, 11, 12, 13]], dtype=int64)"
      ]
     },
     "execution_count": 10,
     "metadata": {},
     "output_type": "execute_result"
    }
   ],
   "source": [
    "x2D # Display x2D array - x coordinates of your grid points"
   ]
  },
  {
   "cell_type": "code",
   "execution_count": 11,
   "metadata": {},
   "outputs": [
    {
     "data": {
      "text/plain": [
       "array([[ 1,  1,  1,  1,  1,  1,  1,  1,  1,  1,  1,  1,  1],\n",
       "       [ 2,  2,  2,  2,  2,  2,  2,  2,  2,  2,  2,  2,  2],\n",
       "       [ 3,  3,  3,  3,  3,  3,  3,  3,  3,  3,  3,  3,  3],\n",
       "       [ 4,  4,  4,  4,  4,  4,  4,  4,  4,  4,  4,  4,  4],\n",
       "       [ 5,  5,  5,  5,  5,  5,  5,  5,  5,  5,  5,  5,  5],\n",
       "       [ 6,  6,  6,  6,  6,  6,  6,  6,  6,  6,  6,  6,  6],\n",
       "       [ 7,  7,  7,  7,  7,  7,  7,  7,  7,  7,  7,  7,  7],\n",
       "       [ 8,  8,  8,  8,  8,  8,  8,  8,  8,  8,  8,  8,  8],\n",
       "       [ 9,  9,  9,  9,  9,  9,  9,  9,  9,  9,  9,  9,  9],\n",
       "       [10, 10, 10, 10, 10, 10, 10, 10, 10, 10, 10, 10, 10],\n",
       "       [11, 11, 11, 11, 11, 11, 11, 11, 11, 11, 11, 11, 11],\n",
       "       [12, 12, 12, 12, 12, 12, 12, 12, 12, 12, 12, 12, 12],\n",
       "       [13, 13, 13, 13, 13, 13, 13, 13, 13, 13, 13, 13, 13],\n",
       "       [14, 14, 14, 14, 14, 14, 14, 14, 14, 14, 14, 14, 14],\n",
       "       [15, 15, 15, 15, 15, 15, 15, 15, 15, 15, 15, 15, 15],\n",
       "       [16, 16, 16, 16, 16, 16, 16, 16, 16, 16, 16, 16, 16],\n",
       "       [17, 17, 17, 17, 17, 17, 17, 17, 17, 17, 17, 17, 17],\n",
       "       [18, 18, 18, 18, 18, 18, 18, 18, 18, 18, 18, 18, 18],\n",
       "       [19, 19, 19, 19, 19, 19, 19, 19, 19, 19, 19, 19, 19],\n",
       "       [20, 20, 20, 20, 20, 20, 20, 20, 20, 20, 20, 20, 20],\n",
       "       [21, 21, 21, 21, 21, 21, 21, 21, 21, 21, 21, 21, 21],\n",
       "       [22, 22, 22, 22, 22, 22, 22, 22, 22, 22, 22, 22, 22],\n",
       "       [23, 23, 23, 23, 23, 23, 23, 23, 23, 23, 23, 23, 23],\n",
       "       [24, 24, 24, 24, 24, 24, 24, 24, 24, 24, 24, 24, 24],\n",
       "       [25, 25, 25, 25, 25, 25, 25, 25, 25, 25, 25, 25, 25],\n",
       "       [26, 26, 26, 26, 26, 26, 26, 26, 26, 26, 26, 26, 26],\n",
       "       [27, 27, 27, 27, 27, 27, 27, 27, 27, 27, 27, 27, 27],\n",
       "       [28, 28, 28, 28, 28, 28, 28, 28, 28, 28, 28, 28, 28],\n",
       "       [29, 29, 29, 29, 29, 29, 29, 29, 29, 29, 29, 29, 29],\n",
       "       [30, 30, 30, 30, 30, 30, 30, 30, 30, 30, 30, 30, 30],\n",
       "       [31, 31, 31, 31, 31, 31, 31, 31, 31, 31, 31, 31, 31],\n",
       "       [32, 32, 32, 32, 32, 32, 32, 32, 32, 32, 32, 32, 32],\n",
       "       [33, 33, 33, 33, 33, 33, 33, 33, 33, 33, 33, 33, 33],\n",
       "       [34, 34, 34, 34, 34, 34, 34, 34, 34, 34, 34, 34, 34],\n",
       "       [35, 35, 35, 35, 35, 35, 35, 35, 35, 35, 35, 35, 35],\n",
       "       [36, 36, 36, 36, 36, 36, 36, 36, 36, 36, 36, 36, 36],\n",
       "       [37, 37, 37, 37, 37, 37, 37, 37, 37, 37, 37, 37, 37],\n",
       "       [38, 38, 38, 38, 38, 38, 38, 38, 38, 38, 38, 38, 38],\n",
       "       [39, 39, 39, 39, 39, 39, 39, 39, 39, 39, 39, 39, 39],\n",
       "       [40, 40, 40, 40, 40, 40, 40, 40, 40, 40, 40, 40, 40],\n",
       "       [41, 41, 41, 41, 41, 41, 41, 41, 41, 41, 41, 41, 41],\n",
       "       [42, 42, 42, 42, 42, 42, 42, 42, 42, 42, 42, 42, 42],\n",
       "       [43, 43, 43, 43, 43, 43, 43, 43, 43, 43, 43, 43, 43],\n",
       "       [44, 44, 44, 44, 44, 44, 44, 44, 44, 44, 44, 44, 44],\n",
       "       [45, 45, 45, 45, 45, 45, 45, 45, 45, 45, 45, 45, 45],\n",
       "       [46, 46, 46, 46, 46, 46, 46, 46, 46, 46, 46, 46, 46]], dtype=int64)"
      ]
     },
     "execution_count": 11,
     "metadata": {},
     "output_type": "execute_result"
    }
   ],
   "source": [
    "y2D #Display y2D array - y-coordinates of your grid points"
   ]
  },
  {
   "cell_type": "markdown",
   "metadata": {},
   "source": [
    "We can now search for the 3km x 3km mine containing the most copper. For this we need to check the amount of copper in all the squares across the entire area, spanned by 3x3 wells (remember that we assumed that each well data cover the area of 1km2 - again, this is a very crude assumption but it will suffice for this exercise). \n",
    "\n",
    "In order to perform the grid search for such squares, we do the following:\n",
    "* Place the corner of the square to the first row and the first column of our grid and calculate the amount of copper in this square.\n",
    "* Remember the value as the max value (indeed, it is the maximum value up to now)\n",
    "* While staying in the first row, the corner of the square is moved to the next column, and the ammount of copper is calculated for this square. \n",
    "* The obtained value is compared with the maximum value. If it is greater than it, the current value becomes maximum. \n",
    "* Repeat the procedure while the corner is in the (last-2)-th column (because the 3x3 square will extend to the last column)\n",
    "* Move to the second row and repeat the procedure moving the corner of the square from the first to (last-2) column\n",
    "* Repeat the procedure until you reach (last-2)-th row\n",
    "\n",
    "*Hint: Use double `for loop` (one for the rows, another for columns). Apart from calculating the mass of Cu in each square area, calculate the mean coordinates for the area.*"
   ]
  },
  {
   "cell_type": "code",
   "execution_count": 12,
   "metadata": {},
   "outputs": [],
   "source": [
    "Mmine_max = 0 #Initialise the mass of the copper in the mine containig the most copper\n",
    "\n",
    "for j in range(x2D.shape[1]-2): #loop ove rows 1 to (nrows -2)\n",
    "    for i in range(x2D.shape[0]-2): #Loop over the columns 1 to (ncolumns - 2)\n",
    "        Mmine = np.sum(Mwell2D[i:i+2,j:j+2]) #Mass  of the 3km x 3km mine, \"np.sum()\" adds all the matrix elements togehter\n",
    "        X_mean = np.mean(x2D[i:i+2,j:j+2]) #  Central x-coordinate of the mine\n",
    "        Y_mean = np.mean(y2D[i:i+2,j:j+2]) # Central y-coordinate of the mine\n",
    "        \n",
    "     #Check  if the mass of Cu in the current 3km x 3km mine is greater than Mmine_max.\n",
    "     # If it is, than it becomes Mmine_max. In this way we will find the mine with the \n",
    "     # most copper. More about \"if\" statement can be found at: \n",
    "     #https://www.w3schools.com/python/python_conditions.asp\n",
    "        \n",
    "        if Mmine > Mmine_max: \n",
    "           Mmine_max = Mmine\n",
    "           Xmine_max=X_mean # Remember the central coordinates of the mine with the most Cu\n",
    "           Ymine_max=Y_mean"
   ]
  },
  {
   "cell_type": "markdown",
   "metadata": {},
   "source": [
    "Display the results (the mass of the copper in the most prospective mine and the coordinates of the centre of the mine). Use the `print` command like before:"
   ]
  },
  {
   "cell_type": "code",
   "execution_count": 13,
   "metadata": {},
   "outputs": [
    {
     "name": "stdout",
     "output_type": "stream",
     "text": [
      "The best location for the mine is x = 5.50 and y = 35.50\n",
      "The amount of copper in this mine is 1.602e+06 tonnes\n"
     ]
    }
   ],
   "source": [
    "print(\"The best location for the mine is x = %.2f and y = %.2f\" %(Xmine_max, Ymine_max))\n",
    "print(\"The amount of copper in this mine is %.4g tonnes\" %Mmine_max)"
   ]
  },
  {
   "cell_type": "markdown",
   "metadata": {},
   "source": [
    "## Task 3: Plot the distribution of Cu mass in the investigated area\n",
    "\n",
    "`Matplotlib` is the library used for data visualisation. There are many different ways to plot colour 2D plots (contourf, pcolor etc.; for examples check <a href=\"https://jakevdp.github.io/mpl_tutorial/tutorial_pages/tut3.html\" target=\"_blank\">here</a> and <a href=\"https://www.python-course.eu/matplotlib_contour_plot.php\" target=\"_blank\">here.</a>  Remember, there are many ways of creating and formatting the plot. Pick the simplest way that satisfies the task at hand. "
   ]
  },
  {
   "cell_type": "code",
   "execution_count": 14,
   "metadata": {},
   "outputs": [
    {
     "data": {
      "text/plain": [
       "Text(0, 0.5, 'Y [km]')"
      ]
     },
     "execution_count": 14,
     "metadata": {},
     "output_type": "execute_result"
    },
    {
     "data": {
      "image/png": "[encoded data removed]",
      "text/plain": [
       "<Figure size 432x288 with 2 Axes>"
      ]
     },
     "metadata": {
      "needs_background": "light"
     },
     "output_type": "display_data"
    }
   ],
   "source": [
    "%matplotlib inline\n",
    "#Magic command for Jupyter notebooks - the plot will be drawn in the document, rather than opening a separate window for it.\n",
    "#If you want the plot to be interactive (zoom, hover, etc), use \"%matplotlib notebook\" instead \n",
    "\n",
    "import matplotlib.pyplot as plt \n",
    "fig, ax = plt.subplots() # Create figure and plot, so you can refer to the plot (ax) later\n",
    "\n",
    "# See how to plot contour plots at https://matplotlib.org/stable/gallery/images_contours_and_fields/contourf_demo.html\n",
    "#We will use the colourmap 'jet'. there are many other colourmaps available, such as \n",
    "# 'bone', 'jet', 'ocean' etc: https://matplotlib.org/stable/tutorials/colors/colormaps.html\n",
    "\n",
    "heatmap = ax.contourf(x2D, y2D, Mwell2D, cmap='jet',levels=50) # Create the heatmap of the Cu mass, using the \"jet\" colormap and 50 contour levels\n",
    "cbar = plt.colorbar(heatmap, orientation=\"vertical\",shrink=0.75, pad=0.1) #Add colourbar; \"pad\" defines the distance from the plot measured asthe fraction of the plot axes. \n",
    "cbar.set_label('Mass of Cu [tonne]', rotation=270, labelpad=10 ) #Add the label and rotate it for 270 degrees; labelpad defines the distance from the colourbar\n",
    "ax.set_title('Mass distribution of Cu') # Image title\n",
    "ax.set_xlabel('X [km]') #X-axis label\n",
    "ax.set_ylabel('Y [km]') # Y-axis label"
   ]
  },
  {
   "cell_type": "markdown",
   "metadata": {},
   "source": [
    "Last two things:\n",
    "* add a red rectangle where the mine is supposed to be\n",
    "* change the aspect ratio of the plot so the x and y coordinates have the same scale\n",
    "\n",
    "*Hint: use <a href=\"https://stackoverflow.com/questions/37435369/matplotlib-how-to-draw-a-rectangle-on-image\" target=\"_blank\">this forum</a> to see how to do add a rectangle to the plot and <a href=\"https://stackoverflow.com/questions/7965743/how-can-i-set-the-aspect-ratio-in-matplotlib\" target=\"_blank\">this one</a> to see how to plot the axes at the same scale. Always browse for the simplest answer. Refresh the figure by typing `fig`.* "
   ]
  },
  {
   "cell_type": "code",
   "execution_count": 15,
   "metadata": {},
   "outputs": [
    {
     "data": {
      "image/png": "[encoded data removed]",
      "text/plain": [
       "<Figure size 432x288 with 2 Axes>"
      ]
     },
     "execution_count": 15,
     "metadata": {},
     "output_type": "execute_result"
    }
   ],
   "source": [
    "import matplotlib.patches as patches\n",
    "# Create a Rectangle patch\n",
    "rect = patches.Rectangle((4, 34), 3, 3, linewidth=1, edgecolor='r', facecolor='none')\n",
    "\n",
    "# Add the patch to the Axes\n",
    "ax.add_patch(rect)\n",
    "\n",
    "#Same scale for both axes\n",
    "ax.set_aspect('equal')\n",
    "fig"
   ]
  },
  {
   "cell_type": "markdown",
   "metadata": {},
   "source": [
    "And we are done! \n",
    "\n",
    "Just a few advices for the end:\n",
    "* If you get another dataset and need to perform the same task, the only thing you need to change is the link to the input data, the rest is done automatically within seconds.\n",
    "\n",
    "* As mentioned before, it is very useful to write scripts (the example of the tasks accomplished in this notebook by a script is given in \"CopperMine_exercise.py\") \n",
    "\n",
    "* It is a good habit to write the data input and data analysis parts as separate functiones (modules). In this way you can, for example, combine the module for reading the data with different modules for data analysis. This gives you a flexibility and imporves performance, especially if you often deal with the same type of datasets/input files, for which you need to perform different data analisys tasks.\n",
    "\n",
    "* A great resource for beginner: https://www.w3schools.com/python/"
   ]
  }
 ],
 "metadata": {
  "kernelspec": {
   "display_name": "Python 3",
   "language": "python",
   "name": "python3"
  },
  "language_info": {
   "codemirror_mode": {
    "name": "ipython",
    "version": 3
   },
   "file_extension": ".py",
   "mimetype": "text/x-python",
   "name": "python",
   "nbconvert_exporter": "python",
   "pygments_lexer": "ipython3",
   "version": "3.8.5"
  }
 },
 "nbformat": 4,
 "nbformat_minor": 5
}
