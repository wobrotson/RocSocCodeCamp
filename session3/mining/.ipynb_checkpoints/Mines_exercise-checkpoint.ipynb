{
 "cells": [
  {
   "cell_type": "markdown",
   "metadata": {},
   "source": [
    "\n",
    "\n",
    "# Copper mine problem\n",
    "\n",
    "Authors: coding: Ivan Lokmer, problem: Tom Manzzocchi, Ivan Lokmer\n",
    "\n",
    "A mining company has drilled 598 boreholes on a regular grid in a 13 km by 46 km\n",
    "area whilst prospecting for copper. In each borehole, the company have measured:\n",
    "(i) The thickness of the copper-bearing rock formation (in metres)\n",
    "(ii) The average copper concentration of this rock formation, \n",
    "     in parts per million by volume (ppm).\n",
    "     \n",
    "### Tasks:\n",
    "1. Calculate the total amount of the copper in the entire area (give your answer\n",
    "    to the nearest tonne). The density of copper is 8960 kg/m3.\n",
    "2. The company wants to put a 3 km by 3 km mine in the area. Find the X and Y\n",
    "   locations of the centre of this mine, for the mine location that will contain\n",
    "   the most copper. \n",
    "3. Plot the distribution of Cu mass in the investigated area to visually inspect \n",
    "   your result for the best placement of the mine\n",
    "   \n",
    "   \n",
    "   \n",
    "\n",
    "***Note 1:*** *Assume that measurements in 598 wells are representative for the whole  investigated area of 598 km2 (13km x 46km), i.e. that the measurements in each well are representative for the area of 1km2. Nnote that this is a very crude assumption; the correct way would be to interpolate the thickness and  concentration values between the wells using kriging, linear interpolation, spline interpolation  or some other suitable method)*\n",
    " \n",
    "***Note 2:*** *Python libraries required for this exercise are:*\n",
    " * ***pandas*** *- data analysis and manipulation tool*\n",
    " * ***numpy (numerical python)***  *- library  for working with arrays, matrices, linear algebra etc.*  \n",
    " * ***matplotlib*** *- a comprehensive library for creating static, animated, and interactive visualizations in Python*\n",
    " \n",
    "***Note 3:*** *Jupyter notebooks are a great way to share your research, coursework, write a report etc. However, the best way for the ongoing research is to write your code in scripts (files of the type <file.py>). In the end of this exercise, you will be given the solution to this problem as a Jupyter Notebook, but also as a script \"CopperMine_exercise.py\".* \n",
    "\n",
    "A good web resource for python beginners can be found at <a href=\"https://www.w3schools.com/python/\" target=\"_blank\">this link.</a> \n",
    " \n",
    " \n",
    " \n",
    " ### Reading the data\n",
    " The data measurements are given in csv (comma-separated values) file as \"Well X location (km), Well Y location (km),\n",
    "Thickness (m), Concentration (ppm)\". The file is hosted on Gdrive at the following link: https://drive.google.com/file/d/1SGhQMRjWKc2F57FBeb4rXv16T7xUvMS4/view?usp=sharing. Download the file and inspect it visually using Notepad, Wordpad or similar basic text editor.\n",
    "\n",
    "We can import the file directly from Gdrive using the following code:\n",
    "\n"
   ]
  },
  {
   "cell_type": "code",
   "execution_count": 71,
   "metadata": {},
   "outputs": [],
   "source": [
    "import pandas as pd #import pandas as pd\n",
    "url='https://drive.google.com/file/d/1SGhQMRjWKc2F57FBeb4rXv16T7xUvMS4/view?usp=sharing' #define the Gdrive file location\n",
    "path = 'https://drive.google.com/uc?id='+url.split('/')[-2] #url.split('/')[-2] reads the file identifier beetween the second last and last slash (\"/\")\n",
    "df = pd.read_csv(path) #read csv file"
   ]
  },
  {
   "cell_type": "markdown",
   "metadata": {},
   "source": [
    "Note that we could have read the downloaded file using:  `df = pd.read_csv(\"downloaded file name\")`.\n",
    "\n",
    "\n",
    "To view the variable (and check if it's imported correctly), just type the variable name (note than when writing a python script, you need to use `print(variable name)` - you can compare this notebook with the script you will get at the end of this exercise):"
   ]
  },
  {
   "cell_type": "code",
   "execution_count": null,
   "metadata": {
    "scrolled": true
   },
   "outputs": [],
   "source": []
  },
  {
   "cell_type": "markdown",
   "metadata": {},
   "source": [
    "Now we are going to store each column to a new variable required for furter work:"
   ]
  },
  {
   "cell_type": "code",
   "execution_count": 86,
   "metadata": {},
   "outputs": [],
   "source": [
    "x=df['X(km)'] \n",
    "y=df['Y(km)']\n",
    "h=df['Thickness(m)']  "
   ]
  },
  {
   "cell_type": "markdown",
   "metadata": {},
   "source": [
    "Do the same for the concentration variable. However, instead of in ppm by volume, express it as the volume fraction of copper in the copper-bearing rock:"
   ]
  },
  {
   "cell_type": "code",
   "execution_count": null,
   "metadata": {},
   "outputs": [],
   "source": [
    "conc = "
   ]
  },
  {
   "cell_type": "markdown",
   "metadata": {},
   "source": [
    "## Task 1: Calculate the amount of Cu in the entire area\n",
    "\n",
    "To calculate the total amount of Cu in the entire area, you need:\n",
    "* The volume of copper-bearing formation for each well  = Thickness (m) x Area (m)\n",
    "* The volume of copper for each well = Volume (m3) x ppm\n",
    "* The mass of copper per well = Volume of copper x Density of copper\n",
    "* Total mass of copper in the entire area = sum of the copper mass in all the wells\n",
    "\n",
    "*Note: To achieve this task, you can use the `for loop` to repeat the calculation for each well (more about the `for loops` can be found <a href=\"https://www.w3schools.com/python/python_for_loops.asp\" target=\"_blank\">here.</a>). Alternatively, use the facts that (i) the multiplication of a number with panda series gives the product of the each element in the series with that number, and (ii) multiplying two panda series (e.g x*y) gives a new series that is element-by-element product of these two series. Although the second way is shorter, use the `for loop` in order to get familiar with it. Append the code in the box below according to the comments (part of the line starting with `#`): "
   ]
  },
  {
   "cell_type": "code",
   "execution_count": 74,
   "metadata": {},
   "outputs": [],
   "source": [
    "N_wells =    #Number of wells\n",
    "area =       #Representative area for each well is 1km2 \n",
    "ro =         #Density of copper \n",
    "Mass =      #Initialise total mass, we will add incrementally to it the mass of each well\n",
    "\n",
    "for            # The loop runs over all the wells\n",
    "   Mwell =         #Mass per well in tonnes  \n",
    "   Mass =          #Total mass is the sum of the copper mass in all wells"
   ]
  },
  {
   "cell_type": "markdown",
   "metadata": {},
   "source": [
    "Now we can print out our result (execute the code below by pressing`Shift+Enter`)."
   ]
  },
  {
   "cell_type": "code",
   "execution_count": null,
   "metadata": {},
   "outputs": [],
   "source": [
    "print(\"Total mass of copper in the entire area is %.3g tonnes\" %Mass)  \n",
    "# g - general data format\n",
    "# In this example the number is rounded to 3 significant digits (3 decimal places need to be calculated to obtain the result above)."
   ]
  },
  {
   "cell_type": "markdown",
   "metadata": {},
   "source": [
    "\n",
    "\n",
    "## Task 2: Find the location for a 3km x 3km mine that contains the most copper\n",
    "\n",
    "To achieve this task, the data need to be re-arranged to 2D arrays, where each measurement is at (x,y) location. You can think about it as a grid (or matrix), where each point on the grid (element of the matrix) has (x,y) coordinates. If x runs in E-W direction, and y in N-S direction, then the number of columns of our 2D array will be 13 (the number of x-values)\n",
    " and the number of rows 46 (the number of y-values). \n",
    " To work with arrays, **numpy** library needs to be imported (find more about `numpy` <a href=\"https://www.w3schools.com/python/numpy/default.asp\" target=\"_blank\">here</a>).\n",
    " \n",
    "We import the numpy library and convert our data to 2D arrays below:"
   ]
  },
  {
   "cell_type": "code",
   "execution_count": 90,
   "metadata": {},
   "outputs": [],
   "source": [
    "import numpy as np\n",
    "Mwell = h*conc*area*ro/1000  #Copper mass in tonnes in each well as panda series (we can use the same name of the variable as in Task 1, because it was used just as a temporary variable in `for loop`) \n",
    "Mwell_arr=np.array(Mwell) #Convert panda series into numpy array in order to be able to reshape it into a matrix/grid\n",
    "Mwell2D = Mwell_arr.reshape(46,13) #Converting 1D array to 2D array (matrix/grid)"
   ]
  },
  {
   "cell_type": "markdown",
   "metadata": {},
   "source": [
    "Check the structure of `Mwell` and `Mwell2D` by typing their names in the code boxes below:"
   ]
  },
  {
   "cell_type": "code",
   "execution_count": 91,
   "metadata": {
    "scrolled": true
   },
   "outputs": [],
   "source": [
    "       #Display Mwell"
   ]
  },
  {
   "cell_type": "code",
   "execution_count": 92,
   "metadata": {},
   "outputs": [],
   "source": [
    "       #Display Mwell2D"
   ]
  },
  {
   "cell_type": "markdown",
   "metadata": {},
   "source": [
    "Re-arrange x and y variables to 2D arrays in the same way we did it above with `MWell` above (call them `x2D` and `y2D`). Display them to check if the grid is correctly created. We also need them for the further calculation and plotting. "
   ]
  },
  {
   "cell_type": "code",
   "execution_count": 93,
   "metadata": {},
   "outputs": [],
   "source": [
    "        # convert x pandas series to numpy array\n",
    "        # convert y pandas series to numpy array\n",
    "        # x - convert 1D array to 2D array (grid)\n",
    "        # y - convert 1D array to 2D array (grid)"
   ]
  },
  {
   "cell_type": "code",
   "execution_count": 94,
   "metadata": {},
   "outputs": [],
   "source": [
    "       # Display x2D array - x coordinates of your grid points"
   ]
  },
  {
   "cell_type": "code",
   "execution_count": 95,
   "metadata": {},
   "outputs": [],
   "source": [
    "       #Display y2D array - y-coordinates of your grid points"
   ]
  },
  {
   "cell_type": "markdown",
   "metadata": {},
   "source": [
    "We can now search for the 3km x 3km mine containing the most copper. For this we need to check the amount of copper in all the squares across the entire area, spanned by 3x3 wells (remember that we assumed that each well data cover the area of 1km2 - again, this is a very crude assumption but it will suffice for this exercise). \n",
    "\n",
    "In order to perform the grid search for such squares, we do the following:\n",
    "* Place the corner of the square to the first row and the first column of our grid and calculate the amount of copper in this square.\n",
    "* Remember the value as the max value (indeed, it is the maximum value up to now)\n",
    "* While staying in the first row, the corner of the square is moved to the next column, and the ammount of copper is calculated for this square. \n",
    "* The obtained value is compared with the maximum value. If it is greater than it, the current value becomes maximum. \n",
    "* Repeat the procedure while the corner is in the (last-2)-th column (because the 3x3 square will extend to the last column)\n",
    "* Move to the second row and repeat the procedure moving the corner of the square from the first to (last-2) column\n",
    "* Repeat the procedure until you reach (last-2)-th row\n",
    "\n",
    "Try to understand how the double `for loop` below relates to the procedure described above. Finish the code, starting from `if` statement (last three lines, before the comments), which is still part of the double for loops (this is why indent). Use the `if statement` to find the mine with the most copper (Mmine_max) and its central coordinates (Xmine_max, Ymine_max).\n",
    "\n",
    "*Hint: Focus on the fourth bullet point above.*"
   ]
  },
  {
   "cell_type": "code",
   "execution_count": 82,
   "metadata": {},
   "outputs": [],
   "source": [
    "Mmine_max = 0 #Initialise the mass of the copper in the mine containig the most copper\n",
    "\n",
    "for i in range(x2D.shape[0]-2): #loop over rows 1 to (nrows -2); x2D.shape[0] gives the number of rows in the matrix x2D\n",
    "    for j in range(x2D.shape[1]-2): #Loop over the columns 1 to (ncolumns - 2); x2D.shape[1] is the number of columns\n",
    "        Mmine = np.sum(Mwell2D[i:i+2,j:j+2]) #Mass  of the 3km x 3km mine, \"np.sum()\" adds all the matrix elements togehter\n",
    "        X_mean = np.mean(x2D[i:i+2,j:j+2]) #  Central x-coordinate of the mine\n",
    "        Y_mean = np.mean(y2D[i:i+2,j:j+2]) # Central y-coordinate of the mine\n",
    "        \n",
    "     #Check  if the mass of Cu in the current 3km x 3km mine is greater than Mmine_max.\n",
    "     # If it is, than it becomes Mmine_max. In this way we will find the mine with the \n",
    "     # most copper. More about \"if\" statement can be found at: \n",
    "     #https://www.w3schools.com/python/python_conditions.asp\n",
    "        \n",
    "        if Mmine > Mmine_max: \n",
    "                            # Store the mass of the current mine to Mmine_max  \n",
    "                            # Store the central x-coordinate of the curent mine to Xmine_max\n",
    "                            # Store the central y-coordinate of the curent mine to Ymine_max"
   ]
  },
  {
   "cell_type": "markdown",
   "metadata": {},
   "source": [
    "Display the results (the mass of the copper in the most prospective mine and the coordinates of the centre of the mine). Use the `print` command like before:"
   ]
  },
  {
   "cell_type": "code",
   "execution_count": null,
   "metadata": {},
   "outputs": [],
   "source": []
  },
  {
   "cell_type": "markdown",
   "metadata": {},
   "source": [
    "## Task 3: Plot the distribution of Cu mass in the investigated area\n",
    "\n",
    "`Matplotlib` is the library used for data visualisation. There are many different ways to plot colour 2D plots (contourf, pcolor etc.; for examples check <a href=\"https://jakevdp.github.io/mpl_tutorial/tutorial_pages/tut3.html\" target=\"_blank\">here</a> and <a href=\"https://www.python-course.eu/matplotlib_contour_plot.php\" target=\"_blank\">here.</a>  Remember, there are many ways of creating and formatting the plot. Pick the simplest way that satisfies the task at hand. \n",
    "\n",
    "Try to understand the code below and then execute it by pressing `Shift+Enter`."
   ]
  },
  {
   "cell_type": "code",
   "execution_count": null,
   "metadata": {},
   "outputs": [],
   "source": [
    "%matplotlib inline\n",
    "#Magic command for Jupyter notebooks - the plot will be drawn in the document, rather than opening a separate window for it.\n",
    "#If you want the plot to be interactive (zoom, hover, etc), use \"%matplotlib notebook\" instead \n",
    "\n",
    "import matplotlib.pyplot as plt \n",
    "fig, ax = plt.subplots() # Create figure and plot, so you can refer to the plot (ax) later\n",
    "\n",
    "# See how to plot contour plots at https://matplotlib.org/stable/gallery/images_contours_and_fields/contourf_demo.html\n",
    "#We will use the colourmap 'jet'. there are many other colourmaps available, such as \n",
    "# 'bone', 'jet', 'ocean' etc: https://matplotlib.org/stable/tutorials/colors/colormaps.html\n",
    "\n",
    "heatmap = ax.contourf(x2D, y2D, Mwell2D, cmap='jet',levels=50) # Create the heatmap of the Cu mass, using the \"jet\" colormap and 50 contour levels\n",
    "cbar = plt.colorbar(heatmap, orientation=\"vertical\",shrink=0.75, pad=0.1) #Add colourbar; \"pad\" defines the distance from the plot measured asthe fraction of the plot axes. \n",
    "cbar.set_label('Mass of Cu [tonne]', rotation=270, labelpad=10 ) #Add the label and rotate it for 270 degrees; labelpad defines the distance from the colourbar\n",
    "ax.set_title('Mass distribution of Cu') # Image title\n",
    "ax.set_xlabel('X [km]') #X-axis label\n",
    "ax.set_ylabel('Y [km]') # Y-axis label"
   ]
  },
  {
   "cell_type": "markdown",
   "metadata": {},
   "source": [
    "Last two things:\n",
    "* add a red rectangle where the mine is supposed to be\n",
    "* change the aspect ratio of the plot so the x and y coordinates have the same scale\n",
    "\n",
    "*Hint: use <a href=\"https://stackoverflow.com/questions/37435369/matplotlib-how-to-draw-a-rectangle-on-image\" target=\"_blank\">this forum</a> to see how to do add a rectangle to the plot and <a href=\"https://stackoverflow.com/questions/7965743/how-can-i-set-the-aspect-ratio-in-matplotlib\" target=\"_blank\">this one</a> to see how to plot the axes at the same scale. Always browse for the simplest answer. Refresh the figure you obtained above by typing `fig` in the last line of your code.* "
   ]
  },
  {
   "cell_type": "code",
   "execution_count": null,
   "metadata": {},
   "outputs": [],
   "source": []
  },
  {
   "cell_type": "markdown",
   "metadata": {},
   "source": [
    "And we are done! \n",
    "\n",
    "Just a few advices for the end:\n",
    "* If you get another dataset and need to perform the same task, the only thing you need to change is the link to the input data, the rest is done automatically within seconds.\n",
    "\n",
    "* As mentioned before, it is very useful to write scripts (the example of the tasks accomplished in this notebook by a script is given in \"CopperMine_exercise.py\") \n",
    "\n",
    "* It is a good habit to write the data input and data analysis parts as separate functiones (modules). In this way you can, for example, combine the module for reading the data with different modules for data analysis. This gives you a flexibility and imporves performance, especially if you often deal with the same type of datasets/input files, for which you need to perform different data analisys tasks.\n",
    "\n",
    "* A great resource for beginner: https://www.w3schools.com/python/"
   ]
  }
 ],
 "metadata": {
  "kernelspec": {
   "display_name": "Python 3",
   "language": "python",
   "name": "python3"
  },
  "language_info": {
   "codemirror_mode": {
    "name": "ipython",
    "version": 3
   },
   "file_extension": ".py",
   "mimetype": "text/x-python",
   "name": "python",
   "nbconvert_exporter": "python",
   "pygments_lexer": "ipython3",
   "version": "3.8.5"
  }
 },
 "nbformat": 4,
 "nbformat_minor": 5
}
