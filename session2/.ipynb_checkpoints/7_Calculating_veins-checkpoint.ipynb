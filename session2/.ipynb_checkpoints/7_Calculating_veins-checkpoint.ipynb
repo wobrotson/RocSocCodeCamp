{
 "cells": [
  {
   "cell_type": "markdown",
   "metadata": {},
   "source": [
    "## Calculating cumulative frequency and density\n",
    "In this Notebook we will take the dataset a step further.\n",
    "\n",
    "We will calculate and plot the **Cumulative Thickness Frequency** and **Cumulative Spacing Frequency** as we go across the vein transect. We will analyse what happens in these figures, and these frequency distributions which gives us insights into what mathematical distributions govern the thickness and spacing of these veins, such as powerlaw, lognormal, negative exponential, poisson distributions. \n",
    "\n",
    "Calculating these will set us up to fit these distributions to those mathematical functions using non-linear least-squares regression techniques, so we can be more quantitative/statistical, with the eye of giving insights into the vein forming mechanisms. The parameters of the fitted mathematical functions can then also be used to generate Discrete Fracture Networks for reservoir modelling or geotechnical modelling."
   ]
  },
  {
   "cell_type": "markdown",
   "metadata": {},
   "source": [
    "<img src=\"../images/s2_Gillespieetal1999_distributions1.png\" alt=\"Variable\" width=\"600\"/>\n",
    "\n",
    "<img src=\"../images/s2_Gillespieetal1999_distributions2.png\" alt=\"Variable\" width=\"600\"/>\n",
    "\n",
    "<center> <i> Example distributions of non-stratabound veins governed by certain distribution functions (after Gillespie et al 1999, doi: 10.1144/GSL.SP.1999.155.01.05) </i> </center>"
   ]
  },
  {
   "cell_type": "markdown",
   "metadata": {},
   "source": [
    "First we will import the libraries we need (as before) and read in the datafile."
   ]
  },
  {
   "cell_type": "code",
   "execution_count": null,
   "metadata": {},
   "outputs": [],
   "source": [
    "%matplotlib inline\n",
    "from matplotlib import pyplot as plt\n",
    "import numpy as np\n",
    "import pandas as pd\n",
    "dataframe = pd.read_csv('Vein_dataset_large.csv')\n",
    "dataframe.head()"
   ]
  },
  {
   "cell_type": "markdown",
   "metadata": {},
   "source": [
    "## Calculation of Cumulative Frequency\n",
    "For this step, we need to calculate the frequency of each value in our newly calculated dataframe columns of the cumulative sum of thickness and spacing. Here we will calculate ourselves how many times a given value of spacing or thickness is higher than that same treshold value.\n",
    "\n",
    "In order to easily calculate, we will put the Thickness and Spacing columns in two normal arrays, aptly named *thickness* and *spacing*, using the Pandas `tolist()` method. We calculate our cumulative frequency we also need to sort our the values from smallest to largest, and we can use the Python `sort()` method to do this for us."
   ]
  },
  {
   "cell_type": "code",
   "execution_count": null,
   "metadata": {},
   "outputs": [],
   "source": [
    "#s = dataframe.sort('Thickness', ascending=True)\n",
    "thickness = dataframe['Thickness'].tolist()\n",
    "spacing = dataframe['Spacing'].tolist()\n",
    "thickness.sort()\n",
    "spacing.sort()"
   ]
  },
  {
   "cell_type": "markdown",
   "metadata": {},
   "source": [
    "Now that we have sorted our lists, we can calculate the amount of values that are higher than a treshold value. To do this, we will loop over our entire list, in increments of 1 mm, and calculate how many values are higher than that treshold value for each increment.\n",
    "\n",
    "First we will create empty lists to hold our to be calculated cumulative frequency values."
   ]
  },
  {
   "cell_type": "code",
   "execution_count": null,
   "metadata": {},
   "outputs": [],
   "source": [
    "cfreqThickness, cfreqSpacing = [],[]"
   ]
  },
  {
   "cell_type": "markdown",
   "metadata": {},
   "source": [
    "We will then loop over the total length of the dataframe `for i in range(len(dataframe.index))` calculating the frequency values `sum(dataframe[\"Thickness\"] > i` using a *Boolean expression* where the value `> i` and appending these values to the two lists using the `append()` method."
   ]
  },
  {
   "cell_type": "code",
   "execution_count": null,
   "metadata": {},
   "outputs": [],
   "source": [
    "# For Thickness\n",
    "for i in range(len(dataframe.index)):\n",
    "    cfreqThickness.append(sum(dataframe[\"Thickness\"] > i))\n",
    "# For Spacing\n",
    "for i in range(len(dataframe.index)):\n",
    "    cfreqSpacing.append(sum(dataframe[\"Spacing\"] > i))"
   ]
  },
  {
   "cell_type": "markdown",
   "metadata": {},
   "source": [
    "We can now plot this data, as before. To be able to show all the values, we will need a list of values spaced 1 mm apart for spacing and thickness."
   ]
  },
  {
   "cell_type": "code",
   "execution_count": null,
   "metadata": {},
   "outputs": [],
   "source": [
    "# Create \n",
    "index = np.arange(len(dataframe.index))\n",
    "\n",
    "# Plot the data\n",
    "fig, ax = plt.subplots(1,1, figsize=(7,7))\n",
    "ax.plot(index, cfreqThickness, 'k.', label=\"Vein Thickness Frequency\")\n",
    "ax.plot(index, cfreqSpacing, 'c.', label=\"Vein Spacing Frequency\")\n",
    "\n",
    "#Everything below this line is just the formatting mark-up\n",
    "ax.set_xlabel('Vein Thickness or Spacing (mm)', fontsize='large')\n",
    "ax.set_ylabel('Cumulative Frequency (N)', fontsize='large')\n",
    "ax.grid(b=True, which='major', color='#CCCCCC', linestyle='-')\n",
    "ax.grid(b=True, which='minor', color='#999999', linestyle='--')\n",
    "ax.set_xscale('log')\n",
    "ax.set_yscale('log')\n",
    "#ax.set_xlim((1,10))\n",
    "#ax.set_ylim((1,200))\n",
    "ax.set_title('Cumulative Frequency of veins larger than a value')\n",
    "plt.legend(loc=\"upper right\")\n",
    "plt.tight_layout(pad=1.05)\n",
    "plt.show()"
   ]
  },
  {
   "cell_type": "markdown",
   "metadata": {},
   "source": [
    "## Fitting distributions\n",
    "\n",
    "We will now attempt to fit a number of functions to our data, using non-linear least-squares regression. We will try to fit two distributions to this data: Powerlaw and lognormal distribution\n",
    "\n",
    "\n",
    "### Curve fitting\n",
    "We will use the curve fitting tools in the Python package/library SciPy, but many other scientific packages contain curve fitting algorithms. `scipy.optimize.curve_fit()` uses non-linear least squares regression to fit a mathematical function to data. For more information on what `curve_fit()` does and arguments or parameters it takes, [you can click here](https://docs.scipy.org/doc/scipy/reference/generated/scipy.optimize.curve_fit.html)\n",
    "\n",
    "We first have to import `curve_fit()` from the `scipy.optimize` library."
   ]
  },
  {
   "cell_type": "code",
   "execution_count": null,
   "metadata": {},
   "outputs": [],
   "source": [
    "from scipy.optimize import curve_fit"
   ]
  },
  {
   "cell_type": "markdown",
   "metadata": {},
   "source": [
    "We first define our mathematical functions, and then input the mathematical functions and data as *arguments* to the `curve_fit()` Python *function*."
   ]
  },
  {
   "cell_type": "code",
   "execution_count": null,
   "metadata": {},
   "outputs": [],
   "source": [
    "# We need to define an index to calculate \n",
    "index = np.arange(len(dataframe.index))\n",
    "\n",
    "def function(x, a, b):\n",
    "    return a * np.exp(-b * x)\n",
    "\n",
    "#def function(x, a, b):\n",
    "#    return (a * x) + b\n",
    "\n",
    "# https://en.wikipedia.org/wiki/Generalised_logistic_function\n",
    "#def function(x, a, b, c, d, g):\n",
    "#    return ( ( (a-d) / ( (1+( (x/c)** b )) **g) ) + d )\n",
    "\n",
    "params, params_covariance = curve_fit(function, index, cfreqThickness)\n",
    "print('a =',params[0],'and b =',params[1])"
   ]
  },
  {
   "cell_type": "markdown",
   "metadata": {},
   "source": [
    "You may get a warning here about *'overflow being encountered'*; this is to do with the level of precision that NumPy is able to store data to. Use type() to see what kind of data 'a' and 'b' are, and look at the links [here](https://stackoverflow.com/questions/40726490/overflow-error-in-pythons-numpy-exp-function) and [here](https://codesource.io/solved-overflow-encountered-in-long_scalars/) to think about what you might do about that."
   ]
  },
  {
   "cell_type": "markdown",
   "metadata": {},
   "source": [
    "We then plot the data and the fitted curves all in one graph, using a standard set of matplotlib parameters:"
   ]
  },
  {
   "cell_type": "code",
   "execution_count": null,
   "metadata": {},
   "outputs": [],
   "source": [
    "# Plot the data and a subsample of the fitted function\n",
    "fig, ax = plt.subplots(1,1, figsize=(8,8))\n",
    "ax.plot(index, cfreqThickness, 'k-', label='data', marker='o')\n",
    "ax.plot(index, function(index, *params), 'r-', label='fit')\n",
    "# Code below this line is just figure mark-up.\n",
    "ax.set_xscale('log')\n",
    "ax.set_yscale('log')\n",
    "ax.set_xlim((1,100))\n",
    "ax.set_ylim((1,1000))\n",
    "ax.grid(b=True, which='major', color='#CCCCCC', linestyle='-')\n",
    "ax.grid(b=True, which='minor', color='#999999', linestyle='--')\n",
    "plt.legend(loc=\"upper right\")\n",
    "plt.title(\"Vein frequency along a transect\")\n",
    "plt.xlabel('Vein Thickness or Spacing (mm)', fontsize='large')\n",
    "plt.ylabel('Cumulative Frequency (N)', fontsize='large')\n",
    "plt.show()"
   ]
  },
  {
   "cell_type": "markdown",
   "metadata": {},
   "source": [
    "***-----Possible additional content----***\n",
    "\n",
    "## Calculating cumulative sum\n",
    "\n",
    "We will now calculate the *cumulative sum* of the thickness and spacing over the entire arrays in the pandas Dataframe, using a method called `cumsum()`.\n",
    "\n",
    "[Library info on `cumsum()` in pandas](https://pandas.pydata.org/pandas-docs/stable/reference/api/pandas.DataFrame.cumsum.html)\n",
    "\n",
    "We create new columns **Cumulative Thickness** and **Cumulative Spacing** in our Dataframe, and immediately populate them with our calculated cumulative sums. In the lines below, we use the method `cumsum()` on the *Spacing* and *Thickness* arrays in the Dataframe object."
   ]
  },
  {
   "cell_type": "code",
   "execution_count": null,
   "metadata": {},
   "outputs": [],
   "source": [
    "dataframe['Cumulative Thickness'] = dataframe['Thickness'].cumsum()\n",
    "dataframe['Cumulative Spacing'] = dataframe['Spacing'].cumsum()\n",
    "dataframe.head()"
   ]
  },
  {
   "cell_type": "code",
   "execution_count": null,
   "metadata": {},
   "outputs": [],
   "source": [
    "fig2, ax2 = plt.subplots(1,1, figsize=(7,7))\n",
    "ax2.bar(dataframe[\"Position\"], dataframe[\"Cumulative Thickness\"],width=3*dataframe[\"Thickness\"], linewidth=0, color='k')\n",
    "ax2.set_title(\"Scatter plot\")\n",
    "ax2.set_xlabel(\"X axis (mm)\")\n",
    "ax2.set_ylabel(\"Y axis (mm)\")\n",
    "plt.show()"
   ]
  }
 ],
 "metadata": {
  "kernelspec": {
   "display_name": "Python 3",
   "language": "python",
   "name": "python3"
  },
  "language_info": {
   "codemirror_mode": {
    "name": "ipython",
    "version": 3
   },
   "file_extension": ".py",
   "mimetype": "text/x-python",
   "name": "python",
   "nbconvert_exporter": "python",
   "pygments_lexer": "ipython3",
   "version": "3.8.5"
  }
 },
 "nbformat": 4,
 "nbformat_minor": 1
}
