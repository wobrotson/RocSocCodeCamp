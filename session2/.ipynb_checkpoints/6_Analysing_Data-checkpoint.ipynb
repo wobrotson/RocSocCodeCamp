{
 "cells": [
  {
   "cell_type": "markdown",
   "metadata": {},
   "source": [
    "## Plotting and analysing Data\n",
    "In this Notebook we introduce plotting of data in arrays using MatPlotLib package.\n",
    "We also calculate the spacing between veins, plot a histogram of thickness and spacing, a vein log diagram, "
   ]
  },
  {
   "cell_type": "markdown",
   "metadata": {},
   "source": [
    "### Matplotlib\n",
    "Matplotlib is one of the most popular Python packages (or *libraries*) used for data visualization. It is a cross-platform library for making 2D plots from data in arrays. To get started you just need to make the necessary imports, prepare some data, and you can start plotting with the help of the `plot()` function. When you’re done, remember to show your plot using the `show()` function.\n",
    "\n",
    "Matplotlib is written in Python and makes use of NumPy, the numerical mathematics extension of Python. Here we will show some of the basic functionalities, including: Line, Bar, Scatter, Histrogram plots. There are many ways of making complex plots from complex data."
   ]
  },
  {
   "cell_type": "markdown",
   "metadata": {},
   "source": [
    "All we need to do to get started is to import the plotting capabilities of the matplotlib library using the `import` statement. We will import only a module of the matplotlib library *pyplot* and we do so in a way where we don't have to type the word *pyplot* everytime, but can refer to it a shorter word *plt* using `import as`."
   ]
  },
  {
   "cell_type": "code",
   "execution_count": null,
   "metadata": {},
   "outputs": [],
   "source": [
    "%matplotlib inline\n",
    "from matplotlib import pyplot as plt"
   ]
  },
  {
   "cell_type": "markdown",
   "metadata": {},
   "source": [
    "We also want to generate some dummy data at first, to show how **Matplotlib** works."
   ]
  },
  {
   "cell_type": "code",
   "execution_count": null,
   "metadata": {},
   "outputs": [],
   "source": [
    "x = [3, 4, 7, 7, 10]\n",
    "y = [2, 8, 5, 10, 3]"
   ]
  },
  {
   "cell_type": "markdown",
   "metadata": {},
   "source": [
    "To show this data as a basic line graph, we use `plot()`."
   ]
  },
  {
   "cell_type": "code",
   "execution_count": null,
   "metadata": {},
   "outputs": [],
   "source": [
    "plt.plot(x, y)\n",
    "plt.show()"
   ]
  },
  {
   "cell_type": "markdown",
   "metadata": {},
   "source": [
    "Or we can make this into a scatter plot using `scatter()`."
   ]
  },
  {
   "cell_type": "code",
   "execution_count": null,
   "metadata": {},
   "outputs": [],
   "source": [
    "plt.scatter(x, y)\n",
    "plt.show()"
   ]
  },
  {
   "cell_type": "markdown",
   "metadata": {},
   "source": [
    "Or we can plot a histogram using `hist()`."
   ]
  },
  {
   "cell_type": "code",
   "execution_count": null,
   "metadata": {
    "scrolled": true
   },
   "outputs": [],
   "source": [
    "plt.hist(x)\n",
    "plt.show()"
   ]
  },
  {
   "cell_type": "markdown",
   "metadata": {},
   "source": [
    "### How to find out how to use all these \n",
    "You may wonder what the difference is between `bar()` and `scatter()` and what arguments both would take. When learning to use functions and methods in a new library, or learning to code in Python or any other coding language, it is very useful to refer to the documentation and learn what was the intended use and what arguments you need to provide in what format. For example:\n",
    "\n",
    "[Library info on scatter()](https://matplotlib.org/stable/api/_as_gen/matplotlib.pyplot.scatter.html)\n",
    "\n",
    "[Library info on hist()](https://matplotlib.org/stable/api/_as_gen/matplotlib.pyplot.hist.html)"
   ]
  },
  {
   "cell_type": "markdown",
   "metadata": {},
   "source": [
    "Or you can just use the `help()` function."
   ]
  },
  {
   "cell_type": "code",
   "execution_count": null,
   "metadata": {},
   "outputs": [],
   "source": [
    "help(plt.scatter)"
   ]
  },
  {
   "cell_type": "markdown",
   "metadata": {},
   "source": [
    "Let's now annotate our axes and give the plot a title using methods `title()`, `xlabel()`, and `ylabel()`."
   ]
  },
  {
   "cell_type": "code",
   "execution_count": null,
   "metadata": {},
   "outputs": [],
   "source": [
    "plt.scatter(x, y)\n",
    "plt.title(\"Some Random Values\")\n",
    "plt.xlabel(\"X axis (m)\")\n",
    "plt.ylabel(\"Y axis (m)\")\n",
    "plt.show()"
   ]
  },
  {
   "cell_type": "markdown",
   "metadata": {},
   "source": [
    "A simple way of plotting multiple graphs together is to simply plot them underneath each other. "
   ]
  },
  {
   "cell_type": "code",
   "execution_count": null,
   "metadata": {},
   "outputs": [],
   "source": [
    "plt.scatter(x, y)\n",
    "plt.title(\"Scatter plot\")\n",
    "plt.xlabel(\"X axis (m)\")\n",
    "plt.ylabel(\"Y axis (m)\")\n",
    "plt.show()\n",
    "plt.bar(y,x)\n",
    "plt.title(\"Bar plot\")\n",
    "plt.xlabel(\"X axis (m)\")\n",
    "plt.ylabel(\"Y axis (m)\")\n",
    "plt.show()"
   ]
  },
  {
   "cell_type": "markdown",
   "metadata": {},
   "source": [
    "What happens when you comment out the first `plt.show()`? Commenting out can be done using the hashtag `#` at the start of a line "
   ]
  },
  {
   "cell_type": "markdown",
   "metadata": {},
   "source": [
    "### Creating more complex figures\n",
    "At its core, Matplotlib is *object-oriented*. To allow for more control and customization of your plots, in many cases you will create a Figure (*object*) and one or more Axes (*objects*) using `pyplot.subplots` and from that modify these individual *objects*.\n",
    "\n",
    "\n",
    "\n",
    "#### subplots\n",
    "To create simple grids of figures, *Matplotlib* has several convenience routines that make rows and columns of different subplots easy to create. A convenient routine is `subplots()` without arguments returns a Figure and a single Axes. Using this approach we can combine different graphs with different axes in one figure. Setting up subplots is standard practice even for simple figures. "
   ]
  },
  {
   "cell_type": "markdown",
   "metadata": {},
   "source": [
    "Let's create a grid of empty two by two plots."
   ]
  },
  {
   "cell_type": "code",
   "execution_count": null,
   "metadata": {
    "scrolled": true
   },
   "outputs": [],
   "source": [
    "fig, ax = plt.subplots(2,2)"
   ]
  },
  {
   "cell_type": "markdown",
   "metadata": {},
   "source": [
    "This single call has now created a **fig** *object* and also an associated array of **ax** *objects*. We can refer to each object in the **ax** array in the same way we "
   ]
  },
  {
   "cell_type": "code",
   "execution_count": null,
   "metadata": {},
   "outputs": [],
   "source": [
    "fig, ax = plt.subplots(2,2)\n",
    "ax[0,0].scatter(y,x)\n",
    "ax[0,1].plot(x,y)\n",
    "ax[1,0].bar(y,x)\n",
    "ax[1,1].scatter(y,x)\n",
    "plt.show()"
   ]
  },
  {
   "cell_type": "markdown",
   "metadata": {},
   "source": [
    "### Using the numpy library\n",
    "Let's now use some mathematical objects in these same statements. The `numpy` python library is frequently used to *'add support for large, multi-dimensional arrays and matrices, along with a large collection of high-level mathematical functions to operate on these arrays*.\n",
    "\n",
    "Similar as with *matplotlib*, we import `numpy` using import statement and give a shorter name using `as`"
   ]
  },
  {
   "cell_type": "code",
   "execution_count": null,
   "metadata": {},
   "outputs": [],
   "source": [
    "import numpy as np\n",
    "fig, ax = plt.subplots(2,2)\n",
    "ax[0,0].scatter(np.negative(y),np.negative(x))\n",
    "ax[0,1].plot(x,y)\n",
    "ax[1,0].bar(np.sqrt(y),x)\n",
    "ax[1,1].scatter(y,np.negative(y))\n",
    "plt.show()"
   ]
  },
  {
   "cell_type": "markdown",
   "metadata": {},
   "source": [
    "## Plotting the veins dataset\n",
    "Now onto our geological dataset. First we import our data using Pandas and put the data in a dataframe."
   ]
  },
  {
   "cell_type": "code",
   "execution_count": null,
   "metadata": {},
   "outputs": [],
   "source": [
    "import pandas as pd\n",
    "dataframe = pd.read_csv('Vein_dataset_large.csv')\n",
    "dataframe.head()"
   ]
  },
  {
   "cell_type": "markdown",
   "metadata": {},
   "source": [
    "### Plotting histograms\n",
    "We now plot the histogram of thickness, position, spacing, and label each plot. We should also `import` *pyplot* `from` our matplotlib library `as` plt."
   ]
  },
  {
   "cell_type": "code",
   "execution_count": null,
   "metadata": {},
   "outputs": [],
   "source": [
    "from matplotlib import pyplot as plt\n",
    "fig, ax = plt.subplots(1,2, figsize = (10, 4))\n",
    "num_bins = 15\n",
    "ax[0].hist(dataframe[\"Thickness\"], bins=15)\n",
    "ax[1].hist(dataframe[\"Spacing\"], bins=num_bins)\n",
    "ax[0].set_ylabel(\"Amount (n)\")\n",
    "ax[1].set_ylabel(\"Amount (n)\")\n",
    "ax[0].set_xlabel(\"Thickness (mm)\")\n",
    "ax[1].set_xlabel(\"Spacing (mm)\")\n",
    "fig.suptitle('Vein thickness and vein spacing histograms', fontsize=16)\n",
    "plt.show()"
   ]
  },
  {
   "cell_type": "markdown",
   "metadata": {},
   "source": [
    "## Produce vein logs\n",
    "Here we will reproduce a vein log, which shows the position of each vein as a bar along the transect (in mm), and the length and width of each bar is scaled according to the thickness of each vein (in mm). For that we use the `bar()` *method* to plot a bar plot on the **ax** *object* we will create. The width of the veins in the figure is exaggerated three times."
   ]
  },
  {
   "cell_type": "code",
   "execution_count": null,
   "metadata": {},
   "outputs": [],
   "source": [
    "fig, ax = plt.subplots(1,1, figsize = (10, 10)) \n",
    "# We create the bar plot from the dataframe, increase the width of the bars, and give it a black colour.\n",
    "ax.bar(dataframe[\"Position\"], dataframe[\"Thickness\"], width=3*dataframe[\"Thickness\"], linewidth=0, color='k')\n",
    "# We label our graph\n",
    "ax.set_xlabel('Vein Distribution Transect Line (mm)', fontsize='large')\n",
    "ax.set_ylabel('Thickness (mm)', fontsize='large')\n",
    "# Some lines to put a limit to the extent of the axis which is defined flexibly by the size of the dataset arrays.\n",
    "plt.ylim([0,dataframe[\"Thickness\"].max()])\n",
    "plt.xlim([0,dataframe[\"Position\"].max()])\n",
    "# Some lines of code to make it look nicer\n",
    "fig.set_figheight(3)\n",
    "fig.tight_layout(pad=1.05)\n",
    "plt.show()"
   ]
  },
  {
   "cell_type": "markdown",
   "metadata": {},
   "source": [
    "## Next notebook\n",
    "\n",
    "In the next notebook we will analyse and plot the data within the datafile we just read in.\n",
    "\n",
    "[Click here to open the next notebook](7_Calculating_veins.ipynb)"
   ]
  }
 ],
 "metadata": {
  "kernelspec": {
   "display_name": "Python 3",
   "language": "python",
   "name": "python3"
  },
  "language_info": {
   "codemirror_mode": {
    "name": "ipython",
    "version": 3
   },
   "file_extension": ".py",
   "mimetype": "text/x-python",
   "name": "python",
   "nbconvert_exporter": "python",
   "pygments_lexer": "ipython3",
   "version": "3.8.5"
  }
 },
 "nbformat": 4,
 "nbformat_minor": 1
}
