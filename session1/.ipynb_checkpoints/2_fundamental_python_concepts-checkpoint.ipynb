{
 "cells": [
  {
   "cell_type": "markdown",
   "metadata": {},
   "source": [
    "## Fundamental Python coding concepts"
   ]
  },
  {
   "cell_type": "markdown",
   "metadata": {},
   "source": [
    "## Data Types"
   ]
  },
  {
   "cell_type": "markdown",
   "metadata": {},
   "source": [
    "Python supports many types of data. To start with we will look only at the most common: integers, floats, strings and booleans. "
   ]
  },
  {
   "cell_type": "markdown",
   "metadata": {},
   "source": [
    "### Integers\n",
    "An **integer** is a whole number (ie one without a decimal point)."
   ]
  },
  {
   "cell_type": "code",
   "execution_count": null,
   "metadata": {},
   "outputs": [],
   "source": [
    "print(5)"
   ]
  },
  {
   "cell_type": "code",
   "execution_count": null,
   "metadata": {},
   "outputs": [],
   "source": [
    "print(-643)"
   ]
  },
  {
   "cell_type": "markdown",
   "metadata": {},
   "source": [
    "### Floating points\n",
    "A **float** is a 'real' number (ie one which includes a decimal point). The number of digits in a float is the number of significant figures used to represent the number. \n",
    "\n",
    "It's important to realise that computers do not always store numbers as their true value - there is often a limit to the precision that can be used to store data in a computer. To get an overview of the way that computers represent numbers, see [here](https://en.wikipedia.org/wiki/Floating-point_arithmetic)."
   ]
  },
  {
   "cell_type": "code",
   "execution_count": null,
   "metadata": {},
   "outputs": [],
   "source": [
    "print(8.564)"
   ]
  },
  {
   "cell_type": "code",
   "execution_count": null,
   "metadata": {},
   "outputs": [],
   "source": [
    "print(-2316.75)"
   ]
  },
  {
   "cell_type": "markdown",
   "metadata": {},
   "source": [
    "### Strings"
   ]
  },
  {
   "cell_type": "markdown",
   "metadata": {},
   "source": [
    "A **string** is a sequence of text characters. The characters can be letters of any alphabet, numbers or other symbols. A string must be enclosed with quotation marks for Python to know it is a string. You can either use single `' '` or double `\" \"` quotation marks - they are equivalent in Python (but be consistent; always stick to one option for each string, and even better stick to one option throughout your code)."
   ]
  },
  {
   "cell_type": "code",
   "execution_count": null,
   "metadata": {},
   "outputs": [],
   "source": [
    "print('this is a string')"
   ]
  },
  {
   "cell_type": "code",
   "execution_count": null,
   "metadata": {},
   "outputs": [],
   "source": [
    "print(\"this is another string\")"
   ]
  },
  {
   "cell_type": "code",
   "execution_count": null,
   "metadata": {},
   "outputs": [],
   "source": [
    "print('A string can contain any character, for example: 3%&^}{?><')"
   ]
  },
  {
   "cell_type": "markdown",
   "metadata": {},
   "source": [
    "### Booleans"
   ]
  },
  {
   "cell_type": "markdown",
   "metadata": {},
   "source": [
    "A **boolean** can only take two values: `True` or `False` (case-sensitive: you need to capitalise the first letter!). Booleans can be combined with `and`, `or` and `not` (this is called Boolean algebra and is a very important concept in programming logic). Below are ways of combining boolean values algebraically.\n",
    "\n",
    "<img src=\"../images/s1_algebra.png\" width=400/>"
   ]
  },
  {
   "cell_type": "code",
   "execution_count": null,
   "metadata": {},
   "outputs": [],
   "source": [
    "print(True)\n",
    "print(False)"
   ]
  },
  {
   "cell_type": "code",
   "execution_count": null,
   "metadata": {},
   "outputs": [],
   "source": [
    "print(True and False)\n",
    "print(True or False)"
   ]
  },
  {
   "cell_type": "code",
   "execution_count": null,
   "metadata": {},
   "outputs": [],
   "source": [
    "print(not True)\n",
    "print(not False)"
   ]
  },
  {
   "cell_type": "markdown",
   "metadata": {},
   "source": [
    "It is very important to know what kind of data you are handling to be able to use it correctly, but exactly what kind of data you are dealing with can become obscured after you have been coding away on a problem for a while and doing operations on the data, which are likely to transform it. If you are ever unsure as to the type of data you are dealing with, use the 'type' function to determine this."
   ]
  },
  {
   "cell_type": "code",
   "execution_count": null,
   "metadata": {},
   "outputs": [],
   "source": [
    "print(type(11))\n",
    "print(type(-34.2078))\n",
    "print(type('True'))\n",
    "print(type(False))"
   ]
  },
  {
   "cell_type": "markdown",
   "metadata": {},
   "source": [
    "### Variables in Python"
   ]
  },
  {
   "cell_type": "markdown",
   "metadata": {},
   "source": [
    "**Variables** are a core concept in computer programming. A variable is:\n",
    "\n",
    "*'A container in memory, which has a unique name or identifier, where information can be stored.'*\n",
    "\n",
    "A variable can be thought of as box with a label (name) and content (value). `x` and `y` are variable names, while `1` and `2` are their content:\n",
    "\n",
    "<img src=\"../images/s1_variable.png\" alt=\"Variable\" width=\"400\"/>\n",
    "\n",
    "A value can be **assigned** to a variable with `=`. The value can change over time. "
   ]
  },
  {
   "cell_type": "code",
   "execution_count": null,
   "metadata": {},
   "outputs": [],
   "source": [
    "x = 100\n",
    "# multiple types of data can be printed in one command, separated by a comma\n",
    "print('value of x:',x) "
   ]
  },
  {
   "cell_type": "code",
   "execution_count": null,
   "metadata": {},
   "outputs": [],
   "source": [
    "x = 200  # this assignment overwrites the content of x with a new value\n",
    "print('new value of x:',x)"
   ]
  },
  {
   "cell_type": "code",
   "execution_count": null,
   "metadata": {},
   "outputs": [],
   "source": [
    "# Printing a number does not create a variable!\n",
    "print(300) # nothing changes in memory\n",
    "x = 300 # a variable is created in memory\n",
    "print(x)\n",
    "\n",
    "# simply writing an expression does not save the result for later\n",
    "x + 1\n",
    "\n",
    "# if we want to save the result, we have to use a variable\n",
    "new_x = x + 1\n",
    "\n",
    "print(new_x)"
   ]
  },
  {
   "cell_type": "markdown",
   "metadata": {},
   "source": [
    "Printing variables as you go along is useful for inspecting their value and making sure it is the expected one."
   ]
  },
  {
   "cell_type": "code",
   "execution_count": null,
   "metadata": {},
   "outputs": [],
   "source": [
    "print(x)"
   ]
  },
  {
   "cell_type": "markdown",
   "metadata": {},
   "source": [
    "Python automatically understands the type of a variable when it is created. "
   ]
  },
  {
   "cell_type": "code",
   "execution_count": null,
   "metadata": {},
   "outputs": [],
   "source": [
    "print(type(x))\n",
    "y = 'RocSoc'\n",
    "type(y)"
   ]
  },
  {
   "cell_type": "markdown",
   "metadata": {},
   "source": [
    "Python has a number of variable naming rules and best practices. Variable names:\n",
    "- Can contain both letters and numbers, but must begin with a letter.\n",
    "- Can contain the underscore `_` character.\n",
    "- Should not contain arithmetic operators, eg `/`, `-`, `+`\n",
    "- Must not clash with reserved keywords (eg int, str).\n",
    "- Best to stick to lowercase as much as possible.\n",
    "- Also best to keep names as concise as possible while also being explicit."
   ]
  },
  {
   "cell_type": "markdown",
   "metadata": {},
   "source": [
    "## Operators and Expressions"
   ]
  },
  {
   "cell_type": "markdown",
   "metadata": {},
   "source": [
    "Python can be used as a simple calculator. It supports all basic mathematical operators, such as +, -, *, /"
   ]
  },
  {
   "cell_type": "markdown",
   "metadata": {},
   "source": [
    "We can use combinations of these operators and values to create *expressions*, which are the building blocks of Python code."
   ]
  },
  {
   "cell_type": "code",
   "execution_count": null,
   "metadata": {},
   "outputs": [],
   "source": [
    "a = 4 * 3 + 2\n",
    "a"
   ]
  },
  {
   "cell_type": "code",
   "execution_count": null,
   "metadata": {},
   "outputs": [],
   "source": [
    "b = a - 2\n",
    "b"
   ]
  },
  {
   "cell_type": "markdown",
   "metadata": {},
   "source": [
    "As well as automatically recognising data types, Python will automatically convert to the appropriate data type when expressions are applied (hence the need to check the variable types as you go along)."
   ]
  },
  {
   "cell_type": "code",
   "execution_count": null,
   "metadata": {},
   "outputs": [],
   "source": [
    "# example of data type conversion using currency\n",
    "pound_to_euro_exchange_rate = 1.1\n",
    "print(type(pound_to_euro_exchange_rate))\n",
    "my_pounds = 2000\n",
    "print(type(my_pounds))\n",
    "my_euros = pound_to_euro_exchange_rate * my_pounds\n",
    "print(my_euros)\n",
    "type(my_euros)"
   ]
  },
  {
   "cell_type": "markdown",
   "metadata": {},
   "source": [
    "We can also use operators to perform assignment and an operation on the same variable. Note that these lines include *comments* - everything from # onwards is ignored."
   ]
  },
  {
   "cell_type": "code",
   "execution_count": null,
   "metadata": {},
   "outputs": [],
   "source": [
    "# you can assign a variable to itself. This is a very common operation:\n",
    "print(x)\n",
    "x = x + 10 # this increases the current value by ten\n",
    "print(x)\n",
    "x += 10 # the same operation in an abbreviated form\n",
    "print(x) # note we have increased x by 10 again, so by 20 from the original value"
   ]
  },
  {
   "cell_type": "markdown",
   "metadata": {},
   "source": [
    "As in standard arithmetic, use brackets to control the order in which operators are applied."
   ]
  },
  {
   "cell_type": "code",
   "execution_count": null,
   "metadata": {},
   "outputs": [],
   "source": [
    "4 + 10 / 2  # Division will normally be applied first"
   ]
  },
  {
   "cell_type": "code",
   "execution_count": null,
   "metadata": {},
   "outputs": [],
   "source": [
    "(4 + 10)/2  # Use brackets to apply addition first, then division"
   ]
  },
  {
   "cell_type": "markdown",
   "metadata": {},
   "source": [
    "### Operations on strings"
   ]
  },
  {
   "cell_type": "markdown",
   "metadata": {},
   "source": [
    "Strings can be combined by *concatenation*, which is basically adding them together (using `+` as you would with numbers)."
   ]
  },
  {
   "cell_type": "code",
   "execution_count": null,
   "metadata": {},
   "outputs": [],
   "source": [
    "firstname = 'Rob'\n",
    "lastname = 'Watson'\n",
    "fullname = firstname + ' ' + lastname # need to add whitespace between the names\n",
    "fullname"
   ]
  },
  {
   "cell_type": "markdown",
   "metadata": {},
   "source": [
    "### Boolean Expressions"
   ]
  },
  {
   "cell_type": "markdown",
   "metadata": {},
   "source": [
    "Any value or variable in Python can be tested for a 'truth value'. These will yield a value of True or False, depending on what we are testing - e.g. equality, inequality, greater/less than"
   ]
  },
  {
   "cell_type": "code",
   "execution_count": null,
   "metadata": {},
   "outputs": [],
   "source": [
    "x = 75 # don't confuse assignment with 'is equal to'"
   ]
  },
  {
   "cell_type": "code",
   "execution_count": null,
   "metadata": {
    "scrolled": true
   },
   "outputs": [],
   "source": [
    "x == 75 # test for equality"
   ]
  },
  {
   "cell_type": "code",
   "execution_count": null,
   "metadata": {},
   "outputs": [],
   "source": [
    "x == 100 # test for equality"
   ]
  },
  {
   "cell_type": "code",
   "execution_count": null,
   "metadata": {},
   "outputs": [],
   "source": [
    "x != 100 # test for inequality"
   ]
  },
  {
   "cell_type": "code",
   "execution_count": null,
   "metadata": {},
   "outputs": [],
   "source": [
    "x < 1000 # less than"
   ]
  },
  {
   "cell_type": "code",
   "execution_count": null,
   "metadata": {},
   "outputs": [],
   "source": [
    "x > 0 # greater than"
   ]
  },
  {
   "cell_type": "code",
   "execution_count": null,
   "metadata": {},
   "outputs": [],
   "source": [
    "x > 0 and x < 100"
   ]
  },
  {
   "cell_type": "markdown",
   "metadata": {},
   "source": [
    "### Comparing and converting data types"
   ]
  },
  {
   "cell_type": "markdown",
   "metadata": {},
   "source": [
    "We can use boolean expressions to compare data types. Data type errors are one of the main causes of bugs in Python code, so be vigilant to them."
   ]
  },
  {
   "cell_type": "code",
   "execution_count": null,
   "metadata": {},
   "outputs": [],
   "source": [
    "x = 10\n",
    "print(x==10) # True: two integers\n",
    "print(x=='10') # False: a string is not a number"
   ]
  },
  {
   "cell_type": "code",
   "execution_count": null,
   "metadata": {},
   "outputs": [],
   "source": [
    "# strings are case and white-space sensitive in Python:\n",
    "x = 'Dublin'\n",
    "print(x)\n",
    "print(x=='Dublin') # True: identical\n",
    "print(x==\"Dublin\") # True: identical\n",
    "print(y==\" Dublin\") # False: space at the start\n",
    "print(y==\"dublin\") # False: case sensitivity"
   ]
  },
  {
   "cell_type": "code",
   "execution_count": null,
   "metadata": {},
   "outputs": [],
   "source": [
    "# while it is possible to compare integers and floating points,\n",
    "# it is best avoided:\n",
    "print('comparing int and float')\n",
    "print(10==10) # True - comparing like with like\n",
    "# The following appear to be the same, however in some instances\n",
    "# they may not be since computers store floats in variable ways\n",
    "print(10==10.0) \n",
    "print(10==10.00000001) # False - hard to predict when this will happen\n",
    "print(10==10.000000000000000000000001) # True - hard to predict when this will happen"
   ]
  },
  {
   "cell_type": "markdown",
   "metadata": {},
   "source": [
    "Mixing incompatible types is not permitted in Python, so trying to concatenate a string and a number will give an error message."
   ]
  },
  {
   "cell_type": "code",
   "execution_count": null,
   "metadata": {},
   "outputs": [],
   "source": [
    "'my age is ' + 25"
   ]
  },
  {
   "cell_type": "markdown",
   "metadata": {},
   "source": [
    "Instead, we use conversion functions to change a value between basic types in Python. Use the built-in `str()` function to convert any variable to a string:"
   ]
  },
  {
   "cell_type": "code",
   "execution_count": null,
   "metadata": {},
   "outputs": [],
   "source": [
    "age = str(25)\n",
    "'my age is ' + age"
   ]
  },
  {
   "cell_type": "markdown",
   "metadata": {},
   "source": [
    "We can convert string values to integers and floats using `int()` and `float()` respectively."
   ]
  },
  {
   "cell_type": "code",
   "execution_count": null,
   "metadata": {},
   "outputs": [],
   "source": [
    "print(int('1245'), type(int('1245')))\n",
    "print(float('-234.232'), type(float('-234.232')))\n",
    "print(float('1245'), type(float('1245')))"
   ]
  },
  {
   "cell_type": "markdown",
   "metadata": {},
   "source": [
    "Unsuitable data type conversions will result in errors."
   ]
  },
  {
   "cell_type": "code",
   "execution_count": null,
   "metadata": {},
   "outputs": [],
   "source": [
    "int('-234.00')"
   ]
  },
  {
   "cell_type": "code",
   "execution_count": null,
   "metadata": {},
   "outputs": [],
   "source": [
    "int('string')"
   ]
  },
  {
   "cell_type": "markdown",
   "metadata": {},
   "source": [
    "## Data Structures"
   ]
  },
  {
   "cell_type": "markdown",
   "metadata": {},
   "source": [
    "Python supports a number of native data structures (which do not require additional packages to be read). The most relevant to us are *'lists'*, and we will focus on these here, though there are others that may be useful as well (look in ['AdditionalResources.md'](https://github.com/wobrotson/RocSocCodeCamp/blob/main/CodeCampFurtherInfo/AdditionalResources.md) for information on these). There are also many non-native data structures which relate to particular Python data analysis libraries - we will look more at these in session 2."
   ]
  },
  {
   "cell_type": "markdown",
   "metadata": {},
   "source": [
    "### Lists"
   ]
  },
  {
   "cell_type": "markdown",
   "metadata": {},
   "source": [
    "A **list** is an ordered collection of variables. Each variable is an **element** within the list. These variables can have different types. Each element has an **index** that starts at 0 (not 1!) and then incrementally increases by 1. \n",
    "For example, this list `colors` contains three strings:\n",
    "\n",
    "<img src=\"../images/s1_list.png\" alt=\"list\" width=\"400\"/>\n",
    "\n",
    "Elements are ordered, and can be accessed with the operator `[]`: `list[number]`."
   ]
  },
  {
   "cell_type": "code",
   "execution_count": null,
   "metadata": {},
   "outputs": [],
   "source": [
    "colors = ['red','blue','green']\n",
    "print(colors) # print whole list\n",
    "\n",
    "print(colors[0]) # print first element\n",
    "print(colors[1]) # print second element\n",
    "print(colors[2]) # print third and last element\n",
    "\n",
    "# check the number of elements in the list using the len() function:\n",
    "print(len(colors))"
   ]
  },
  {
   "cell_type": "markdown",
   "metadata": {},
   "source": [
    "If the index is out of bounds, Python will raise an error:"
   ]
  },
  {
   "cell_type": "code",
   "execution_count": null,
   "metadata": {},
   "outputs": [],
   "source": [
    "print(colors[5])"
   ]
  },
  {
   "cell_type": "markdown",
   "metadata": {},
   "source": [
    "We can count from the end of the list backwards by using negative index values. Index -1 is the last value, index -2 is the second last value, and so on."
   ]
  },
  {
   "cell_type": "code",
   "execution_count": null,
   "metadata": {},
   "outputs": [],
   "source": [
    "colors[-2]"
   ]
  },
  {
   "cell_type": "markdown",
   "metadata": {},
   "source": [
    "### List slicing"
   ]
  },
  {
   "cell_type": "markdown",
   "metadata": {},
   "source": [
    "Lists can also be *sliced* to access subsets of that list. The notation is [i:j], where *i* is the start index inclusive and *j* is the end index exclusive. Remember that we always count from index 0."
   ]
  },
  {
   "cell_type": "code",
   "execution_count": null,
   "metadata": {},
   "outputs": [],
   "source": [
    "bed_dips = [12,4,34,66,85,25,9]\n",
    "bed_dips[0:3] # first 3 elements"
   ]
  },
  {
   "cell_type": "code",
   "execution_count": null,
   "metadata": {},
   "outputs": [],
   "source": [
    "bed_dips[2:5] # elements 2, 3 and 4 (end index is not counted)"
   ]
  },
  {
   "cell_type": "code",
   "execution_count": null,
   "metadata": {},
   "outputs": [],
   "source": [
    "bed_dips[1:] # all elements from the 2nd one onewards"
   ]
  },
  {
   "cell_type": "code",
   "execution_count": null,
   "metadata": {},
   "outputs": [],
   "source": [
    "bed_dips[:4] # first 4 elements"
   ]
  },
  {
   "cell_type": "markdown",
   "metadata": {},
   "source": [
    "### Structuring lists"
   ]
  },
  {
   "cell_type": "markdown",
   "metadata": {},
   "source": [
    "Lists can begin empty, and be populated with variables later using the `append()` function."
   ]
  },
  {
   "cell_type": "code",
   "execution_count": null,
   "metadata": {},
   "outputs": [],
   "source": [
    "names = []\n",
    "ages = []\n",
    "\n",
    "# the append function accepts only one value at a time\n",
    "names.append('Sam')\n",
    "names.append('Rowan')\n",
    "names.append('Aran')\n",
    "\n",
    "ages.append(24)\n",
    "ages.append(56)\n",
    "ages.append(13)\n",
    "\n",
    "print(names)\n",
    "print(ages)"
   ]
  },
  {
   "cell_type": "markdown",
   "metadata": {},
   "source": [
    "**Nesting**: Lists can also be contained within other lists, which allows the construction of hierarchical data structures."
   ]
  },
  {
   "cell_type": "code",
   "execution_count": null,
   "metadata": {},
   "outputs": [],
   "source": [
    "person_data = [names, ages]\n",
    "print(person_data)"
   ]
  },
  {
   "cell_type": "markdown",
   "metadata": {},
   "source": [
    "Values in nested lists can be accessed using multiple indexes in square brackets:"
   ]
  },
  {
   "cell_type": "code",
   "execution_count": null,
   "metadata": {},
   "outputs": [],
   "source": [
    "person_data[0][2]"
   ]
  },
  {
   "cell_type": "markdown",
   "metadata": {},
   "source": [
    "We can also concatenate two or more lists together using the plus `+` operator:"
   ]
  },
  {
   "cell_type": "code",
   "execution_count": null,
   "metadata": {},
   "outputs": [],
   "source": [
    "names_and_ages = names + ages\n",
    "names_and_ages"
   ]
  },
  {
   "cell_type": "markdown",
   "metadata": {},
   "source": [
    "### Modifying and operating on lists"
   ]
  },
  {
   "cell_type": "markdown",
   "metadata": {},
   "source": [
    "**Membership operators**: The special `in` keyword can be used to test if a value is contained in a list and `not in` to test if something is not in a list."
   ]
  },
  {
   "cell_type": "code",
   "execution_count": null,
   "metadata": {},
   "outputs": [],
   "source": [
    "24 in names_and_ages"
   ]
  },
  {
   "cell_type": "code",
   "execution_count": null,
   "metadata": {},
   "outputs": [],
   "source": [
    "'Arran' in names_and_ages"
   ]
  },
  {
   "cell_type": "code",
   "execution_count": null,
   "metadata": {},
   "outputs": [],
   "source": [
    "'Aran' not in names_and_ages"
   ]
  },
  {
   "cell_type": "markdown",
   "metadata": {},
   "source": [
    "Values in a list can be changed after the list is created by specifying the index and performing assignment."
   ]
  },
  {
   "cell_type": "code",
   "execution_count": null,
   "metadata": {},
   "outputs": [],
   "source": [
    "print(bed_dips)\n",
    "bed_dips[1] = 44\n",
    "bed_dips"
   ]
  },
  {
   "cell_type": "markdown",
   "metadata": {},
   "source": [
    "End of notebook."
   ]
  }
 ],
 "metadata": {
  "kernelspec": {
   "display_name": "Python 3",
   "language": "python",
   "name": "python3"
  },
  "language_info": {
   "codemirror_mode": {
    "name": "ipython",
    "version": 3
   },
   "file_extension": ".py",
   "mimetype": "text/x-python",
   "name": "python",
   "nbconvert_exporter": "python",
   "pygments_lexer": "ipython3",
   "version": "3.8.5"
  }
 },
 "nbformat": 4,
 "nbformat_minor": 1
}
