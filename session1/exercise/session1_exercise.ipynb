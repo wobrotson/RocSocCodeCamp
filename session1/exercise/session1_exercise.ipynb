{
 "cells": [
  {
   "cell_type": "markdown",
   "metadata": {},
   "source": [
    "## Session 1 Exercise: basic Python concepts and data manipulation\n",
    "\n",
    "In this notebook, we will test out some of the basic coding skills we learnt in the session, along with a cheeky bonus section about text file reading and writing.\n",
    "\n",
    "Let's say we have a dataset of Arsenic concentrations from groundwater wells around Co. Dublin, measured in ppm, along with a separate list containing the area where the sample was taken:"
   ]
  },
  {
   "cell_type": "code",
   "execution_count": 1,
   "metadata": {},
   "outputs": [],
   "source": [
    "arsenic = [0.00453, 0.0127, 0.000946, 0.256, 0.00768, 0.0536]\n",
    "area = ['Glencullen', 'Ballymeece', 'Rathcoole', 'Castleknock', 'Dalkey', 'Malahide']"
   ]
  },
  {
   "cell_type": "markdown",
   "metadata": {},
   "source": [
    "1. Order the concentration data from smallest to largest, and print the result."
   ]
  },
  {
   "cell_type": "code",
   "execution_count": 2,
   "metadata": {},
   "outputs": [],
   "source": [
    "# your code goes here"
   ]
  },
  {
   "cell_type": "markdown",
   "metadata": {},
   "source": [
    "2. Write a function to convert the data from ppm to $\\mu$g/L (1 ppm = 1000 $\\mu$g/L). Apply this function to the concentration data to create a new list with a different, understandable variable name."
   ]
  },
  {
   "cell_type": "code",
   "execution_count": null,
   "metadata": {},
   "outputs": [],
   "source": [
    "# your code goes here"
   ]
  },
  {
   "cell_type": "markdown",
   "metadata": {},
   "source": [
    "3. Join the two lists together to create one list containing all the data"
   ]
  },
  {
   "cell_type": "code",
   "execution_count": null,
   "metadata": {},
   "outputs": [],
   "source": [
    "# your code goes here"
   ]
  },
  {
   "cell_type": "markdown",
   "metadata": {},
   "source": [
    "4. The maximum safe concentration for Arsenic in drinking water according to the WHO is 10 $\\mu$g/L. Filter the combined data for values that are higher than this and therefore dangerous. Write these values, and the area to which they correspond, to a new variable, 'dangerous_As_sites'."
   ]
  },
  {
   "cell_type": "code",
   "execution_count": null,
   "metadata": {},
   "outputs": [],
   "source": [
    "# your code goes here"
   ]
  },
  {
   "cell_type": "markdown",
   "metadata": {},
   "source": [
    "## Text file input and output\n",
    "\n",
    "Files are special types of variables in Python. We can open a file for reading, writing or appending using the built-in *open()* function. The first parameter is the location of the file and the second parameter is the action we want to take: \n",
    "- \"w\" = write\n",
    "- \"r\" = read\n",
    "- \"a\" = append.\n",
    "\n",
    "### Writing data to a file\n",
    "\n",
    "Let's write the updated dataset of 'dangerous Arsenic values' we made earlier to a .txt file, 'dangerous_As_sites.txt'.\n",
    "\n",
    "To open a new file for writing, we call the *open()* function, supply a path for the file and specify the \"w\" action to write. We need to convert all the elements of the list to strings to write them.\n",
    "\n",
    "Note: if the file already exists, it will be completely overwritten!"
   ]
  },
  {
   "cell_type": "code",
   "execution_count": null,
   "metadata": {},
   "outputs": [],
   "source": [
    "with open('dangerous_As_sites.txt','w') as fout:\n",
    "    fout.write('\\n'.join('%s,%s' % s for s in dangerous_As_sites)) # '\\n' denotes the start of a new line\n",
    "    \n",
    "# close the file for writing\n",
    "fout.close; # semi colon suppresses output"
   ]
  },
  {
   "cell_type": "markdown",
   "metadata": {},
   "source": [
    "### Reading data from a file\n",
    "\n",
    "Now let's read the file back in again, splitting the data into its constituent parts as we do so:"
   ]
  },
  {
   "cell_type": "code",
   "execution_count": null,
   "metadata": {},
   "outputs": [],
   "source": [
    "area_r = []\n",
    "arsenic_r = []\n",
    "\n",
    "with open('dangerous_As_sites.txt','r') as fin:\n",
    "    # process the file line by line\n",
    "    for line in fin.readlines():\n",
    "        # remove the newline character from the end\n",
    "        line = line.strip()\n",
    "        # split the line based on the comma separator\n",
    "        parts = line.split(',')\n",
    "        # write areas and concentrations to lists\n",
    "        area_r.append(parts[0])\n",
    "        arsenic_r.append(float(parts[1]))\n",
    "\n",
    "print(area_r)\n",
    "print(arsenic_r)"
   ]
  }
 ],
 "metadata": {
  "kernelspec": {
   "display_name": "Python 3",
   "language": "python",
   "name": "python3"
  },
  "language_info": {
   "codemirror_mode": {
    "name": "ipython",
    "version": 3
   },
   "file_extension": ".py",
   "mimetype": "text/x-python",
   "name": "python",
   "nbconvert_exporter": "python",
   "pygments_lexer": "ipython3",
   "version": "3.8.5"
  }
 },
 "nbformat": 4,
 "nbformat_minor": 4
}
